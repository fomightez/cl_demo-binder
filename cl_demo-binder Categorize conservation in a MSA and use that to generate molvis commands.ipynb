{
 "cells": [
  {
   "cell_type": "markdown",
   "metadata": {},
   "source": [
    "# Categorize conservation in a MSA and use that to generate molvis commands\n",
    "\n",
    "This will work through categorizing conservation from a multiple sequence alignment (MSA) and use that to generate commands for molecular visualization.\n",
    "\n",
    "The process relies initially on use of a script entitled `categorize_residues_based_on_conservation_relative_consensus_line.py`. Because that lays the groundwork for the process of creating commands from an alignment that can be used on the molecular structure visualization, and I didn't have a demo of that script yet elsewhere, I illustrate use of that script first. \n",
    "\n",
    "Technically, that script is a 'sequence analysis' script; however, it is very useful for bridging sequence analysis to molecular structure analysis as I hope the later part of this notebook illustrates.\n",
    "\n",
    "\n",
    "----\n",
    " \n",
    "<div class=\"alert alert-block alert-warning\">\n",
    "<p>If you haven't used one of these notebooks before, they're basically web pages in which you can write, edit, and run live code. They're meant to encourage experimentation, so don't feel nervous. Just try running a few cells and see what happens!.</p>\n",
    "\n",
    "<p>\n",
    "    Some tips:\n",
    "    <ul>\n",
    "        <li>Code cells have boxes around them. When you hover over them a <i class=\"fa-step-forward fa\"></i> icon appears.</li>\n",
    "        <li>To run a code cell either click the <i class=\"fa-step-forward fa\"></i> icon, or click on the cell and then hit <b>Shift+Enter</b>. The <b>Shift+Enter</b> combo will also move you to the next cell, so it's a quick way to work through the notebook.</li>\n",
    "        <li>While a cell is running a <b>*</b> appears in the square brackets next to the cell. Once the cell has finished running the asterisk will be replaced with a number.</li>\n",
    "        <li>In most cases you'll want to start from the top of notebook and work your way down running each cell in turn. Later cells might depend on the results of earlier ones.</li>\n",
    "        <li>To edit a code cell, just click on it and type stuff. Remember to run the cell once you've finished editing.</li>\n",
    "    </ul>\n",
    "</p>\n",
    "</div>"
   ]
  },
  {
   "cell_type": "markdown",
   "metadata": {},
   "source": [
    "----\n",
    "\n",
    "### Preparation\n",
    "\n",
    "The next cell will retrieve the necessary script."
   ]
  },
  {
   "cell_type": "code",
   "execution_count": 1,
   "metadata": {},
   "outputs": [
    {
     "name": "stdout",
     "output_type": "stream",
     "text": [
      "  % Total    % Received % Xferd  Average Speed   Time    Time     Time  Current\n",
      "                                 Dload  Upload   Total   Spent    Left  Speed\n",
      "100 26493  100 26493    0     0   256k      0 --:--:-- --:--:-- --:--:--  256k\n"
     ]
    }
   ],
   "source": [
    "#get script to use to categorize\n",
    "!curl -OL https://raw.githubusercontent.com/fomightez/sequencework/master/alignment-utilities/categorize_residues_based_on_conservation_relative_consensus_line.py"
   ]
  },
  {
   "cell_type": "markdown",
   "metadata": {},
   "source": [
    "An alignment file is needed as input. The next cell will handle retrieving one.\n",
    "\n",
    "Details of the retrieved alignment:\n",
    "\n",
    "Fasta-formattted sequences were downloaded from under 'Sequence' at [here for Stv1p](https://www.yeastgenome.org/locus/S000004658/protein) and [here for Vph1p](https://www.yeastgenome.org/locus/S000005796/protein). These were then combined into one file, the asterisks at the end of each sequence removed (in order to avoid the error `*** WARNING ***  Invalid character '*' in FASTA sequence data, ignored`) and submitted for alignment by [MUSCLE here](https://www.ebi.ac.uk/Tools/msa/muscle/). Default settings were used. The alignment was produced in Clustal format with consensus symbols line along the bottom."
   ]
  },
  {
   "cell_type": "code",
   "execution_count": 2,
   "metadata": {},
   "outputs": [
    {
     "name": "stdout",
     "output_type": "stream",
     "text": [
      "  % Total    % Received % Xferd  Average Speed   Time    Time     Time  Current\n",
      "                                 Dload  Upload   Total   Spent    Left  Speed\n",
      "100  3633  100  3633    0     0  30275      0 --:--:-- --:--:-- --:--:-- 30275\n"
     ]
    }
   ],
   "source": [
    "# Get an alignment file\n",
    "!curl -o alignment.clw https://gist.githubusercontent.com/fomightez/f46b0624f1d8e3abb6ff908fc447e63b/raw/e4cfaae56c69d9c21ad5357b820e6397747c3a88/Stv1p_Vph1p_muscle_alignment.clw"
   ]
  },
  {
   "cell_type": "code",
   "execution_count": 3,
   "metadata": {},
   "outputs": [
    {
     "name": "stdout",
     "output_type": "stream",
     "text": [
      "CLUSTAL multiple sequence alignment by MUSCLE (3.8)\n",
      "\n",
      "\n",
      "STV1            -MNQEEAIFRSADMTYVQLYIPLEVIREVTFLLGKMSVFMVMDLNKDLTAFQRGYVNQLR\n",
      "VPH1            MAEKEEAIFRSAEMALVQFYIPQEISRDSAYTLGQLGLVQFRDLNSKVRAFQRTFVNEIR\n",
      "                  ::********:*: **:*** *: *: :: **::.:. . ***..: **** :**::*\n",
      "\n",
      "STV1            RFDEVERMVGFLNEVVEKHAAETW-----KYILHIDDEGNDIAQPDMADLINTMEPLSLE\n",
      "VPH1            RLDNVERQYRYFYSLLKKHDIKLYEGDTDKYL----DGSGELYVPPSGSVI---------\n",
      "                *:*:***   :: .:::**  : :     **:    * ..::  *  ..:*         \n"
     ]
    }
   ],
   "source": [
    "#verify have alignment file\n",
    "!head alignment.clw"
   ]
  },
  {
   "cell_type": "markdown",
   "metadata": {},
   "source": [
    "You'll want to upload your own alignments to the active Jupyter session in the typical way; if you can click the Jupyter logo in the upper right you'll be taken to a dashboard with a file handing user interface. (Or once it is retrieved, open and replace the contents of `alignment.clw` with your own alignment.)\n",
    "\n",
    "Note, because white space is critical for the consensus symbols line, it is  best to save the alignment file directly from EMBL-EBI and use that file as input for this script, rather than doing copy-paste from the site. For example, via copy-paste it may be easy to miss the spaces on the last line of the consensus symbols line in the case of two sequences that mismatch for the span of the entire last row of an alignment."
   ]
  },
  {
   "cell_type": "markdown",
   "metadata": {},
   "source": [
    "## Use categorizing script via command line"
   ]
  },
  {
   "cell_type": "markdown",
   "metadata": {},
   "source": [
    "The script akes an multiple sequence alignment (in CLUSTAL format) that has a consensus line, say from MUSCLE at https://www.ebi.ac.uk/Tools/msa/muscle/, and for a specific sequence in thealignment categorizes the residues that are identical, strongly, similar, or weakly similar in the alignment. It also categorizes those not conserved in the process.\n",
    "\n",
    "See 'What do the consensus symbols mean in the alignment?' [here](https://www.ebi.ac.uk/Tools/msa/clustalw2/help/faq.html#23) for explanation of the indicators. \n",
    "\n",
    "Importantly, residue positions in the results are in common terms where the first residue is number one.\n",
    "\n",
    "Assumes the CLUSTAL alignment is provided with a header line as it would \n",
    "come from EMBl-EBI's Muscle.( Doesn't check it matches anything. Just assumes nothing in the first line is of interest.)\n",
    "\n",
    "Note, because white space is critical for the consensus symbols line, it is  best to save the alignment file directly from EMBL-EBI and use that file as input for this script, rather than doing copy-paste from the site. For example, via copy-paste it may be easy to miss the spaces on the last line of the consensus symbols line in the case of two sequences that mismatch for the span of the entire last row of an alignment.\n",
    "\n",
    "#### Display `USAGE`"
   ]
  },
  {
   "cell_type": "code",
   "execution_count": 4,
   "metadata": {},
   "outputs": [
    {
     "name": "stdout",
     "output_type": "stream",
     "text": [
      "usage: categorize_residues_based_on_conservation_relative_consensus_line.py\n",
      "       [-h] [-og {single,separate}] [-ot {tabular_text,panel_data}]\n",
      "       ALIGNMENT_FILE ID\n",
      "\n",
      "categorize_residues_based_on_conservation_relative_consensus_line.py takes an\n",
      "multiple sequence alignment (in CLUSTAL format) that has a consensus line, say\n",
      "from MUSCLE at https://www.ebi.ac.uk/Tools/msa/muscle/, and for a specific\n",
      "sequence in the alignment categorizes the residues that are identical,\n",
      "strongly , similar, weakly similar, or unconserved in the alignment. ****\n",
      "Script by Wayne Decatur (fomightez @ github) ***\n",
      "\n",
      "positional arguments:\n",
      "  ALIGNMENT_FILE        Name of file of alignmnet text file to use to\n",
      "                        categorize residues.\n",
      "  ID                    Identifier that has the residues to categorize\n",
      "                        relative consensus symbols.\n",
      "\n",
      "optional arguments:\n",
      "  -h, --help            show this help message and exit\n",
      "  -og {single,separate}, --output_grouping {single,separate}\n",
      "                        OPTIONAL: Specify grouping of output with this option.\n",
      "                        Choose `-og single` for one table or dataframe for all\n",
      "                        categories. Or choose `-og separate` for a separate\n",
      "                        table or dataframe for each category. If this option\n",
      "                        is not specified, single will be used.\n",
      "  -ot {tabular_text,panel_data}, --output_type {tabular_text,panel_data}\n",
      "                        OPTIONAL: Specify output type with this option. Choose\n",
      "                        `-ot tabular_text` for tabular data in a tab-separated\n",
      "                        text file. Choose `-ot panel_data` for dataframe or\n",
      "                        dataframes. If this option is not specified,\n",
      "                        tabular_text will be used. For either, whether output\n",
      "                        files singular or multiple depends on `og` option\n",
      "                        setting.\n"
     ]
    }
   ],
   "source": [
    "!python categorize_residues_based_on_conservation_relative_consensus_line.py -h"
   ]
  },
  {
   "cell_type": "markdown",
   "metadata": {},
   "source": [
    "#### Command line use example #1: basic command (tabular text file)\n",
    "\n",
    "The minimum the script needs to analyze an alignment is to specify the alignment file name followed by the designation of the sequence for which to detail conserved positions."
   ]
  },
  {
   "cell_type": "code",
   "execution_count": 5,
   "metadata": {},
   "outputs": [
    {
     "name": "stderr",
     "output_type": "stream",
     "text": [
      "\n",
      "**NOTE: gap indicator in this script is currently set to '-'. If\n",
      "that does not match what provided alignment uses to indicate gaps,\n",
      "please change the setting within the script code under\n",
      "'USER ADJUSTABLE VALUES' around line 110 (give or take a few).**\n",
      "Alignment read...top line identifier determined as 'STV1'...\n",
      "...Processing information about sequence with id of 'VPH1'.\n",
      "\n",
      "Data a saved in tabular text form (tab-separated form) as 'categorized_consv_VPH1_residues.tsv'.\n"
     ]
    }
   ],
   "source": [
    "%run categorize_residues_based_on_conservation_relative_consensus_line.py alignment.clw VPH1 "
   ]
  },
  {
   "cell_type": "markdown",
   "metadata": {},
   "source": [
    "See the result:"
   ]
  },
  {
   "cell_type": "code",
   "execution_count": 6,
   "metadata": {},
   "outputs": [
    {
     "name": "stdout",
     "output_type": "stream",
     "text": [
      "category\tresidue_positions\n",
      "identical\t5,6,7,8,9,10,11,12,14,17,18,20,21,22,24,27,33,34,43,44,45,50,51,52,53,56,57,60,61,63,65,66,67,78,79,90,91,93,101,107,109,111,118,120,123,129,136,137,138,142,151,155,158,166,170,176,188,189,191,193,195,196,199,202,203,204,205,207,208,209,210,211,213,218,219,221,229,233,236,237,239,241,242,247,255,256,271,278,283,284,288,290,291,294,295,298,299,302,306,309,315,316,317,323,324,325,335,336,337,338,339,340,342,345,346,349,350,353,357,360,361,370,373,374,377,378,379,381,382,383,384,385,386,387,390,391,392,393,395,397,398,399,400,402,404,405,406,407,408,409,411,413,414,415,416,417,418,419,420,421,422,423,424,425,426,427,428,429,430,434,436,437,439,440,441,442,443,445,449,451,453,454,455,456,457,458,459,460,461,462,463,466,467,468,469,471,472,474,475,476,478,479,480,481,482,483,484,485,487,488,489,490,491,492,493,494,496,497,502,503,504,505,506,508,512,514,515,517,518,519,521,522,523,524,525,527,529,530,531,532,533,534,535,536,537,538,539,540,541,542,543,544,547,548,549,550,551,554,555,558,563,564,567,568,569,570,571,572,573,574,575,576,578,579,580,582,583,584,585,586,587,590,591,592,593,594,597,598,600,601,603,604,605,606,607,608,609,610,611,612,613,614,615,616,617,619,620,621,622,623,624,626,627,630,631,632,634,635,637,638,639,641,642,643,644,646,647,648,649,650,652,653,654,661,672,676,678,693,697,699,700,702,705,708,709,710,712,713,714,715,716,717,718,719,720,721,722,723,724,725,726,728,729,730,731,732,733,734,735,736,737,738,739,740,741,742,743,744,745,746,747,748,749,750,751,753,754,755,758,759,767,771,773,774,775,776,777,778,780,781,785,786,788,789,790,791,792,793,794,795,796,798,799,800,801,802,803,804,806,807,808,809,810,812,813,814,817,818,819,820,822,830\n",
      "strongly_similar\t3,4,13,15,19,25,28,30,31,35,36,38,48,55,58,59,62,64,71,72,75,76,77,82,84,92,97,98,106,108,113,115,124,125,126,127,131,134,140,144,145,150,152,153,159,165,169,174,175,177,179,180,183,186,187,200,206,212,214,220,222,225,226,234,238,240,243,245,246,249,252,254,257,259,260,263,264,265,272,274,277,280,281,287,297,305,319,320,328,329,331,333,341,355,363,366,367,368,369,371,375,380,412,431,432,446,450,464,465,473,477,486,495,500,516,520,526,545,552,553,559,566,577,595,599,618,625,633,645,656,660,662,663,665,666,668,674,677,680,681,685,694,696,704,707,711,727,765,768,784,787,797,805,821,831\n",
      "weakly_similar\t37,39,41,46,47,74,95,96,104,105,112,119,130,147,149,160,172,181,184,185,201,215,216,228,235,248,250,251,258,262,267,276,279,282,289,292,301,304,313,314,365,389,396,403,410,444,447,452,470,498,501,509,510,511,513,528,581,589,602,628,636,657,664,667,670,679,682,687,688,690,691,698,701,703,756,760,762,763,766,770,779,783,816,833\n",
      "not_conserved\t1,2,16,23,26,29,32,40,42,49,54,68,69,70,73,80,81,83,85,86,87,88,89,94,99,100,102,103,110,114,116,117,121,122,128,132,133,135,139,141,143,146,148,154,156,157,161,162,163,164,167,168,171,173,178,182,190,192,194,197,198,217,223,224,227,230,231,232,244,253,261,266,268,269,270,273,275,285,286,293,296,300,303,307,308,310,311,312,318,321,322,326,327,330,332,334,343,344,347,348,351,352,354,356,358,359,362,364,372,376,388,394,401,433,435,438,448,499,507,546,556,557,560,561,562,565,588,596,629,640,651,655,658,659,669,671,673,675,683,684,686,689,692,695,706,752,757,761,764,769,772,782,811,815,823,824,825,826,827,828,829,832,834,835,836,837,838,839,840\n"
     ]
    }
   ],
   "source": [
    "!head categorized_consv_VPH1_residues.tsv"
   ]
  },
  {
   "cell_type": "markdown",
   "metadata": {},
   "source": [
    "That produces output where each line is a category, a tab separator, and then the listing of the residue positions that match that category separated by a comma."
   ]
  },
  {
   "cell_type": "markdown",
   "metadata": {},
   "source": [
    "There are other options for the output though from the command line. These involve how the details are grouped, i.e., in on file or a separate file for each catergory. Or whether the output is tabular text or pickled dataframes. These are demonstrated in the next examples."
   ]
  },
  {
   "cell_type": "markdown",
   "metadata": {},
   "source": [
    "#### Command line use example #2: separate tabular text files for each category\n",
    "\n",
    "Separate files for the output can be specified using the `--output_grouping` option, abbreviated `-og`.\n",
    "\n",
    "The next cell demonstrates setting it to result in tab-sparated tabular text files for each category."
   ]
  },
  {
   "cell_type": "code",
   "execution_count": 7,
   "metadata": {},
   "outputs": [
    {
     "name": "stderr",
     "output_type": "stream",
     "text": [
      "\n",
      "**NOTE: gap indicator in this script is currently set to '-'. If\n",
      "that does not match what provided alignment uses to indicate gaps,\n",
      "please change the setting within the script code under\n",
      "'USER ADJUSTABLE VALUES' around line 110 (give or take a few).**\n",
      "Alignment read...top line identifier determined as 'STV1'...\n",
      "...Processing information about sequence with id of 'VPH1'.\n",
      "\n",
      "Data saved in tabular text form (tab-separated form) as:\n",
      "       'not_conserved_VPH1_residues.tsv'.\n",
      "\n",
      "       'strongly_similar_VPH1_residues.tsv'.\n",
      "\n",
      "       'identical_VPH1_residues.tsv'.\n",
      "\n",
      "       'weakly_similar_VPH1_residues.tsv'.\n"
     ]
    }
   ],
   "source": [
    "%run categorize_residues_based_on_conservation_relative_consensus_line.py alignment.clw VPH1 --output_grouping separate "
   ]
  },
  {
   "cell_type": "markdown",
   "metadata": {},
   "source": [
    "Let's look at one of those files to compare with the default of 'single' grouping."
   ]
  },
  {
   "cell_type": "code",
   "execution_count": 8,
   "metadata": {},
   "outputs": [
    {
     "name": "stdout",
     "output_type": "stream",
     "text": [
      "weakly_similar_residue_pos\n",
      "37\n",
      "39\n",
      "41\n",
      "46\n",
      "47\n",
      "74\n",
      "95\n",
      "96\n",
      "104\n"
     ]
    }
   ],
   "source": [
    "!head weakly_similar_VPH1_residues.tsv"
   ]
  },
  {
   "cell_type": "markdown",
   "metadata": {},
   "source": [
    "This produces a listing of the residues positions with one on each line."
   ]
  },
  {
   "cell_type": "markdown",
   "metadata": {},
   "source": [
    "#### Command line use example #3: a dataframe stored in file form as output\n",
    "\n",
    "For those wishing to utilize this data in Python subsequently, Pandas dataframes in pickled form can be specified using the `--output_type` option, abbreviated `-ot` .\n",
    "\n",
    "The next cell demonstrates setting it to result in a pickled dataframe."
   ]
  },
  {
   "cell_type": "code",
   "execution_count": 9,
   "metadata": {},
   "outputs": [
    {
     "name": "stderr",
     "output_type": "stream",
     "text": [
      "\n",
      "**NOTE: gap indicator in this script is currently set to '-'. If\n",
      "that does not match what provided alignment uses to indicate gaps,\n",
      "please change the setting within the script code under\n",
      "'USER ADJUSTABLE VALUES' around line 110 (give or take a few).**\n",
      "Alignment read...top line identifier determined as 'STV1'...\n",
      "...Processing information about sequence with id of 'VPH1'.\n",
      "\n",
      "Data saved in pickled dataframe form as 'categorized_consv_VPH1_residues.pkl'.\n"
     ]
    }
   ],
   "source": [
    "%run categorize_residues_based_on_conservation_relative_consensus_line.py alignment.clw VPH1 --output_type panel_data "
   ]
  },
  {
   "cell_type": "markdown",
   "metadata": {},
   "source": [
    "Showing that worked by reading the pickled dataframe back into this notebook. \n",
    "\n",
    "The first column of this dataframe is the categories. The residue positions column is a list of the positions for each category."
   ]
  },
  {
   "cell_type": "code",
   "execution_count": 10,
   "metadata": {},
   "outputs": [
    {
     "data": {
      "text/html": [
       "<div>\n",
       "<style scoped>\n",
       "    .dataframe tbody tr th:only-of-type {\n",
       "        vertical-align: middle;\n",
       "    }\n",
       "\n",
       "    .dataframe tbody tr th {\n",
       "        vertical-align: top;\n",
       "    }\n",
       "\n",
       "    .dataframe thead th {\n",
       "        text-align: right;\n",
       "    }\n",
       "</style>\n",
       "<table border=\"1\" class=\"dataframe\">\n",
       "  <thead>\n",
       "    <tr style=\"text-align: right;\">\n",
       "      <th></th>\n",
       "      <th>category</th>\n",
       "      <th>residue_positions</th>\n",
       "    </tr>\n",
       "  </thead>\n",
       "  <tbody>\n",
       "    <tr>\n",
       "      <th>0</th>\n",
       "      <td>identical</td>\n",
       "      <td>[5, 6, 7, 8, 9, 10, 11, 12, 14, 17, 18, 20, 21...</td>\n",
       "    </tr>\n",
       "    <tr>\n",
       "      <th>1</th>\n",
       "      <td>strongly_similar</td>\n",
       "      <td>[3, 4, 13, 15, 19, 25, 28, 30, 31, 35, 36, 38,...</td>\n",
       "    </tr>\n",
       "    <tr>\n",
       "      <th>2</th>\n",
       "      <td>weakly_similar</td>\n",
       "      <td>[37, 39, 41, 46, 47, 74, 95, 96, 104, 105, 112...</td>\n",
       "    </tr>\n",
       "    <tr>\n",
       "      <th>3</th>\n",
       "      <td>not_conserved</td>\n",
       "      <td>[1, 2, 16, 23, 26, 29, 32, 40, 42, 49, 54, 68,...</td>\n",
       "    </tr>\n",
       "  </tbody>\n",
       "</table>\n",
       "</div>"
      ],
      "text/plain": [
       "           category                                  residue_positions\n",
       "0         identical  [5, 6, 7, 8, 9, 10, 11, 12, 14, 17, 18, 20, 21...\n",
       "1  strongly_similar  [3, 4, 13, 15, 19, 25, 28, 30, 31, 35, 36, 38,...\n",
       "2    weakly_similar  [37, 39, 41, 46, 47, 74, 95, 96, 104, 105, 112...\n",
       "3     not_conserved  [1, 2, 16, 23, 26, 29, 32, 40, 42, 49, 54, 68,..."
      ]
     },
     "execution_count": 10,
     "metadata": {},
     "output_type": "execute_result"
    }
   ],
   "source": [
    "import pandas as pd\n",
    "cat_df = pd.read_pickle(\"categorized_consv_VPH1_residues.pkl\")\n",
    "cat_df"
   ]
  },
  {
   "cell_type": "markdown",
   "metadata": {},
   "source": [
    "Note if you are working in Python subsequently, you should check out the next section where importing the main function of the script into a Jupyter notebook or IPython session and passing an active dataframe (or dataframes if specifying not wanting the categories all in a single file) back into a Jupyter notebook directly are illustrated."
   ]
  },
  {
   "cell_type": "markdown",
   "metadata": {},
   "source": [
    "### Command line use example #4: separate panel data (dataframes)\n",
    "\n",
    "The two optional settings can also be combined to output a pickled dataframe for each category of conservation."
   ]
  },
  {
   "cell_type": "code",
   "execution_count": 11,
   "metadata": {},
   "outputs": [
    {
     "name": "stderr",
     "output_type": "stream",
     "text": [
      "\n",
      "**NOTE: gap indicator in this script is currently set to '-'. If\n",
      "that does not match what provided alignment uses to indicate gaps,\n",
      "please change the setting within the script code under\n",
      "'USER ADJUSTABLE VALUES' around line 110 (give or take a few).**\n",
      "Alignment read...top line identifier determined as 'STV1'...\n",
      "...Processing information about sequence with id of 'VPH1'.\n",
      "\n",
      "Data saved in pickled dataframe form as:\n",
      "       'not_conserved_VPH1_residues.pkl'.\n",
      "\n",
      "       'strongly_similar_VPH1_residues.pkl'.\n",
      "\n",
      "       'identical_VPH1_residues.pkl'.\n",
      "\n",
      "       'weakly_similar_VPH1_residues.pkl'.\n"
     ]
    }
   ],
   "source": [
    "%run categorize_residues_based_on_conservation_relative_consensus_line.py alignment.clw VPH1 -og separate -ot panel_data "
   ]
  },
  {
   "cell_type": "markdown",
   "metadata": {},
   "source": [
    "Each dataframe lists the pertinent residue positions when this setting is used.\n",
    "\n",
    "The next call will show that by reading one of the produced pickled dataframe files back into this notebook sesion. The first few lines of the data are shown."
   ]
  },
  {
   "cell_type": "code",
   "execution_count": 12,
   "metadata": {},
   "outputs": [
    {
     "data": {
      "text/html": [
       "<div>\n",
       "<style scoped>\n",
       "    .dataframe tbody tr th:only-of-type {\n",
       "        vertical-align: middle;\n",
       "    }\n",
       "\n",
       "    .dataframe tbody tr th {\n",
       "        vertical-align: top;\n",
       "    }\n",
       "\n",
       "    .dataframe thead th {\n",
       "        text-align: right;\n",
       "    }\n",
       "</style>\n",
       "<table border=\"1\" class=\"dataframe\">\n",
       "  <thead>\n",
       "    <tr style=\"text-align: right;\">\n",
       "      <th></th>\n",
       "      <th>weakly_similar_residue_pos</th>\n",
       "    </tr>\n",
       "  </thead>\n",
       "  <tbody>\n",
       "    <tr>\n",
       "      <th>0</th>\n",
       "      <td>37</td>\n",
       "    </tr>\n",
       "    <tr>\n",
       "      <th>1</th>\n",
       "      <td>39</td>\n",
       "    </tr>\n",
       "    <tr>\n",
       "      <th>2</th>\n",
       "      <td>41</td>\n",
       "    </tr>\n",
       "    <tr>\n",
       "      <th>3</th>\n",
       "      <td>46</td>\n",
       "    </tr>\n",
       "    <tr>\n",
       "      <th>4</th>\n",
       "      <td>47</td>\n",
       "    </tr>\n",
       "  </tbody>\n",
       "</table>\n",
       "</div>"
      ],
      "text/plain": [
       "   weakly_similar_residue_pos\n",
       "0                          37\n",
       "1                          39\n",
       "2                          41\n",
       "3                          46\n",
       "4                          47"
      ]
     },
     "execution_count": 12,
     "metadata": {},
     "output_type": "execute_result"
    }
   ],
   "source": [
    "import pandas as pd\n",
    "cat_df = pd.read_pickle(\"weakly_similar_VPH1_residues.pkl\")\n",
    "cat_df.head()"
   ]
  },
  {
   "cell_type": "markdown",
   "metadata": {},
   "source": [
    "Note if you are working in Python subsequently, you should check out the next section where importing the main function of the script into a Jupyter notebook or IPython session and passing an active dataframe (or dataframes if specifying not wanting the categories all in a single file) back into a Jupyter notebook directly are illustrated."
   ]
  },
  {
   "cell_type": "markdown",
   "metadata": {},
   "source": [
    "## Use categorizing function via import"
   ]
  },
  {
   "cell_type": "markdown",
   "metadata": {},
   "source": [
    "In addition to being able to be run from the command line, the main function imported into a Jupyter notebook (or IPython session) and it can pass back dataframe(s) with the results. This section illustrates that.\n",
    "\n",
    "First you import the function into the notebook or IPython environment."
   ]
  },
  {
   "cell_type": "code",
   "execution_count": 13,
   "metadata": {},
   "outputs": [],
   "source": [
    "from categorize_residues_based_on_conservation_relative_consensus_line import categorize_residues_based_on_conservation_relative_consensus_line"
   ]
  },
  {
   "cell_type": "markdown",
   "metadata": {},
   "source": [
    "That command looks a bit redundant because the first 'from' is addressing the name of the script. The convention / syntax is not to include the extension though. The second part is specifying to import the function `categorize_residues_based_on_conservation_relative_consensus_line()`.\n",
    "\n",
    "Now that `categorize_residues_based_on_conservation_relative_consensus_line()` is imported, it can be used. As with using the script fom the command line, the function has a number of options that can be used."
   ]
  },
  {
   "cell_type": "markdown",
   "metadata": {},
   "source": [
    "#### function use example #1: basic command (tabular text file)\n",
    "\n",
    "The minimum the function needs is to specify the alignment file name followed by the designation of the sequence for which to detail conserved positions."
   ]
  },
  {
   "cell_type": "code",
   "execution_count": 14,
   "metadata": {},
   "outputs": [
    {
     "name": "stderr",
     "output_type": "stream",
     "text": [
      "\n",
      "**NOTE: gap indicator in this script is currently set to '-'. If\n",
      "that does not match what provided alignment uses to indicate gaps,\n",
      "please change the setting within the script code under\n",
      "'USER ADJUSTABLE VALUES' around line 110 (give or take a few).**\n",
      "Alignment read...top line identifier determined as 'STV1'...\n",
      "...Processing information about sequence with id of 'VPH1'.\n",
      "\n",
      "Data a saved in tabular text form (tab-separated form) as 'categorized_consv_VPH1_residues.tsv'.\n"
     ]
    }
   ],
   "source": [
    "categorize_residues_based_on_conservation_relative_consensus_line(\"alignment.clw\",\"VPH1\")"
   ]
  },
  {
   "cell_type": "markdown",
   "metadata": {},
   "source": [
    "That produces the same output as the basic command line form, i.e., a single tabular text tile with each category followed by a tab separot and then and a list of residues corresponding to that. The positions are separated by a comma."
   ]
  },
  {
   "cell_type": "markdown",
   "metadata": {},
   "source": [
    "#### function use example #2: separate tabular text files for each category\n",
    "\n",
    "Separate files for the output can be specified when calling the function by setting `output_multiple` to true. The default is for the outout to be tab-separated text and so no other settings are needed when calling the function.\n",
    "\n",
    "The next cell demonstrates setting it to result in tab-sparated tabular text files for each category."
   ]
  },
  {
   "cell_type": "code",
   "execution_count": 15,
   "metadata": {},
   "outputs": [
    {
     "name": "stderr",
     "output_type": "stream",
     "text": [
      "\n",
      "**NOTE: gap indicator in this script is currently set to '-'. If\n",
      "that does not match what provided alignment uses to indicate gaps,\n",
      "please change the setting within the script code under\n",
      "'USER ADJUSTABLE VALUES' around line 110 (give or take a few).**\n",
      "Alignment read...top line identifier determined as 'STV1'...\n",
      "...Processing information about sequence with id of 'VPH1'.\n",
      "\n",
      "Data a saved in tabular text form (tab-separated form) as 'categorized_consv_VPH1_residues.tsv'.\n",
      "\n",
      "Data saved in tabular text form (tab-separated form) as:\n",
      "       'not_conserved_VPH1_residues.tsv'.\n",
      "\n",
      "       'strongly_similar_VPH1_residues.tsv'.\n",
      "\n",
      "       'identical_VPH1_residues.tsv'.\n",
      "\n",
      "       'weakly_similar_VPH1_residues.tsv'.\n"
     ]
    }
   ],
   "source": [
    "categorize_residues_based_on_conservation_relative_consensus_line(\"alignment.clw\",\"VPH1\", output_separate = True)"
   ]
  },
  {
   "cell_type": "markdown",
   "metadata": {},
   "source": [
    "#### function use example #3: return a dataframe\n",
    "\n",
    "For those wishing to utilize this data in Python, a dataframe can be returned by setting `return_panel_data` to true.\n",
    "\n",
    "The next cell demonstrates setting in the dataframe being an active object in the notebook environment."
   ]
  },
  {
   "cell_type": "code",
   "execution_count": 16,
   "metadata": {},
   "outputs": [
    {
     "name": "stderr",
     "output_type": "stream",
     "text": [
      "\n",
      "**NOTE: gap indicator in this script is currently set to '-'. If\n",
      "that does not match what provided alignment uses to indicate gaps,\n",
      "please change the setting within the script code under\n",
      "'USER ADJUSTABLE VALUES' around line 110 (give or take a few).**\n",
      "Alignment read...top line identifier determined as 'STV1'...\n",
      "...Processing information about sequence with id of 'VPH1'.\n",
      "\n",
      "Data a saved in tabular text form (tab-separated form) as 'categorized_consv_VPH1_residues.tsv'.\n",
      "\n",
      "Returning a single dataframe of residue positions, one list per category."
     ]
    },
    {
     "data": {
      "text/html": [
       "<div>\n",
       "<style scoped>\n",
       "    .dataframe tbody tr th:only-of-type {\n",
       "        vertical-align: middle;\n",
       "    }\n",
       "\n",
       "    .dataframe tbody tr th {\n",
       "        vertical-align: top;\n",
       "    }\n",
       "\n",
       "    .dataframe thead th {\n",
       "        text-align: right;\n",
       "    }\n",
       "</style>\n",
       "<table border=\"1\" class=\"dataframe\">\n",
       "  <thead>\n",
       "    <tr style=\"text-align: right;\">\n",
       "      <th></th>\n",
       "      <th>category</th>\n",
       "      <th>residue_positions</th>\n",
       "    </tr>\n",
       "  </thead>\n",
       "  <tbody>\n",
       "    <tr>\n",
       "      <th>0</th>\n",
       "      <td>identical</td>\n",
       "      <td>[5, 6, 7, 8, 9, 10, 11, 12, 14, 17, 18, 20, 21...</td>\n",
       "    </tr>\n",
       "    <tr>\n",
       "      <th>1</th>\n",
       "      <td>strongly_similar</td>\n",
       "      <td>[3, 4, 13, 15, 19, 25, 28, 30, 31, 35, 36, 38,...</td>\n",
       "    </tr>\n",
       "    <tr>\n",
       "      <th>2</th>\n",
       "      <td>weakly_similar</td>\n",
       "      <td>[37, 39, 41, 46, 47, 74, 95, 96, 104, 105, 112...</td>\n",
       "    </tr>\n",
       "    <tr>\n",
       "      <th>3</th>\n",
       "      <td>not_conserved</td>\n",
       "      <td>[1, 2, 16, 23, 26, 29, 32, 40, 42, 49, 54, 68,...</td>\n",
       "    </tr>\n",
       "  </tbody>\n",
       "</table>\n",
       "</div>"
      ],
      "text/plain": [
       "           category                                  residue_positions\n",
       "0         identical  [5, 6, 7, 8, 9, 10, 11, 12, 14, 17, 18, 20, 21...\n",
       "1  strongly_similar  [3, 4, 13, 15, 19, 25, 28, 30, 31, 35, 36, 38,...\n",
       "2    weakly_similar  [37, 39, 41, 46, 47, 74, 95, 96, 104, 105, 112...\n",
       "3     not_conserved  [1, 2, 16, 23, 26, 29, 32, 40, 42, 49, 54, 68,..."
      ]
     },
     "execution_count": 16,
     "metadata": {},
     "output_type": "execute_result"
    }
   ],
   "source": [
    "df = categorize_residues_based_on_conservation_relative_consensus_line(\"alignment.clw\",\"VPH1\", return_panel_data = True)\n",
    "df"
   ]
  },
  {
   "cell_type": "markdown",
   "metadata": {},
   "source": [
    "For each category, the residue positions are a python list of the residues.\n",
    "\n",
    "Use of such a dataframe to continue efforts with Python produce something useful will be demonstrated in the final section of the notebook after this last example."
   ]
  },
  {
   "cell_type": "markdown",
   "metadata": {},
   "source": [
    "### function use example #4: return a separate dataframe for each category\n",
    "\n",
    "Alternatively, a separate dataframe can be produced for each category by setting `output_separate` to true when calling the script with `return_panel_data = True`, as well. "
   ]
  },
  {
   "cell_type": "code",
   "execution_count": 17,
   "metadata": {},
   "outputs": [
    {
     "name": "stderr",
     "output_type": "stream",
     "text": [
      "\n",
      "**NOTE: gap indicator in this script is currently set to '-'. If\n",
      "that does not match what provided alignment uses to indicate gaps,\n",
      "please change the setting within the script code under\n",
      "'USER ADJUSTABLE VALUES' around line 110 (give or take a few).**\n",
      "Alignment read...top line identifier determined as 'STV1'...\n",
      "...Processing information about sequence with id of 'VPH1'.\n",
      "\n",
      "Data a saved in tabular text form (tab-separated form) as 'categorized_consv_VPH1_residues.tsv'.\n",
      "\n",
      "Data saved in tabular text form (tab-separated form) as:\n",
      "       'not_conserved_VPH1_residues.tsv'.\n",
      "\n",
      "       'strongly_similar_VPH1_residues.tsv'.\n",
      "\n",
      "       'identical_VPH1_residues.tsv'.\n",
      "\n",
      "       'weakly_similar_VPH1_residues.tsv'.\n",
      "\n",
      "Returning a a dictionary of 4 dataframes , one dataframe for each category. The dictionary keys\n",
      "are the categories:'not_conserved','strongly_similar','identical','weakly_similar'."
     ]
    }
   ],
   "source": [
    "df_dict = categorize_residues_based_on_conservation_relative_consensus_line(\"alignment.clw\",\"VPH1\", return_panel_data = True, output_separate = True)"
   ]
  },
  {
   "cell_type": "markdown",
   "metadata": {},
   "source": [
    "The individual dataframes are returned as a dicitonary of dataframes with the categories as keys. In the dataframes, each row is a residue under that category. "
   ]
  },
  {
   "cell_type": "code",
   "execution_count": 18,
   "metadata": {},
   "outputs": [
    {
     "name": "stdout",
     "output_type": "stream",
     "text": [
      "This is the dataframe for 'not_conserved':\n"
     ]
    },
    {
     "data": {
      "text/html": [
       "<div>\n",
       "<style scoped>\n",
       "    .dataframe tbody tr th:only-of-type {\n",
       "        vertical-align: middle;\n",
       "    }\n",
       "\n",
       "    .dataframe tbody tr th {\n",
       "        vertical-align: top;\n",
       "    }\n",
       "\n",
       "    .dataframe thead th {\n",
       "        text-align: right;\n",
       "    }\n",
       "</style>\n",
       "<table border=\"1\" class=\"dataframe\">\n",
       "  <thead>\n",
       "    <tr style=\"text-align: right;\">\n",
       "      <th></th>\n",
       "      <th>not_conserved_residue_pos</th>\n",
       "    </tr>\n",
       "  </thead>\n",
       "  <tbody>\n",
       "    <tr>\n",
       "      <th>0</th>\n",
       "      <td>1</td>\n",
       "    </tr>\n",
       "    <tr>\n",
       "      <th>1</th>\n",
       "      <td>2</td>\n",
       "    </tr>\n",
       "    <tr>\n",
       "      <th>2</th>\n",
       "      <td>16</td>\n",
       "    </tr>\n",
       "    <tr>\n",
       "      <th>3</th>\n",
       "      <td>23</td>\n",
       "    </tr>\n",
       "    <tr>\n",
       "      <th>4</th>\n",
       "      <td>26</td>\n",
       "    </tr>\n",
       "  </tbody>\n",
       "</table>\n",
       "</div>"
      ],
      "text/plain": [
       "   not_conserved_residue_pos\n",
       "0                          1\n",
       "1                          2\n",
       "2                         16\n",
       "3                         23\n",
       "4                         26"
      ]
     },
     "metadata": {},
     "output_type": "display_data"
    },
    {
     "name": "stdout",
     "output_type": "stream",
     "text": [
      "This is the dataframe for 'strongly_similar':\n"
     ]
    },
    {
     "data": {
      "text/html": [
       "<div>\n",
       "<style scoped>\n",
       "    .dataframe tbody tr th:only-of-type {\n",
       "        vertical-align: middle;\n",
       "    }\n",
       "\n",
       "    .dataframe tbody tr th {\n",
       "        vertical-align: top;\n",
       "    }\n",
       "\n",
       "    .dataframe thead th {\n",
       "        text-align: right;\n",
       "    }\n",
       "</style>\n",
       "<table border=\"1\" class=\"dataframe\">\n",
       "  <thead>\n",
       "    <tr style=\"text-align: right;\">\n",
       "      <th></th>\n",
       "      <th>strongly_similar_residue_pos</th>\n",
       "    </tr>\n",
       "  </thead>\n",
       "  <tbody>\n",
       "    <tr>\n",
       "      <th>0</th>\n",
       "      <td>3</td>\n",
       "    </tr>\n",
       "    <tr>\n",
       "      <th>1</th>\n",
       "      <td>4</td>\n",
       "    </tr>\n",
       "    <tr>\n",
       "      <th>2</th>\n",
       "      <td>13</td>\n",
       "    </tr>\n",
       "    <tr>\n",
       "      <th>3</th>\n",
       "      <td>15</td>\n",
       "    </tr>\n",
       "    <tr>\n",
       "      <th>4</th>\n",
       "      <td>19</td>\n",
       "    </tr>\n",
       "  </tbody>\n",
       "</table>\n",
       "</div>"
      ],
      "text/plain": [
       "   strongly_similar_residue_pos\n",
       "0                             3\n",
       "1                             4\n",
       "2                            13\n",
       "3                            15\n",
       "4                            19"
      ]
     },
     "metadata": {},
     "output_type": "display_data"
    },
    {
     "name": "stdout",
     "output_type": "stream",
     "text": [
      "This is the dataframe for 'identical':\n"
     ]
    },
    {
     "data": {
      "text/html": [
       "<div>\n",
       "<style scoped>\n",
       "    .dataframe tbody tr th:only-of-type {\n",
       "        vertical-align: middle;\n",
       "    }\n",
       "\n",
       "    .dataframe tbody tr th {\n",
       "        vertical-align: top;\n",
       "    }\n",
       "\n",
       "    .dataframe thead th {\n",
       "        text-align: right;\n",
       "    }\n",
       "</style>\n",
       "<table border=\"1\" class=\"dataframe\">\n",
       "  <thead>\n",
       "    <tr style=\"text-align: right;\">\n",
       "      <th></th>\n",
       "      <th>identical_residue_pos</th>\n",
       "    </tr>\n",
       "  </thead>\n",
       "  <tbody>\n",
       "    <tr>\n",
       "      <th>0</th>\n",
       "      <td>5</td>\n",
       "    </tr>\n",
       "    <tr>\n",
       "      <th>1</th>\n",
       "      <td>6</td>\n",
       "    </tr>\n",
       "    <tr>\n",
       "      <th>2</th>\n",
       "      <td>7</td>\n",
       "    </tr>\n",
       "    <tr>\n",
       "      <th>3</th>\n",
       "      <td>8</td>\n",
       "    </tr>\n",
       "    <tr>\n",
       "      <th>4</th>\n",
       "      <td>9</td>\n",
       "    </tr>\n",
       "  </tbody>\n",
       "</table>\n",
       "</div>"
      ],
      "text/plain": [
       "   identical_residue_pos\n",
       "0                      5\n",
       "1                      6\n",
       "2                      7\n",
       "3                      8\n",
       "4                      9"
      ]
     },
     "metadata": {},
     "output_type": "display_data"
    },
    {
     "name": "stdout",
     "output_type": "stream",
     "text": [
      "This is the dataframe for 'weakly_similar':\n"
     ]
    },
    {
     "data": {
      "text/html": [
       "<div>\n",
       "<style scoped>\n",
       "    .dataframe tbody tr th:only-of-type {\n",
       "        vertical-align: middle;\n",
       "    }\n",
       "\n",
       "    .dataframe tbody tr th {\n",
       "        vertical-align: top;\n",
       "    }\n",
       "\n",
       "    .dataframe thead th {\n",
       "        text-align: right;\n",
       "    }\n",
       "</style>\n",
       "<table border=\"1\" class=\"dataframe\">\n",
       "  <thead>\n",
       "    <tr style=\"text-align: right;\">\n",
       "      <th></th>\n",
       "      <th>weakly_similar_residue_pos</th>\n",
       "    </tr>\n",
       "  </thead>\n",
       "  <tbody>\n",
       "    <tr>\n",
       "      <th>0</th>\n",
       "      <td>37</td>\n",
       "    </tr>\n",
       "    <tr>\n",
       "      <th>1</th>\n",
       "      <td>39</td>\n",
       "    </tr>\n",
       "    <tr>\n",
       "      <th>2</th>\n",
       "      <td>41</td>\n",
       "    </tr>\n",
       "    <tr>\n",
       "      <th>3</th>\n",
       "      <td>46</td>\n",
       "    </tr>\n",
       "    <tr>\n",
       "      <th>4</th>\n",
       "      <td>47</td>\n",
       "    </tr>\n",
       "  </tbody>\n",
       "</table>\n",
       "</div>"
      ],
      "text/plain": [
       "   weakly_similar_residue_pos\n",
       "0                          37\n",
       "1                          39\n",
       "2                          41\n",
       "3                          46\n",
       "4                          47"
      ]
     },
     "metadata": {},
     "output_type": "display_data"
    }
   ],
   "source": [
    "from IPython.display import display, HTML\n",
    "# trick from https://stackoverflow.com/a/29665452/8508004\n",
    "for k in df_dict:\n",
    "    print (\"This is the dataframe for '{}':\".format(k))\n",
    "    display(df_dict[k].head())"
   ]
  },
  {
   "cell_type": "markdown",
   "metadata": {},
   "source": [
    "Or if you needed to display them in most conserved to least for some reason."
   ]
  },
  {
   "cell_type": "code",
   "execution_count": 19,
   "metadata": {},
   "outputs": [
    {
     "data": {
      "text/html": [
       "<div>\n",
       "<style scoped>\n",
       "    .dataframe tbody tr th:only-of-type {\n",
       "        vertical-align: middle;\n",
       "    }\n",
       "\n",
       "    .dataframe tbody tr th {\n",
       "        vertical-align: top;\n",
       "    }\n",
       "\n",
       "    .dataframe thead th {\n",
       "        text-align: right;\n",
       "    }\n",
       "</style>\n",
       "<table border=\"1\" class=\"dataframe\">\n",
       "  <thead>\n",
       "    <tr style=\"text-align: right;\">\n",
       "      <th></th>\n",
       "      <th>identical_residue_pos</th>\n",
       "    </tr>\n",
       "  </thead>\n",
       "  <tbody>\n",
       "    <tr>\n",
       "      <th>0</th>\n",
       "      <td>5</td>\n",
       "    </tr>\n",
       "    <tr>\n",
       "      <th>1</th>\n",
       "      <td>6</td>\n",
       "    </tr>\n",
       "    <tr>\n",
       "      <th>2</th>\n",
       "      <td>7</td>\n",
       "    </tr>\n",
       "    <tr>\n",
       "      <th>3</th>\n",
       "      <td>8</td>\n",
       "    </tr>\n",
       "    <tr>\n",
       "      <th>4</th>\n",
       "      <td>9</td>\n",
       "    </tr>\n",
       "  </tbody>\n",
       "</table>\n",
       "</div>"
      ],
      "text/plain": [
       "   identical_residue_pos\n",
       "0                      5\n",
       "1                      6\n",
       "2                      7\n",
       "3                      8\n",
       "4                      9"
      ]
     },
     "metadata": {},
     "output_type": "display_data"
    },
    {
     "data": {
      "text/html": [
       "<div>\n",
       "<style scoped>\n",
       "    .dataframe tbody tr th:only-of-type {\n",
       "        vertical-align: middle;\n",
       "    }\n",
       "\n",
       "    .dataframe tbody tr th {\n",
       "        vertical-align: top;\n",
       "    }\n",
       "\n",
       "    .dataframe thead th {\n",
       "        text-align: right;\n",
       "    }\n",
       "</style>\n",
       "<table border=\"1\" class=\"dataframe\">\n",
       "  <thead>\n",
       "    <tr style=\"text-align: right;\">\n",
       "      <th></th>\n",
       "      <th>strongly_similar_residue_pos</th>\n",
       "    </tr>\n",
       "  </thead>\n",
       "  <tbody>\n",
       "    <tr>\n",
       "      <th>0</th>\n",
       "      <td>3</td>\n",
       "    </tr>\n",
       "    <tr>\n",
       "      <th>1</th>\n",
       "      <td>4</td>\n",
       "    </tr>\n",
       "    <tr>\n",
       "      <th>2</th>\n",
       "      <td>13</td>\n",
       "    </tr>\n",
       "    <tr>\n",
       "      <th>3</th>\n",
       "      <td>15</td>\n",
       "    </tr>\n",
       "    <tr>\n",
       "      <th>4</th>\n",
       "      <td>19</td>\n",
       "    </tr>\n",
       "  </tbody>\n",
       "</table>\n",
       "</div>"
      ],
      "text/plain": [
       "   strongly_similar_residue_pos\n",
       "0                             3\n",
       "1                             4\n",
       "2                            13\n",
       "3                            15\n",
       "4                            19"
      ]
     },
     "metadata": {},
     "output_type": "display_data"
    },
    {
     "data": {
      "text/html": [
       "<div>\n",
       "<style scoped>\n",
       "    .dataframe tbody tr th:only-of-type {\n",
       "        vertical-align: middle;\n",
       "    }\n",
       "\n",
       "    .dataframe tbody tr th {\n",
       "        vertical-align: top;\n",
       "    }\n",
       "\n",
       "    .dataframe thead th {\n",
       "        text-align: right;\n",
       "    }\n",
       "</style>\n",
       "<table border=\"1\" class=\"dataframe\">\n",
       "  <thead>\n",
       "    <tr style=\"text-align: right;\">\n",
       "      <th></th>\n",
       "      <th>weakly_similar_residue_pos</th>\n",
       "    </tr>\n",
       "  </thead>\n",
       "  <tbody>\n",
       "    <tr>\n",
       "      <th>0</th>\n",
       "      <td>37</td>\n",
       "    </tr>\n",
       "    <tr>\n",
       "      <th>1</th>\n",
       "      <td>39</td>\n",
       "    </tr>\n",
       "    <tr>\n",
       "      <th>2</th>\n",
       "      <td>41</td>\n",
       "    </tr>\n",
       "    <tr>\n",
       "      <th>3</th>\n",
       "      <td>46</td>\n",
       "    </tr>\n",
       "    <tr>\n",
       "      <th>4</th>\n",
       "      <td>47</td>\n",
       "    </tr>\n",
       "  </tbody>\n",
       "</table>\n",
       "</div>"
      ],
      "text/plain": [
       "   weakly_similar_residue_pos\n",
       "0                          37\n",
       "1                          39\n",
       "2                          41\n",
       "3                          46\n",
       "4                          47"
      ]
     },
     "metadata": {},
     "output_type": "display_data"
    },
    {
     "data": {
      "text/html": [
       "<div>\n",
       "<style scoped>\n",
       "    .dataframe tbody tr th:only-of-type {\n",
       "        vertical-align: middle;\n",
       "    }\n",
       "\n",
       "    .dataframe tbody tr th {\n",
       "        vertical-align: top;\n",
       "    }\n",
       "\n",
       "    .dataframe thead th {\n",
       "        text-align: right;\n",
       "    }\n",
       "</style>\n",
       "<table border=\"1\" class=\"dataframe\">\n",
       "  <thead>\n",
       "    <tr style=\"text-align: right;\">\n",
       "      <th></th>\n",
       "      <th>not_conserved_residue_pos</th>\n",
       "    </tr>\n",
       "  </thead>\n",
       "  <tbody>\n",
       "    <tr>\n",
       "      <th>0</th>\n",
       "      <td>1</td>\n",
       "    </tr>\n",
       "    <tr>\n",
       "      <th>1</th>\n",
       "      <td>2</td>\n",
       "    </tr>\n",
       "    <tr>\n",
       "      <th>2</th>\n",
       "      <td>16</td>\n",
       "    </tr>\n",
       "    <tr>\n",
       "      <th>3</th>\n",
       "      <td>23</td>\n",
       "    </tr>\n",
       "    <tr>\n",
       "      <th>4</th>\n",
       "      <td>26</td>\n",
       "    </tr>\n",
       "  </tbody>\n",
       "</table>\n",
       "</div>"
      ],
      "text/plain": [
       "   not_conserved_residue_pos\n",
       "0                          1\n",
       "1                          2\n",
       "2                         16\n",
       "3                         23\n",
       "4                         26"
      ]
     },
     "metadata": {},
     "output_type": "display_data"
    }
   ],
   "source": [
    "#ordered most conserved to least for display\n",
    "sep_dfs_ordered = ([df_dict['identical'],\n",
    "            df_dict['strongly_similar'],df_dict['weakly_similar'],\n",
    "            df_dict['not_conserved']])\n",
    "from IPython.display import display, HTML\n",
    "# trick from https://stackoverflow.com/a/29665452/8508004\n",
    "for e in sep_dfs_ordered:\n",
    "    display(e.head())"
   ]
  },
  {
   "cell_type": "markdown",
   "metadata": {},
   "source": [
    "The final section of the notebook, below, builds on the single dataframe output to produce molecular visualization commands for use in Pymol and/or Jmol."
   ]
  },
  {
   "cell_type": "markdown",
   "metadata": {},
   "source": [
    "## Using the categorization to make Pymol commands"
   ]
  },
  {
   "cell_type": "markdown",
   "metadata": {},
   "source": [
    "This section builds on the single dataframe output to produce molecular visualization commands for use in Pymol. Information on structure being used:\n",
    "[6C6L: Yeast Vacuolar ATPase Vo in lipid nanodisc](http://www.rcsb.org/structure/6C6L). VPH1 is Chain A\n",
    "\n",
    "First we'll run the command to make sure the related dataframe is in the namespace of the notebook."
   ]
  },
  {
   "cell_type": "code",
   "execution_count": 20,
   "metadata": {},
   "outputs": [
    {
     "name": "stderr",
     "output_type": "stream",
     "text": [
      "\n",
      "**NOTE: gap indicator in this script is currently set to '-'. If\n",
      "that does not match what provided alignment uses to indicate gaps,\n",
      "please change the setting within the script code under\n",
      "'USER ADJUSTABLE VALUES' around line 110 (give or take a few).**\n",
      "Alignment read...top line identifier determined as 'STV1'...\n",
      "...Processing information about sequence with id of 'VPH1'.\n",
      "\n",
      "Data a saved in tabular text form (tab-separated form) as 'categorized_consv_VPH1_residues.tsv'.\n",
      "\n",
      "Returning a single dataframe of residue positions, one list per category."
     ]
    }
   ],
   "source": [
    "from categorize_residues_based_on_conservation_relative_consensus_line import categorize_residues_based_on_conservation_relative_consensus_line\n",
    "df = categorize_residues_based_on_conservation_relative_consensus_line(\"alignment.clw\",\"VPH1\", return_panel_data = True)"
   ]
  },
  {
   "cell_type": "markdown",
   "metadata": {},
   "source": [
    "Now that dataframe can be used to make commands based on the caetegories and residue numbering.\n",
    "\n",
    "Because this example has a lot of atoms for each category, I am outputting a separate file for each so that the first parts of each can be examined. If your protein has less residues, you may prefer a single file."
   ]
  },
  {
   "cell_type": "code",
   "execution_count": 21,
   "metadata": {},
   "outputs": [
    {
     "name": "stdout",
     "output_type": "stream",
     "text": [
      "Writing 'building_output' (str) to file 'identical_commands.txt'.\n",
      "Writing 'building_output' (str) to file 'strongly_similar_commands.txt'.\n",
      "Writing 'building_output' (str) to file 'weakly_similar_commands.txt'.\n"
     ]
    }
   ],
   "source": [
    "structure = \"6c6l\"\n",
    "chain = \"A\"  #Vph1p chain in PDB id: 6c6l\n",
    "identical_color = \"[0.627,0.121,0.372]\"\n",
    "strong_siml_color = \"[0.937, 0.470, 0.627]\"\n",
    "weak_siml_color = \"[0.949, 0.784, 0.878]\"\n",
    "color_dict = {\n",
    "    \"identical\":identical_color,\n",
    "    \"strongly_similar\":strong_siml_color,\n",
    "    \"weakly_similar\":weak_siml_color\n",
    "            }\n",
    "df_dict = dict(zip(df.category,df.residue_positions))\n",
    "assert list(color_dict.keys()) == list(df_dict.keys())[:3] , \"keys not identical\"\n",
    "building_output = \"\"\n",
    "for category in df_dict:\n",
    "    if category != \"not_conserved\":\n",
    "        for res in df_dict[category]:\n",
    "            building_output += f\"select resi{res}, (chain {chain} and resi {res})\\n\"\n",
    "            building_output += f\"show spheres, resi{res}\\nset sphere_scale, 1, resi{res}\\n\"\n",
    "            building_output += f\"color {color_dict[category]}, resi{res}\\n\"\n",
    "        #save and reset output string\n",
    "        %store building_output > {category}_commands.txt\n",
    "        building_output = \"\"\n",
    "# Comment out the above line & uncomment the next line if you want to save as single file\n",
    "#%store building_output > all_commands.txt\n"
   ]
  },
  {
   "cell_type": "markdown",
   "metadata": {},
   "source": [
    "To show that worked:"
   ]
  },
  {
   "cell_type": "code",
   "execution_count": 22,
   "metadata": {},
   "outputs": [
    {
     "name": "stdout",
     "output_type": "stream",
     "text": [
      "select resi5, (chain A and resi 5)\n",
      "show spheres, resi5\n",
      "set sphere_scale, 1, resi5\n",
      "color [0.627,0.121,0.372], resi5\n",
      "select resi6, (chain A and resi 6)\n",
      "show spheres, resi6\n",
      "set sphere_scale, 1, resi6\n",
      "color [0.627,0.121,0.372], resi6\n",
      "select resi7, (chain A and resi 7)\n",
      "show spheres, resi7\n",
      " \n",
      "set sphere_scale, 1, resi820\n",
      "color [0.627,0.121,0.372], resi820\n",
      "select resi822, (chain A and resi 822)\n",
      "show spheres, resi822\n",
      "set sphere_scale, 1, resi822\n",
      "color [0.627,0.121,0.372], resi822\n",
      "select resi830, (chain A and resi 830)\n",
      "show spheres, resi830\n",
      "set sphere_scale, 1, resi830\n",
      "color [0.627,0.121,0.372], resi830\n"
     ]
    }
   ],
   "source": [
    "!head identical_commands.txt\n",
    "!echo \" \"\n",
    "!tail identical_commands.txt"
   ]
  },
  {
   "cell_type": "markdown",
   "metadata": {},
   "source": [
    "Demonstrating outputting to a single file:"
   ]
  },
  {
   "cell_type": "code",
   "execution_count": 23,
   "metadata": {},
   "outputs": [
    {
     "name": "stdout",
     "output_type": "stream",
     "text": [
      "Writing 'building_output' (str) to file 'all_commands.txt'.\n"
     ]
    }
   ],
   "source": [
    "# ALL to a single file\n",
    "structure = \"6c6l\"\n",
    "chain = \"A\"  #Vph1p chain in PDB id: 6c6l\n",
    "identical_color = \"[0.627,0.121,0.372]\"\n",
    "strong_siml_color = \"[0.937, 0.470, 0.627]\"\n",
    "weak_siml_color = \"[0.949, 0.784, 0.878]\"\n",
    "color_dict = {\n",
    "    \"identical\":identical_color,\n",
    "    \"strongly_similar\":strong_siml_color,\n",
    "    \"weakly_similar\":weak_siml_color\n",
    "            }\n",
    "df_dict = dict(zip(df.category,df.residue_positions))\n",
    "assert list(color_dict.keys()) == list(df_dict.keys())[:3] , \"keys not identical\"\n",
    "building_output = \"\"\n",
    "for category in df_dict:\n",
    "    if category != \"not_conserved\":\n",
    "        for res in df_dict[category]:\n",
    "            building_output += f\"select resi{res}, (chain {chain} and resi {res})\\n\"\n",
    "            building_output += f\"show spheres, resi{res}\\nset sphere_scale, 1, resi{res}\\n\"\n",
    "            building_output += f\"color {color_dict[category]}, resi{res}\\n\"\n",
    "%store building_output > all_commands.txt"
   ]
  },
  {
   "cell_type": "markdown",
   "metadata": {},
   "source": [
    "Showing that worked:"
   ]
  },
  {
   "cell_type": "code",
   "execution_count": 24,
   "metadata": {},
   "outputs": [
    {
     "name": "stdout",
     "output_type": "stream",
     "text": [
      "select resi5, (chain A and resi 5)\n",
      "show spheres, resi5\n",
      "set sphere_scale, 1, resi5\n",
      "color [0.627,0.121,0.372], resi5\n",
      "select resi6, (chain A and resi 6)\n",
      "show spheres, resi6\n",
      "set sphere_scale, 1, resi6\n",
      "color [0.627,0.121,0.372], resi6\n",
      "select resi7, (chain A and resi 7)\n",
      "show spheres, resi7\n",
      " \n",
      "set sphere_scale, 1, resi783\n",
      "color [0.949, 0.784, 0.878], resi783\n",
      "select resi816, (chain A and resi 816)\n",
      "show spheres, resi816\n",
      "set sphere_scale, 1, resi816\n",
      "color [0.949, 0.784, 0.878], resi816\n",
      "select resi833, (chain A and resi 833)\n",
      "show spheres, resi833\n",
      "set sphere_scale, 1, resi833\n",
      "color [0.949, 0.784, 0.878], resi833\n"
     ]
    }
   ],
   "source": [
    "!head all_commands.txt\n",
    "!echo \" \"\n",
    "!tail all_commands.txt"
   ]
  },
  {
   "cell_type": "markdown",
   "metadata": {},
   "source": [
    "## Using the categorization to make Jmol commands\n",
    "\n",
    "A similar process can be done to make Jmol / JSmol command."
   ]
  },
  {
   "cell_type": "code",
   "execution_count": 25,
   "metadata": {},
   "outputs": [
    {
     "name": "stdout",
     "output_type": "stream",
     "text": [
      "Writing 'building_output' (str) to file 'identical_jmol_commands.txt'.\n",
      "Writing 'building_output' (str) to file 'strongly_similar_jmol_commands.txt'.\n",
      "Writing 'building_output' (str) to file 'weakly_similar_jmol_commands.txt'.\n"
     ]
    },
    {
     "name": "stderr",
     "output_type": "stream",
     "text": [
      "\n",
      "**NOTE: gap indicator in this script is currently set to '-'. If\n",
      "that does not match what provided alignment uses to indicate gaps,\n",
      "please change the setting within the script code under\n",
      "'USER ADJUSTABLE VALUES' around line 110 (give or take a few).**\n",
      "Alignment read...top line identifier determined as 'STV1'...\n",
      "...Processing information about sequence with id of 'VPH1'.\n",
      "\n",
      "Data a saved in tabular text form (tab-separated form) as 'categorized_consv_VPH1_residues.tsv'.\n",
      "\n",
      "Returning a single dataframe of residue positions, one list per category."
     ]
    }
   ],
   "source": [
    "#JMOL\n",
    "from categorize_residues_based_on_conservation_relative_consensus_line import categorize_residues_based_on_conservation_relative_consensus_line\n",
    "df = categorize_residues_based_on_conservation_relative_consensus_line(\"alignment.clw\",\"VPH1\", return_panel_data = True)\n",
    "structure = \"6c6l\"\n",
    "chain = \"A\"  #Vph1p chain in PDB id: 6c6l\n",
    "identical_color = \"[160,31,95]\"\n",
    "strong_siml_color = \"[239, 120, 160]\"\n",
    "weak_siml_color = \"[242, 200, 224]\"\n",
    "color_dict = {\n",
    "    \"identical\":identical_color,\n",
    "    \"strongly_similar\":strong_siml_color,\n",
    "    \"weakly_similar\":weak_siml_color\n",
    "            }\n",
    "df_dict = dict(zip(df.category,df.residue_positions))\n",
    "assert list(color_dict.keys()) == list(df_dict.keys())[:3] , \"keys not identical\"\n",
    "building_output = \"\"\n",
    "for category in df_dict:\n",
    "    if category != \"not_conserved\":\n",
    "        for res in df_dict[category]:\n",
    "            building_output += f\"select {res}:{chain};\"\n",
    "            building_output += f\"spacefill on;\"\n",
    "            building_output += f\"color {color_dict[category]}\\n\"\n",
    "        #save and reset output string\n",
    "        %store building_output > {category}_jmol_commands.txt\n",
    "        building_output = \"\"\n",
    "# Comment out the above line & uncomment the next line if you want to save as single file\n",
    "#%store building_output > all_jmol_commands.txt"
   ]
  },
  {
   "cell_type": "markdown",
   "metadata": {},
   "source": [
    "Jmol commands all in a single file:"
   ]
  },
  {
   "cell_type": "code",
   "execution_count": 26,
   "metadata": {},
   "outputs": [
    {
     "name": "stderr",
     "output_type": "stream",
     "text": [
      "\n",
      "**NOTE: gap indicator in this script is currently set to '-'. If\n",
      "that does not match what provided alignment uses to indicate gaps,\n",
      "please change the setting within the script code under\n",
      "'USER ADJUSTABLE VALUES' around line 110 (give or take a few).**\n",
      "Alignment read...top line identifier determined as 'STV1'...\n",
      "...Processing information about sequence with id of 'VPH1'.\n",
      "\n",
      "Data a saved in tabular text form (tab-separated form) as 'categorized_consv_VPH1_residues.tsv'.\n",
      "\n",
      "Returning a single dataframe of residue positions, one list per category."
     ]
    }
   ],
   "source": [
    "from categorize_residues_based_on_conservation_relative_consensus_line import categorize_residues_based_on_conservation_relative_consensus_line\n",
    "df = categorize_residues_based_on_conservation_relative_consensus_line(\"alignment.clw\",\"VPH1\", return_panel_data = True)"
   ]
  },
  {
   "cell_type": "code",
   "execution_count": 27,
   "metadata": {},
   "outputs": [
    {
     "name": "stdout",
     "output_type": "stream",
     "text": [
      "Writing 'building_output' (str) to file 'all_jmol_commands.txt'.\n"
     ]
    }
   ],
   "source": [
    "#JMOL\n",
    "structure = \"6c6l\"\n",
    "chain = \"A\"  #Vph1p chain in PDB id: 6c6l\n",
    "identical_color = \"[160,31,95]\"\n",
    "strong_siml_color = \"[239, 120, 160]\"\n",
    "weak_siml_color = \"[242, 200, 224]\"\n",
    "color_dict = {\n",
    "    \"identical\":identical_color,\n",
    "    \"strongly_similar\":strong_siml_color,\n",
    "    \"weakly_similar\":weak_siml_color\n",
    "            }\n",
    "df_dict = dict(zip(df.category,df.residue_positions))\n",
    "assert list(color_dict.keys()) == list(df_dict.keys())[:3] , \"keys not identical\"\n",
    "building_output = \"\"\n",
    "for category in df_dict:\n",
    "    if category != \"not_conserved\":\n",
    "        for res in df_dict[category]:\n",
    "            building_output += f\"select {res}:{chain};\"\n",
    "            building_output += f\"spacefill on;\"\n",
    "            building_output += f\"color {color_dict[category]}\\n\"\n",
    "%store building_output > all_jmol_commands.txt"
   ]
  },
  {
   "cell_type": "markdown",
   "metadata": {},
   "source": [
    "Showing that worked:"
   ]
  },
  {
   "cell_type": "code",
   "execution_count": 28,
   "metadata": {},
   "outputs": [
    {
     "name": "stdout",
     "output_type": "stream",
     "text": [
      "select 5:A;spacefill on;color [160,31,95]\n",
      "select 6:A;spacefill on;color [160,31,95]\n",
      "select 7:A;spacefill on;color [160,31,95]\n",
      "select 8:A;spacefill on;color [160,31,95]\n",
      "select 9:A;spacefill on;color [160,31,95]\n",
      "select 10:A;spacefill on;color [160,31,95]\n",
      "select 11:A;spacefill on;color [160,31,95]\n",
      "select 12:A;spacefill on;color [160,31,95]\n",
      "select 14:A;spacefill on;color [160,31,95]\n",
      "select 17:A;spacefill on;color [160,31,95]\n",
      " \n",
      "select 756:A;spacefill on;color [242, 200, 224]\n",
      "select 760:A;spacefill on;color [242, 200, 224]\n",
      "select 762:A;spacefill on;color [242, 200, 224]\n",
      "select 763:A;spacefill on;color [242, 200, 224]\n",
      "select 766:A;spacefill on;color [242, 200, 224]\n",
      "select 770:A;spacefill on;color [242, 200, 224]\n",
      "select 779:A;spacefill on;color [242, 200, 224]\n",
      "select 783:A;spacefill on;color [242, 200, 224]\n",
      "select 816:A;spacefill on;color [242, 200, 224]\n",
      "select 833:A;spacefill on;color [242, 200, 224]\n"
     ]
    }
   ],
   "source": [
    "!head all_jmol_commands.txt\n",
    "!echo \" \"\n",
    "!tail all_jmol_commands.txt"
   ]
  },
  {
   "cell_type": "markdown",
   "metadata": {},
   "source": [
    "------"
   ]
  }
 ],
 "metadata": {
  "kernelspec": {
   "display_name": "Python 3",
   "language": "python",
   "name": "python3"
  },
  "language_info": {
   "codemirror_mode": {
    "name": "ipython",
    "version": 3
   },
   "file_extension": ".py",
   "mimetype": "text/x-python",
   "name": "python",
   "nbconvert_exporter": "python",
   "pygments_lexer": "ipython3",
   "version": "3.6.6"
  }
 },
 "nbformat": 4,
 "nbformat_minor": 2
}
