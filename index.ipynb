{
 "cells": [
  {
   "cell_type": "markdown",
   "metadata": {},
   "source": [
    "# Command line structure work demonstration notebooks\n",
    "\n",
    "My collection demonstrating useful resources on command line for manipulating structure files.\n",
    "\n",
    "Select a notebook from this index.\n",
    "\n",
    "----\n",
    "\n",
    "### Available Notebooks\n",
    "\n",
    "- [Split PDB files into chains using command line](notebooks/Split%20pdb%20files%20into%20chains.ipynb)\n",
    "- [Using Biopython to subset a PDB file](notebooks/Using%20Biopython%20to%20subset%20a%20PDB%20file.ipynb)\n",
    "- [Using Biopython to list resolved residues and construct fit commands for chains shared by two structures](notebooks/Using%20Biopython%20PDB%20module%20to%20list%20resolved%20residues%20and%20construct%20fit%20commands.ipynb)\n",
    "- [Determine residues that match to a reference from multiple sequence alignment and use to construct fit commands](notebooks/Determine%20residues%20that%20match%20to%20a%20reference%20from%20MSA%20and%20use%20to%20construct%20fit%20commands.ipynb)\n",
    "- [Categorize conservation in a multiple sequence alignment and use that to generate molvis commands](notebooks/Categorize%20conservation%20in%20a%20MSA%20and%20use%20that%20to%20generate%20molvis%20commands.ipynb)\n",
    "- [Split and Combine multimodel PDB files](notebooks/Split%20and%20combine%20multimodel%20PDB%20files.ipynb)\n",
    "- [Using Biopython PDB Header Parser to get missing residues](notebooks/Using%20Biopython%20PDB%20Header%20Parser%20to%20get%20missing%20residues.ipynb)\n",
    "\n",
    "### Coming soon / available at another link\n",
    "- Nothing currently\n",
    "\n",
    "### Related\n",
    "\n",
    "- [pdbsum-binder](https://github.com/fomightez/pdbsum-binder) - working with data from PDBsum integrated with Jupyter/Python\n",
    "- [hhsuite3-binder](https://github.com/fomightez/hhsuite3-binder) - running HH-suite3 via Binder & working with results for fiding remote homology, integrated with Jupyter/Python\n",
    "- [jupyter-jsmol-binder](https://github.com/fomightez/jupyter-jsmol-binder) - JMol Jsmol applets in Jupyter notebook\n",
    "- [Jupyter-desktop_with_pymo](https://github.com/fomightez/Jupyter-desktop_with_pymol) - PyMOL graphical user interface served via MyBinder.org\n",
    "- [pymol-binder](https://github.com/fomightez/pymol-binder) - PyMOL running headless for command line/scripting and interaction with Python.\n",
    "- [modelit-binder](https://github.com/fomightez/modelit-binder) - Model.it software to produce a 3D model of DNA in bent confirmation combined with Jupyter ecosystem and PyMOL served via MyBinder.org\n",
    "- [AnimatePymolWithJmol](https://github.com/fomightez/AnimatePymolWithJmol) - Easily animate PyMOL session scenes with Jmol to create an animated GIFs"
   ]
  }
 ],
 "metadata": {
  "kernelspec": {
   "display_name": "Python 3",
   "language": "python",
   "name": "python3"
  },
  "language_info": {
   "codemirror_mode": {
    "name": "ipython",
    "version": 3
   },
   "file_extension": ".py",
   "mimetype": "text/x-python",
   "name": "python",
   "nbconvert_exporter": "python",
   "pygments_lexer": "ipython3",
   "version": "3.7.8"
  }
 },
 "nbformat": 4,
 "nbformat_minor": 4
}
