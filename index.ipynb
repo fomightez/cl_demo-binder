{
 "cells": [
  {
   "cell_type": "markdown",
   "metadata": {},
   "source": [
    "# Command line structure work demonstration notebooks\n",
    "\n",
    "My collection demonstrating useful resources on command line for manipulating structure files.\n",
    "\n",
    "Select a notebook from this index.\n",
    "\n",
    "----\n",
    "\n",
    "### Available Notebooks\n",
    "\n",
    "- [Split PDB files into chains using command line](notebooks/Split%20pdb%20files%20into%20chains.ipynb)\n",
    "- [Using Biopython to subset a PDB file](notebooks/Using%20Biopython%20to%20subset%20a%20PDB%20file.ipynb)\n",
    "- [Using Biopython to list resolved residues and construct fit commands](notebooks/Using%20Biopython%20PDB%20module%20to%20list%20resolved%20residues%20and%20construct%20fit%20commands.ipynb)\n",
    "- [Determine residues that match to a reference from multiple sequence alignment and use to construct fit commands](?????)\n",
    "- [Categorize conservation in a multiple sequence alignment and use that to generate molvis commands](notebooks/Categorize%20conservation%20in%20a%20MSA%20and%20use%20that%20to%20generate%20molvis%20commands.ipynb)\n",
    "- [Split and Combine multimodel PDB files](notebooks/Split%20and%20combine%20multimodel%20PDB%20files.ipynb)\n",
    "\n",
    "### Coming soon / available at another link\n",
    "\n",
    "- missing residues\n",
    "\n",
    "    There is a related notebook available from [here dealing with missing residues in chains](https://github.com/fomightez/BernBiopython) that depends on a soon-to-be-integrated ability in Biopython's PDB module. The notebook will come up if you click on `launch binder`. (That notebook is currently using a developmental version of the module, a different one than is here and it won't work here for now. Soon though it should be moved here.)"
   ]
  },
  {
   "cell_type": "code",
   "execution_count": null,
   "metadata": {},
   "outputs": [],
   "source": []
  }
 ],
 "metadata": {
  "kernelspec": {
   "display_name": "Python 3",
   "language": "python",
   "name": "python3"
  },
  "language_info": {
   "codemirror_mode": {
    "name": "ipython",
    "version": 3
   },
   "file_extension": ".py",
   "mimetype": "text/x-python",
   "name": "python",
   "nbconvert_exporter": "python",
   "pygments_lexer": "ipython3",
   "version": "3.6.6"
  }
 },
 "nbformat": 4,
 "nbformat_minor": 2
}
