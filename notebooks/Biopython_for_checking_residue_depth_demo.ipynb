{
 "cells": [
  {
   "cell_type": "markdown",
   "id": "ee939ee2-dde0-4c35-b9e7-88c4eec83f6d",
   "metadata": {},
   "source": [
    "## Biopython for checking residue depth in a structure\n",
    "\n",
    "Notebook developed from looking into ['Trouble with Biopython residue depth'](https://www.biostars.org/p/9603764/) and making [msms_wrapper](https://github.com/rinikerlab/msms_wrapper) work with MyBinder.\n",
    "\n",
    "Used sessions launched from [the 'binderized_no_PyVista' of my fork of `msms_wrapper`](https://github.com/fomightez/msms_wrapper/tree/binderized_no_PyVista) to develop this because more related stuff already installed or present there. ([This link should continue to work to launch such a session](https://mybinder.org/v2/gh/fomightez/msms_wrapper/binderized_no_PyVista?labpath=examples.ipynb) even if I mess up the badge there.)\n",
    "\n",
    "Also works in sessions launched from my [cl_demo-binder repo](https://github.com/fomightez/cl_demo-binder)."
   ]
  },
  {
   "cell_type": "markdown",
   "id": "a4e5203d-fb02-44b3-bd2c-5f2a2eeec565",
   "metadata": {},
   "source": [
    "#### Get msms and unpack and install\n",
    "\n",
    "This section will handle getting msms from https://ccsb.scripps.edu/msms/downloads/, which comes from clicking 'Download MSMS binaries here' [here](https://ccsb.scripps.edu/mgltools/), referenced by [Bio.PDB.ResidueDepth module](https://biopython.org/docs/1.75/api/Bio.PDB.ResidueDepth.html), and then clicking on the 'Downloads' option on the navigation bar on the left side of the screen,.\n",
    "\n",
    "Some disclosures and addressing a licensing issue....\n",
    "\n",
    "Note: While the Riniker Lab has put this wrapper under the MIT licence, `msms` is not. The msms_wrapper & effort to make it work with MyBinder-served Jupyter sessions are independent projects, and not affiliated with the `msms` program. You can obtain `msms` from https://ccsb.scripps.edu/msms/. For more information about the algorithm, see:\n",
    "\n",
    "Sanner, M. F., Olson A.J. & Spehner, J.-C. (1996). Reduced Surface: An Efficient Way to Compute Molecular Surfaces. Biopolymers 38:305-320.\n",
    "\n",
    "If you qualify for the license for detailed there, you can run the next cell in this session to get and install msmms:"
   ]
  },
  {
   "cell_type": "code",
   "execution_count": 1,
   "id": "13e5fc35-db79-4985-80eb-d97f2fab81d0",
   "metadata": {},
   "outputs": [
    {
     "name": "stdout",
     "output_type": "stream",
     "text": [
      "  % Total    % Received % Xferd  Average Speed   Time    Time     Time  Current\n",
      "                                 Dload  Upload   Total   Spent    Left  Speed\n",
      "100  579k  100  579k    0     0   459k      0  0:00:01  0:00:01 --:--:--  459k\n",
      "***`msms` has been installed and an alias set in the system path that matches what the `msms_wrapper.py` script expects.***\n"
     ]
    }
   ],
   "source": [
    "msms_soft_zipped = \"msms_i86_64Linux2_2.6.1.tar.gz\"\n",
    "import subprocess\n",
    "cwd = subprocess.check_output('pwd', shell=True, universal_newlines=True).strip() #record current working directory silently; `cwd = !pwd` wouldn't be silent\n",
    "!mkdir -p ~/.local/bin\n",
    "%cd -q ~/.local/bin\n",
    "!curl -OL https://ccsb.scripps.edu/msms/download/933/{msms_soft_zipped}\n",
    "!tar xzf {msms_soft_zipped}\n",
    "msms_soft_fn = msms_soft_zipped.replace(\"_i\",\".x\").replace(\"Linux2_2\",\"Linux2.2\")[:-7]\n",
    "!ln -s ~/.local/bin/{msms_soft_fn} msms\n",
    "#Restore to initial current working directory\n",
    "%cd -q {cwd} \n",
    "print(\"***`msms` has been installed and an alias set in the system path that matches what the `msms_wrapper.py` script expects.***\")"
   ]
  },
  {
   "cell_type": "markdown",
   "id": "d9054943-8c75-4ed1-bab2-da4172f9e42a",
   "metadata": {},
   "source": [
    "#### Check msms installation\n",
    "\n",
    "The next cell should give usage for `msms` if all worked."
   ]
  },
  {
   "cell_type": "code",
   "execution_count": 2,
   "id": "def85eb0-5af3-491a-a0fc-55151df222ac",
   "metadata": {},
   "outputs": [
    {
     "name": "stdout",
     "output_type": "stream",
     "text": [
      "Usage : msms parameters \n",
      "  -probe_radius float : probe sphere radius, [1.5]\n",
      "  -density float      : surface points density, [1.0]\n",
      "  -hdensity float     : surface points high density, [3.0]\n",
      "  -surface <tses,ases>: triangulated or Analytical SES, [tses]\n",
      "  -no_area            : turns off the analytical surface area computation\n",
      "  -socketName servicename : socket connection from a client\n",
      "  -socketPort portNumber : socket connection from a client\n",
      "  -xdr                : use xdr encoding over socket\n",
      "  -sinetd             : inetd server connection\n",
      "  -noh                : ignore atoms with radius 1.2\n",
      "  -no_rest_on_pbr     : no restart if pb. during triangulation\n",
      "  -no_rest            : no restart if pb. are encountered\n",
      "  -if filename        : sphere input file\n",
      "  -of filename        : output for triangulated surface\n",
      "  -af filename        : area file\n",
      "  -no_header         : do not add comment line to the output\n",
      "  -free_vertices      : turns on computation for isolated RS vertices\n",
      "  -all_components     : compute all the surfaces components\n",
      "  -one_cavity #atoms at1 [at2][at3] : Compute the surface for an internal                        cavity for which at least one atom is specified\n"
     ]
    }
   ],
   "source": [
    "!msms -h"
   ]
  },
  {
   "cell_type": "markdown",
   "id": "e79002ff-fc66-4667-bc22-29f5532046ec",
   "metadata": {},
   "source": [
    "---------"
   ]
  },
  {
   "cell_type": "markdown",
   "id": "2369a750-9c1d-4058-b38e-b49f1d2ee9ee",
   "metadata": {},
   "source": [
    "#### Demo use of Bio.PDB.ResidueDepth module\n",
    "\n",
    "Essentially run code blocks at [Biopython's 'Bio.PDB.ResidueDepth module' page](https://biopython.org/docs/1.75/api/Bio.PDB.ResidueDepth.html) in this section to see if all works."
   ]
  },
  {
   "cell_type": "code",
   "execution_count": 3,
   "id": "96c7534e-ed01-48a2-9d32-cc2f38389eb6",
   "metadata": {},
   "outputs": [
    {
     "name": "stdout",
     "output_type": "stream",
     "text": [
      "Collecting Biopython\n",
      "  Downloading biopython-1.84-cp310-cp310-manylinux_2_17_x86_64.manylinux2014_x86_64.whl.metadata (12 kB)\n",
      "Requirement already satisfied: numpy in /srv/conda/envs/notebook/lib/python3.10/site-packages (from Biopython) (2.0.2)\n",
      "Downloading biopython-1.84-cp310-cp310-manylinux_2_17_x86_64.manylinux2014_x86_64.whl (3.2 MB)\n",
      "\u001b[2K   \u001b[90m━━━━━━━━━━━━━━━━━━━━━━━━━━━━━━━━━━━━━━━━\u001b[0m \u001b[32m3.2/3.2 MB\u001b[0m \u001b[31m63.3 MB/s\u001b[0m eta \u001b[36m0:00:00\u001b[0m\n",
      "\u001b[?25hInstalling collected packages: Biopython\n",
      "Successfully installed Biopython-1.84\n",
      "Note: you may need to restart the kernel to use updated packages.\n"
     ]
    }
   ],
   "source": [
    "#Install Biopython here since not included in my msms_wrapper fork at this time\n",
    "%pip install Biopython"
   ]
  },
  {
   "cell_type": "code",
   "execution_count": 4,
   "id": "fd3dc57e-0d94-4823-947f-421784eac075",
   "metadata": {},
   "outputs": [
    {
     "name": "stdout",
     "output_type": "stream",
     "text": [
      "  % Total    % Received % Xferd  Average Speed   Time    Time     Time  Current\n",
      "                                 Dload  Upload   Total   Spent    Left  Speed\n",
      "100 18565  100 18565    0     0  47125      0 --:--:-- --:--:-- --:--:-- 47239\n"
     ]
    }
   ],
   "source": [
    "#Get the structure they reference in example\n",
    "!curl -OL https://files.rcsb.org/download/1a8o.pdb.gz\n",
    "!gunzip 1a8o.pdb.gz"
   ]
  },
  {
   "cell_type": "code",
   "execution_count": 5,
   "id": "660c0194-d1c3-4788-92be-2093b3faba7b",
   "metadata": {},
   "outputs": [
    {
     "name": "stdout",
     "output_type": "stream",
     "text": [
      "(np.float64(1.7654032513871405), np.float64(1.999282370848168))\n"
     ]
    }
   ],
   "source": [
    "from Bio.PDB.ResidueDepth import ResidueDepth\n",
    "from Bio.PDB.PDBParser import PDBParser\n",
    "parser = PDBParser()\n",
    "structure = parser.get_structure(\"1a8o\", \"1a8o.pdb\")\n",
    "model = structure[0]\n",
    "rd = ResidueDepth(model)\n",
    "print(rd['A',(' ', 152, ' ')])"
   ]
  },
  {
   "cell_type": "code",
   "execution_count": 6,
   "id": "c36fbf9f-b0ae-4ea5-972b-6be6fda69f0d",
   "metadata": {},
   "outputs": [
    {
     "data": {
      "text/plain": [
       "array([[ 3.113, 35.393,  9.268],\n",
       "       [ 4.232, 34.474,  8.82 ],\n",
       "       [ 3.7  , 33.354,  9.061],\n",
       "       ...,\n",
       "       [34.357, 31.816, 18.811],\n",
       "       [34.357, 31.816, 17.705],\n",
       "       [33.557, 32.841, 16.759]])"
      ]
     },
     "execution_count": 6,
     "metadata": {},
     "output_type": "execute_result"
    }
   ],
   "source": [
    "from Bio.PDB.ResidueDepth import get_surface\n",
    "surface = get_surface(model)\n",
    "surface"
   ]
  },
  {
   "cell_type": "code",
   "execution_count": 7,
   "id": "04e8a5b1-9e10-4b53-8ddc-beec412cdcaa",
   "metadata": {},
   "outputs": [
    {
     "data": {
      "text/plain": [
       "np.float64(1.1839548133269278)"
      ]
     },
     "execution_count": 7,
     "metadata": {},
     "output_type": "execute_result"
    }
   ],
   "source": [
    "from Bio.PDB.ResidueDepth import min_dist\n",
    "coord = (1.113, 35.393,  9.268)\n",
    "dist = min_dist(coord, surface)\n",
    "dist"
   ]
  },
  {
   "cell_type": "code",
   "execution_count": 8,
   "id": "19ce2844-2c76-4549-b57f-5ad3e2dbfd76",
   "metadata": {},
   "outputs": [
    {
     "data": {
      "text/plain": [
       "np.float64(1.7654032513871405)"
      ]
     },
     "execution_count": 8,
     "metadata": {},
     "output_type": "execute_result"
    }
   ],
   "source": [
    "from Bio.PDB.ResidueDepth import residue_depth\n",
    "chain = model['A']\n",
    "res152 = chain[152]\n",
    "rd = residue_depth(res152, surface)\n",
    "rd"
   ]
  },
  {
   "cell_type": "markdown",
   "id": "61c9d127-ffba-47fa-a426-80f2a8128676",
   "metadata": {},
   "source": [
    "---------"
   ]
  },
  {
   "cell_type": "markdown",
   "id": "6a532aa8-4cf7-4a38-a791-b7d19cb6e3dd",
   "metadata": {},
   "source": [
    "### Loop on specified chains to make a dataframe with residue depth\n",
    "\n",
    "Work with code from ['Trouble with Biopython residue depth'](https://www.biostars.org/p/9603764/), and adapt it the code from [Biopython's 'Bio.PDB.ResidueDepth module' page](https://biopython.org/docs/1.75/api/Bio.PDB.ResidueDepth.html)."
   ]
  },
  {
   "cell_type": "code",
   "execution_count": 9,
   "id": "8793f7bb-ae5b-4ae2-80bf-f618c2d7bb06",
   "metadata": {},
   "outputs": [
    {
     "name": "stdout",
     "output_type": "stream",
     "text": [
      "Requirement already satisfied: pandas in /srv/conda/envs/notebook/lib/python3.10/site-packages (2.2.3)\n",
      "Requirement already satisfied: numpy>=1.22.4 in /srv/conda/envs/notebook/lib/python3.10/site-packages (from pandas) (2.0.2)\n",
      "Requirement already satisfied: python-dateutil>=2.8.2 in /srv/conda/envs/notebook/lib/python3.10/site-packages (from pandas) (2.9.0)\n",
      "Requirement already satisfied: pytz>=2020.1 in /srv/conda/envs/notebook/lib/python3.10/site-packages (from pandas) (2024.1)\n",
      "Requirement already satisfied: tzdata>=2022.7 in /srv/conda/envs/notebook/lib/python3.10/site-packages (from pandas) (2024.2)\n",
      "Requirement already satisfied: six>=1.5 in /srv/conda/envs/notebook/lib/python3.10/site-packages (from python-dateutil>=2.8.2->pandas) (1.16.0)\n",
      "Note: you may need to restart the kernel to use updated packages.\n"
     ]
    }
   ],
   "source": [
    "# Install Pandas here since not included in my msms_wrapper fork at this time\n",
    "%pip install pandas"
   ]
  },
  {
   "cell_type": "code",
   "execution_count": 10,
   "id": "3341f09b-9926-4215-b81c-2843aa88a0f8",
   "metadata": {},
   "outputs": [
    {
     "name": "stdout",
     "output_type": "stream",
     "text": [
      "  % Total    % Received % Xferd  Average Speed   Time    Time     Time  Current\n",
      "                                 Dload  Upload   Total   Spent    Left  Speed\n",
      "100 10699  100 10699    0     0  31248      0 --:--:-- --:--:-- --:--:-- 31192\n"
     ]
    }
   ],
   "source": [
    "#Get a simple structure for now; get working with simpler first.\n",
    "!curl -OL https://files.rcsb.org/download/1crn.pdb.gz\n",
    "!gunzip 1crn.pdb.gz"
   ]
  },
  {
   "cell_type": "code",
   "execution_count": 11,
   "id": "7057f805-3df1-483d-8463-2b303bdc0d50",
   "metadata": {},
   "outputs": [],
   "source": [
    "from Bio.PDB.ResidueDepth import residue_depth\n",
    "from Bio.PDB.PDBParser import PDBParser\n",
    "from Bio.PDB.Polypeptide import is_aa #based on https://biopython.org/docs/1.75/api/Bio.PDB.Polypeptide.html\n",
    "parser = PDBParser()\n",
    "structure = parser.get_structure(\"1crn\", \"1crn.pdb\")\n",
    "from Bio.PDB.ResidueDepth import get_surface\n",
    "model = structure[0]\n",
    "surface = get_surface(model) # this step will give something like the following if msms has not been downloaded and installed and set to work as `mmsms`: `RuntimeError: Failed to generate surface file using command: ; msms -probe_radius 1.5 -if /tmp/tmpilsljfx9 -of /tmp/tmpyh3l4u4w > /tmp/tmpawwp1gs7`\n",
    "#residue_depth_calculator = ResidueDepth(model)\n",
    "\n",
    "selected_chains = ['s','I' ,'A']\n",
    "\n",
    "# Calculate residue depth\n",
    "residue_data = []\n",
    "for model in structure:\n",
    "    for chain in model:\n",
    "        if chain.id in selected_chains:  # Check if the chain is in the selected list\n",
    "            for residue in chain:\n",
    "                if is_aa(residue):  # Only consider amino acid residues\n",
    "                    depth = residue_depth(model[chain.id][residue.get_id()], surface)\n",
    "                    residue_data.append({\n",
    "                        'Residue ID': residue.get_id()[1],\n",
    "                        'Residue Name': residue.get_resname(),\n",
    "                        'Depth': depth\n",
    "                    })\n",
    "\n",
    "# Create a DataFrame from the residue data\n",
    "import pandas as pd\n",
    "depths_df = pd.DataFrame(residue_data)"
   ]
  },
  {
   "cell_type": "code",
   "execution_count": 12,
   "id": "a16f83da-27db-4c74-9695-9f10bed9f611",
   "metadata": {},
   "outputs": [
    {
     "data": {
      "text/html": [
       "<div>\n",
       "<style scoped>\n",
       "    .dataframe tbody tr th:only-of-type {\n",
       "        vertical-align: middle;\n",
       "    }\n",
       "\n",
       "    .dataframe tbody tr th {\n",
       "        vertical-align: top;\n",
       "    }\n",
       "\n",
       "    .dataframe thead th {\n",
       "        text-align: right;\n",
       "    }\n",
       "</style>\n",
       "<table border=\"1\" class=\"dataframe\">\n",
       "  <thead>\n",
       "    <tr style=\"text-align: right;\">\n",
       "      <th></th>\n",
       "      <th>Residue ID</th>\n",
       "      <th>Residue Name</th>\n",
       "      <th>Depth</th>\n",
       "    </tr>\n",
       "  </thead>\n",
       "  <tbody>\n",
       "    <tr>\n",
       "      <th>0</th>\n",
       "      <td>1</td>\n",
       "      <td>THR</td>\n",
       "      <td>2.065941</td>\n",
       "    </tr>\n",
       "    <tr>\n",
       "      <th>1</th>\n",
       "      <td>2</td>\n",
       "      <td>THR</td>\n",
       "      <td>2.009514</td>\n",
       "    </tr>\n",
       "    <tr>\n",
       "      <th>2</th>\n",
       "      <td>3</td>\n",
       "      <td>CYS</td>\n",
       "      <td>3.352963</td>\n",
       "    </tr>\n",
       "    <tr>\n",
       "      <th>3</th>\n",
       "      <td>4</td>\n",
       "      <td>CYS</td>\n",
       "      <td>3.923890</td>\n",
       "    </tr>\n",
       "    <tr>\n",
       "      <th>4</th>\n",
       "      <td>5</td>\n",
       "      <td>PRO</td>\n",
       "      <td>2.336881</td>\n",
       "    </tr>\n",
       "  </tbody>\n",
       "</table>\n",
       "</div>"
      ],
      "text/plain": [
       "   Residue ID Residue Name     Depth\n",
       "0           1          THR  2.065941\n",
       "1           2          THR  2.009514\n",
       "2           3          CYS  3.352963\n",
       "3           4          CYS  3.923890\n",
       "4           5          PRO  2.336881"
      ]
     },
     "execution_count": 12,
     "metadata": {},
     "output_type": "execute_result"
    }
   ],
   "source": [
    "depths_df.head()"
   ]
  },
  {
   "cell_type": "code",
   "execution_count": 13,
   "id": "f8b36fdf-2d8d-4102-b737-807cd5655689",
   "metadata": {},
   "outputs": [
    {
     "data": {
      "text/html": [
       "<div>\n",
       "<style scoped>\n",
       "    .dataframe tbody tr th:only-of-type {\n",
       "        vertical-align: middle;\n",
       "    }\n",
       "\n",
       "    .dataframe tbody tr th {\n",
       "        vertical-align: top;\n",
       "    }\n",
       "\n",
       "    .dataframe thead th {\n",
       "        text-align: right;\n",
       "    }\n",
       "</style>\n",
       "<table border=\"1\" class=\"dataframe\">\n",
       "  <thead>\n",
       "    <tr style=\"text-align: right;\">\n",
       "      <th></th>\n",
       "      <th>Residue ID</th>\n",
       "      <th>Residue Name</th>\n",
       "      <th>Depth</th>\n",
       "    </tr>\n",
       "  </thead>\n",
       "  <tbody>\n",
       "    <tr>\n",
       "      <th>41</th>\n",
       "      <td>42</td>\n",
       "      <td>GLY</td>\n",
       "      <td>1.709602</td>\n",
       "    </tr>\n",
       "    <tr>\n",
       "      <th>42</th>\n",
       "      <td>43</td>\n",
       "      <td>ASP</td>\n",
       "      <td>1.671992</td>\n",
       "    </tr>\n",
       "    <tr>\n",
       "      <th>43</th>\n",
       "      <td>44</td>\n",
       "      <td>TYR</td>\n",
       "      <td>2.311689</td>\n",
       "    </tr>\n",
       "    <tr>\n",
       "      <th>44</th>\n",
       "      <td>45</td>\n",
       "      <td>ALA</td>\n",
       "      <td>1.767627</td>\n",
       "    </tr>\n",
       "    <tr>\n",
       "      <th>45</th>\n",
       "      <td>46</td>\n",
       "      <td>ASN</td>\n",
       "      <td>1.758436</td>\n",
       "    </tr>\n",
       "  </tbody>\n",
       "</table>\n",
       "</div>"
      ],
      "text/plain": [
       "    Residue ID Residue Name     Depth\n",
       "41          42          GLY  1.709602\n",
       "42          43          ASP  1.671992\n",
       "43          44          TYR  2.311689\n",
       "44          45          ALA  1.767627\n",
       "45          46          ASN  1.758436"
      ]
     },
     "execution_count": 13,
     "metadata": {},
     "output_type": "execute_result"
    }
   ],
   "source": [
    "depths_df.tail()"
   ]
  },
  {
   "cell_type": "markdown",
   "id": "f6da3aa5-950b-484e-b8a5-4aeb08d56651",
   "metadata": {},
   "source": [
    "Now that we've establihsed the basics work, let's expand this to try OP's target structure and chains."
   ]
  },
  {
   "cell_type": "code",
   "execution_count": 39,
   "id": "537d7630-9347-4c67-a66e-8e68850363e8",
   "metadata": {},
   "outputs": [
    {
     "name": "stdout",
     "output_type": "stream",
     "text": [
      "  % Total    % Received % Xferd  Average Speed   Time    Time     Time  Current\n",
      "                                 Dload  Upload   Total   Spent    Left  Speed\n",
      "100 1230k  100 1230k    0     0  10927      0  0:01:55  0:01:55 --:--:--  1771\n"
     ]
    }
   ],
   "source": [
    "#Get a the structure\n",
    "PDB_id = '5xtd'\n",
    "!curl -OL https://files.rcsb.org/download/{PDB_id}.pdb.gz\n",
    "!gunzip {PDB_id}.pdb.gz"
   ]
  },
  {
   "cell_type": "code",
   "execution_count": 41,
   "id": "91686e29-9cdf-4021-b60d-15392c132235",
   "metadata": {},
   "outputs": [
    {
     "name": "stderr",
     "output_type": "stream",
     "text": [
      "/srv/conda/envs/notebook/lib/python3.10/site-packages/Bio/PDB/StructureBuilder.py:100: PDBConstructionWarning: WARNING: Chain A is discontinuous at line 68048.\n",
      "  warnings.warn(\n",
      "/srv/conda/envs/notebook/lib/python3.10/site-packages/Bio/PDB/StructureBuilder.py:100: PDBConstructionWarning: WARNING: Chain B is discontinuous at line 68087.\n",
      "  warnings.warn(\n",
      "/srv/conda/envs/notebook/lib/python3.10/site-packages/Bio/PDB/StructureBuilder.py:100: PDBConstructionWarning: WARNING: Chain C is discontinuous at line 68155.\n",
      "  warnings.warn(\n",
      "/srv/conda/envs/notebook/lib/python3.10/site-packages/Bio/PDB/StructureBuilder.py:100: PDBConstructionWarning: WARNING: Chain E is discontinuous at line 68163.\n",
      "  warnings.warn(\n",
      "/srv/conda/envs/notebook/lib/python3.10/site-packages/Bio/PDB/StructureBuilder.py:100: PDBConstructionWarning: WARNING: Chain J is discontinuous at line 68198.\n",
      "  warnings.warn(\n",
      "/srv/conda/envs/notebook/lib/python3.10/site-packages/Bio/PDB/StructureBuilder.py:100: PDBConstructionWarning: WARNING: Chain M is discontinuous at line 68246.\n",
      "  warnings.warn(\n",
      "/srv/conda/envs/notebook/lib/python3.10/site-packages/Bio/PDB/StructureBuilder.py:100: PDBConstructionWarning: WARNING: Chain O is discontinuous at line 68266.\n",
      "  warnings.warn(\n",
      "/srv/conda/envs/notebook/lib/python3.10/site-packages/Bio/PDB/StructureBuilder.py:100: PDBConstructionWarning: WARNING: Chain U is discontinuous at line 68270.\n",
      "  warnings.warn(\n",
      "/srv/conda/envs/notebook/lib/python3.10/site-packages/Bio/PDB/StructureBuilder.py:100: PDBConstructionWarning: WARNING: Chain V is discontinuous at line 68322.\n",
      "  warnings.warn(\n",
      "/srv/conda/envs/notebook/lib/python3.10/site-packages/Bio/PDB/StructureBuilder.py:100: PDBConstructionWarning: WARNING: Chain W is discontinuous at line 68488.\n",
      "  warnings.warn(\n",
      "/srv/conda/envs/notebook/lib/python3.10/site-packages/Bio/PDB/StructureBuilder.py:100: PDBConstructionWarning: WARNING: Chain b is discontinuous at line 68539.\n",
      "  warnings.warn(\n",
      "/srv/conda/envs/notebook/lib/python3.10/site-packages/Bio/PDB/StructureBuilder.py:100: PDBConstructionWarning: WARNING: Chain g is discontinuous at line 68591.\n",
      "  warnings.warn(\n",
      "/srv/conda/envs/notebook/lib/python3.10/site-packages/Bio/PDB/StructureBuilder.py:100: PDBConstructionWarning: WARNING: Chain i is discontinuous at line 68747.\n",
      "  warnings.warn(\n",
      "/srv/conda/envs/notebook/lib/python3.10/site-packages/Bio/PDB/StructureBuilder.py:100: PDBConstructionWarning: WARNING: Chain l is discontinuous at line 68811.\n",
      "  warnings.warn(\n",
      "/srv/conda/envs/notebook/lib/python3.10/site-packages/Bio/PDB/StructureBuilder.py:100: PDBConstructionWarning: WARNING: Chain n is discontinuous at line 69039.\n",
      "  warnings.warn(\n",
      "/srv/conda/envs/notebook/lib/python3.10/site-packages/Bio/PDB/StructureBuilder.py:100: PDBConstructionWarning: WARNING: Chain p is discontinuous at line 69103.\n",
      "  warnings.warn(\n",
      "/srv/conda/envs/notebook/lib/python3.10/site-packages/Bio/PDB/StructureBuilder.py:100: PDBConstructionWarning: WARNING: Chain r is discontinuous at line 69138.\n",
      "  warnings.warn(\n",
      "srdf: un sommet est faux\n",
      "srdf: un sommet est faux\n",
      "srdf: un sommet est faux\n",
      "srdf: un sommet est faux\n",
      "srdf: un sommet est faux\n",
      "srdf: un sommet est faux\n",
      "sphere_mange_arete: inconcistence\n",
      "sphere_mange_arete: inconcistence\n",
      "srdf: un sommet est faux\n",
      "srdf: un sommet est faux\n",
      "srdf: un sommet est faux\n",
      "sphere_mange_arete: inconcistence\n",
      "sphere_mange_arete: inconcistence\n",
      "sphere_mange_arete: inconcistence\n"
     ]
    },
    {
     "ename": "RuntimeError",
     "evalue": "Failed to generate surface file using command:\nmsms -probe_radius 1.5 -if /tmp/tmpcfeqlo0o -of /tmp/tmprpzgyx3s > /tmp/tmp61fj6qyd",
     "output_type": "error",
     "traceback": [
      "\u001b[0;31m---------------------------------------------------------------------------\u001b[0m",
      "\u001b[0;31mRuntimeError\u001b[0m                              Traceback (most recent call last)",
      "Cell \u001b[0;32mIn[41], line 8\u001b[0m\n\u001b[1;32m      6\u001b[0m \u001b[38;5;28;01mfrom\u001b[39;00m \u001b[38;5;21;01mBio\u001b[39;00m\u001b[38;5;21;01m.\u001b[39;00m\u001b[38;5;21;01mPDB\u001b[39;00m\u001b[38;5;21;01m.\u001b[39;00m\u001b[38;5;21;01mResidueDepth\u001b[39;00m \u001b[38;5;28;01mimport\u001b[39;00m get_surface\n\u001b[1;32m      7\u001b[0m model \u001b[38;5;241m=\u001b[39m structure[\u001b[38;5;241m0\u001b[39m]\n\u001b[0;32m----> 8\u001b[0m surface \u001b[38;5;241m=\u001b[39m \u001b[43mget_surface\u001b[49m\u001b[43m(\u001b[49m\u001b[43mmodel\u001b[49m\u001b[43m)\u001b[49m \u001b[38;5;66;03m# this step will give something like the following if msms has not been downloaded and installed and set to work as `mmsms`: `RuntimeError: Failed to generate surface file using command: ; msms -probe_radius 1.5 -if /tmp/tmpilsljfx9 -of /tmp/tmpyh3l4u4w > /tmp/tmpawwp1gs7`\u001b[39;00m\n\u001b[1;32m      9\u001b[0m \u001b[38;5;66;03m#residue_depth_calculator = ResidueDepth(model)\u001b[39;00m\n\u001b[1;32m     11\u001b[0m selected_chains \u001b[38;5;241m=\u001b[39m [\u001b[38;5;124m'\u001b[39m\u001b[38;5;124ms\u001b[39m\u001b[38;5;124m'\u001b[39m,\u001b[38;5;124m'\u001b[39m\u001b[38;5;124mI\u001b[39m\u001b[38;5;124m'\u001b[39m ,\u001b[38;5;124m'\u001b[39m\u001b[38;5;124mA\u001b[39m\u001b[38;5;124m'\u001b[39m]\n",
      "File \u001b[0;32m/srv/conda/envs/notebook/lib/python3.10/site-packages/Bio/PDB/ResidueDepth.py:539\u001b[0m, in \u001b[0;36mget_surface\u001b[0;34m(model, MSMS)\u001b[0m\n\u001b[1;32m    537\u001b[0m surface_file \u001b[38;5;241m=\u001b[39m surface_tmp \u001b[38;5;241m+\u001b[39m \u001b[38;5;124m\"\u001b[39m\u001b[38;5;124m.vert\u001b[39m\u001b[38;5;124m\"\u001b[39m\n\u001b[1;32m    538\u001b[0m \u001b[38;5;28;01mif\u001b[39;00m \u001b[38;5;129;01mnot\u001b[39;00m os\u001b[38;5;241m.\u001b[39mpath\u001b[38;5;241m.\u001b[39misfile(surface_file):\n\u001b[0;32m--> 539\u001b[0m     \u001b[38;5;28;01mraise\u001b[39;00m \u001b[38;5;167;01mRuntimeError\u001b[39;00m(\n\u001b[1;32m    540\u001b[0m         \u001b[38;5;124mf\u001b[39m\u001b[38;5;124m\"\u001b[39m\u001b[38;5;124mFailed to generate surface file using command:\u001b[39m\u001b[38;5;130;01m\\n\u001b[39;00m\u001b[38;5;132;01m{\u001b[39;00mmake_surface\u001b[38;5;132;01m}\u001b[39;00m\u001b[38;5;124m\"\u001b[39m\n\u001b[1;32m    541\u001b[0m     )\n\u001b[1;32m    543\u001b[0m \u001b[38;5;66;03m# Read surface vertices from vertex file\u001b[39;00m\n\u001b[1;32m    544\u001b[0m surface \u001b[38;5;241m=\u001b[39m _read_vertex_array(surface_file)\n",
      "\u001b[0;31mRuntimeError\u001b[0m: Failed to generate surface file using command:\nmsms -probe_radius 1.5 -if /tmp/tmpcfeqlo0o -of /tmp/tmprpzgyx3s > /tmp/tmp61fj6qyd"
     ]
    }
   ],
   "source": [
    "from Bio.PDB.ResidueDepth import residue_depth\n",
    "from Bio.PDB.PDBParser import PDBParser\n",
    "from Bio.PDB.Polypeptide import is_aa #based on https://biopython.org/docs/1.75/api/Bio.PDB.Polypeptide.html\n",
    "parser = PDBParser()\n",
    "structure = parser.get_structure(\"Complex_1\", f\"{PDB_id}.pdb\")\n",
    "from Bio.PDB.ResidueDepth import get_surface\n",
    "model = structure[0]\n",
    "surface = get_surface(model) # this step will give something like the following if msms has not been downloaded and installed and set to work as `mmsms`: `RuntimeError: Failed to generate surface file using command: ; msms -probe_radius 1.5 -if /tmp/tmpilsljfx9 -of /tmp/tmpyh3l4u4w > /tmp/tmpawwp1gs7`\n",
    "#residue_depth_calculator = ResidueDepth(model)\n",
    "\n",
    "selected_chains = ['s','I' ,'A']\n",
    "\n",
    "# Calculate residue depth\n",
    "residue_data = []\n",
    "for model in structure:\n",
    "    for chain in model:\n",
    "        if chain.id in selected_chains:  # Check if the chain is in the selected list\n",
    "            for residue in chain:\n",
    "                if is_aa(residue):  # Only consider amino acid residues\n",
    "                    depth = residue_depth(model[chain.id][residue.get_id()], surface)\n",
    "                    residue_data.append({\n",
    "                        'Residue ID': residue.get_id()[1],\n",
    "                        'Residue Name': residue.get_resname(),\n",
    "                        'Depth': depth\n",
    "                    })\n",
    "\n",
    "# Create a DataFrame from the residue data\n",
    "import pandas as pd\n",
    "depths_df = pd.DataFrame(residue_data)"
   ]
  },
  {
   "cell_type": "markdown",
   "id": "71473c7c-8812-438f-9df0-d420b9db51b0",
   "metadata": {},
   "source": [
    "That fails because of issues with the structure file.  Maybe the discontinuous chains?\n",
    "\n",
    "OP didn't post such warnings."
   ]
  }
 ],
 "metadata": {
  "kernelspec": {
   "display_name": "Python 3 (ipykernel)",
   "language": "python",
   "name": "python3"
  },
  "language_info": {
   "codemirror_mode": {
    "name": "ipython",
    "version": 3
   },
   "file_extension": ".py",
   "mimetype": "text/x-python",
   "name": "python",
   "nbconvert_exporter": "python",
   "pygments_lexer": "ipython3",
   "version": "3.10.14"
  }
 },
 "nbformat": 4,
 "nbformat_minor": 5
}
