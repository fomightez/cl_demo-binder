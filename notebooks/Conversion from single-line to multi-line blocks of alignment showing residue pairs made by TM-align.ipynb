{
 "cells": [
  {
   "cell_type": "markdown",
   "id": "described-registration",
   "metadata": {},
   "source": [
    "# Conversion from single-line to multi-line blocks of alignment showing residue pairs made by TM-align\n",
    "\n",
    "Issue:  \n",
    "As part of the results [Tm-align](https://zhanggroup.org/TM-align/) generates is a sequence alignment showing the pairs of residues that are close in distance in the aligned structures, i.e., 'aligned residue pairs'. However, these sequences are all on the same line in the report. For long sequences, this can be difficult to view easily. One way to view such an alignment is by viewing it in a text editor by disabling word-wrap. However, this requires active visualization to explore making it impossible to assess the extreme ends at the same tie. Plus, this wide-view form is hard to pass along to colleagues in a report form.\n",
    "\n",
    "There's three lines. The outer two are the sequence of the aligned structure and the center line has symbols indicating that have been aligned. The symbols mean the following according to the returned page that includes the report : '\":\" denotes aligned residue pairs of d < 5.0 A, \".\" denotes other aligned residues'.\n",
    "\n",
    "The process illustrated in this notebook takes those three lines and makes blocks of aligned sequences, reminiscent of what you'd get for a Clustal format, for example [here](https://gist.githubusercontent.com/fomightez/f46b0624f1d8e3abb6ff908fc447e63b/raw/6abce38569475c68fa32182c4e0eaadbb8b0cf3b/Stv1p_Vph1p_muscle_alignment.clw.)\n",
    "\n",
    "\n",
    "-----\n",
    "\n",
    "### Preparation: making demo input\n",
    "\n",
    "The demo input was made by [Tm-align](https://zhanggroup.org/TM-align/) when provided chains a of [6o7v](https://www.rcsb.org/structure/6O7V) and [6o7t](https://www.rcsb.org/structure/6O7T), Stv1p and Vph1p, respectively. The files with the two chains isolated from the rest of the PDB files for the structures were made using the script `split_into_chains.sh` as illustrated in [this notebook](Split%20pdb%20files%20into%20chains.ipynb).\n",
    "\n",
    "Below are the three alignment lines from the 'TM-align Results' page of the submission of `6o7v_a.pdb` and `6o7t_a.pdb`. In other words, the three lines below `(\":\" denotes aligned residue pairs of d < 5.0 A, \".\" denotes other aligned residues)`:"
   ]
  },
  {
   "cell_type": "code",
   "execution_count": 19,
   "id": "frequent-speaker",
   "metadata": {},
   "outputs": [],
   "source": [
    "s='''------------VQLY-IPLEVIREVTF-LLG-KM--------------------LRRFDEVERMVGFLN-EV--VEKH------------------LSLENVNDMVKEITDCESRARQLDESLDSLRSKLN-DLLEQRQVIFECSKFIEVYMITGSIRRTKVDILNRIL-------------------------------------------------W-R--------------------LLRGNLIFQNFPIEVEKDCFIIFTHGETLLKKVKRVIDSLNGKIVSLNTRSSEL-VDTLNRQ--IDDLQRILDTTEQTLHTELLVIHDQLPVWSAMTKREKYVYTTLNKFQQESQ-GLIAEGWVPSTELIHLQDSLKDYIE-TL-----GSEYSTV-F-N-V-------------------------------AGLATVVTFPFMFAIMFGDMGHGFILFLMALFLVLNERKFGAMHRDEIFDMAFTGRYVLLLMGAFSVYTGLLYNDIFSKSMTIFKSGWQWPSTFRKGESIEAKKTGVYPFGLDFAWHGTDNGLLFSNSYKMKLSILMGYAHMTYSFMFSYINYRAKNSKVDIIGNFIPGLVFMQSIFGYLSWAIVYKWSKDWIKDDKPAPGLLNMLINMFLAPGTIDDQLYSGQAKLQVVLLLAALVCVPWLLLYKPLTLRRLNKFNFGDVMIHQVIHTIEFCLNCISHTASYLRLWALSLAHAQLSSVLWDMTISNAFSSKNSGSPLAVMKVVFLFAMWFVLTVCILVFMEGTSAMLHALRLHWVEAMSK----------------------\n",
    "            .... ..::::::.:: :.. ::                    ::::::::..:.... :.  ....                  .:.::::.::..:...:............ ...   .  .                   ..:::::.......                                                 . .                    ...:..::::.      .::.                    ....          .  .     .  .. ... ...... ....:..::::::::::::::::........... ...... ..  :.:........... .:     :::.... . . :                               :::::::::::::::::::::::::::::::::::::::::::::::::::::::::::::::::::::::::::::::::::::::::::::::::::::::::::::::::::::::::::::::::::::::::::::::::::::::::::::::::::::::::::::::::::::::::::::::::::::::::::::::::::::::::::::::::::::::::::::::::::::::::         ::::::::::::::::::::::::::::::::::::::::::::::::::::: : : :::::::::::::::::::::::::::::::::::::::::::::                      \n",
    "KEEAIFRSAEMALVQFYIPQEISRDSAYTLGQLGLVQFRDLNSKVRAFQRTFVNEIRRLDNVERQYRYFYSLLKKHDIKLYEGDTDKYLDGSGELYVPPSGSVIDDYVRNASYLEERLIQMEDATD-QIE--VQ--K-------------------NDLEQYRFILYVTGVIARDKVATLEQILWRVLRGNLFFKTVEIEQPVYDVKTREYKHKNAFIVFSHGDLIIKRIRKIAESLDANLYDVDSSNEGRSQ------QLAK--------------------VNKN---------LS--D---LYT--VL-KTT-STTLES-ELYAIAKELDSWFQDVTREKAIFEILNKSNYDTNRKILIAE-GW--IPRDELATLQARLGEMIARLGIDVPSIIQVLDTNHTPPTFHRTNKFTAGFQSICDCYGIAQYREINAGLPTIVTFPFMFAIMFGDMGHGFLMTLAALSLVLNEKKINKMKRGEIFDMAFTGRYIILLMGVFSMYTGFLYNDIFSKTMTIFKSGWKWPDHWKKGESITATSVGTYPIGLDWAWHGTENALLFSNSYKMKLSILMGFIHMTYSYFFSLANHLYFNSMIDIIGNFIPGLLFMQGIFGYLSVCIVYKWAVDWVKDGKPAPGLLNMLINMFLSPGTIDDELYPHQAKVQVFLLLMALVCIPWLLLVKPLH---------GDIMIHQVIHTIEFCLNCVSHTASYLRLWALSLAHAQLSSVLWTMTIQIAFGF-R-G-FVGVFMTVALFAMWFALTCAVLVLMEGTSAMLHSLRLHWVESMSKFFVGEGLPYEPFAFEYKDMEVA\n",
    "'''"
   ]
  },
  {
   "cell_type": "markdown",
   "id": "69dff5e2",
   "metadata": {},
   "source": [
    "### Preparation: Define approach code"
   ]
  },
  {
   "cell_type": "code",
   "execution_count": 20,
   "id": "ffa831b1",
   "metadata": {},
   "outputs": [],
   "source": [
    "sequence_characters_per_line_in_output = 80\n",
    "def chunk_record(sequence_string):\n",
    "    '''\n",
    "    chop up so characters per line matches setting of\n",
    "    `sequence_characters_per_line_in_output`\n",
    "    \n",
    "    return a list of the 'chunks'\n",
    "    '''\n",
    "    chunk_size = sequence_characters_per_line_in_output\n",
    "    seq_chunks = [sequence_string[i:i+chunk_size] for i in range(\n",
    "        0, len(sequence_string),chunk_size)]\n",
    "    #return \"\\n\".join(seq_chunks)\n",
    "    return seq_chunks"
   ]
  },
  {
   "cell_type": "markdown",
   "id": "mechanical-transformation",
   "metadata": {},
   "source": [
    "### Conversion step\n",
    "\n",
    "The convsersion step will take the input represented above and convert it."
   ]
  },
  {
   "cell_type": "code",
   "execution_count": 26,
   "id": "40569405",
   "metadata": {},
   "outputs": [
    {
     "name": "stdout",
     "output_type": "stream",
     "text": [
      "------------VQLY-IPLEVIREVTF-LLG-KM--------------------LRRFDEVERMVGFLN-EV--VEKH-\n",
      "            .... ..::::::.:: :.. ::                    ::::::::..:.... :.  .... \n",
      "KEEAIFRSAEMALVQFYIPQEISRDSAYTLGQLGLVQFRDLNSKVRAFQRTFVNEIRRLDNVERQYRYFYSLLKKHDIKL\n",
      "\n",
      "\n",
      "-----------------LSLENVNDMVKEITDCESRARQLDESLDSLRSKLN-DLLEQRQVIFECSKFIEVYMITGSIRR\n",
      "                 .:.::::.::..:...:............ ...   .  .                   ..::\n",
      "YEGDTDKYLDGSGELYVPPSGSVIDDYVRNASYLEERLIQMEDATD-QIE--VQ--K-------------------NDLE\n",
      "\n",
      "\n",
      "TKVDILNRIL-------------------------------------------------W-R------------------\n",
      ":::.......                                                 . .                  \n",
      "QYRFILYVTGVIARDKVATLEQILWRVLRGNLFFKTVEIEQPVYDVKTREYKHKNAFIVFSHGDLIIKRIRKIAESLDAN\n",
      "\n",
      "\n",
      "--LLRGNLIFQNFPIEVEKDCFIIFTHGETLLKKVKRVIDSLNGKIVSLNTRSSEL-VDTLNRQ--IDDLQRILDTTEQT\n",
      "  ...:..::::.      .::.                    ....          .  .     .  .. ... ....\n",
      "LYDVDSSNEGRSQ------QLAK--------------------VNKN---------LS--D---LYT--VL-KTT-STTL\n",
      "\n",
      "\n",
      "LHTELLVIHDQLPVWSAMTKREKYVYTTLNKFQQESQ-GLIAEGWVPSTELIHLQDSLKDYIE-TL-----GSEYSTV-F\n",
      ".. ....:..::::::::::::::::........... ...... ..  :.:........... .:     :::.... .\n",
      "ES-ELYAIAKELDSWFQDVTREKAIFEILNKSNYDTNRKILIAE-GW--IPRDELATLQARLGEMIARLGIDVPSIIQVL\n",
      "\n",
      "\n",
      "-N-V-------------------------------AGLATVVTFPFMFAIMFGDMGHGFILFLMALFLVLNERKFGAMHR\n",
      " . :                               :::::::::::::::::::::::::::::::::::::::::::::\n",
      "DTNHTPPTFHRTNKFTAGFQSICDCYGIAQYREINAGLPTIVTFPFMFAIMFGDMGHGFLMTLAALSLVLNEKKINKMKR\n",
      "\n",
      "\n",
      "DEIFDMAFTGRYVLLLMGAFSVYTGLLYNDIFSKSMTIFKSGWQWPSTFRKGESIEAKKTGVYPFGLDFAWHGTDNGLLF\n",
      "::::::::::::::::::::::::::::::::::::::::::::::::::::::::::::::::::::::::::::::::\n",
      "GEIFDMAFTGRYIILLMGVFSMYTGFLYNDIFSKTMTIFKSGWKWPDHWKKGESITATSVGTYPIGLDWAWHGTENALLF\n",
      "\n",
      "\n",
      "SNSYKMKLSILMGYAHMTYSFMFSYINYRAKNSKVDIIGNFIPGLVFMQSIFGYLSWAIVYKWSKDWIKDDKPAPGLLNM\n",
      "::::::::::::::::::::::::::::::::::::::::::::::::::::::::::::::::::::::::::::::::\n",
      "SNSYKMKLSILMGFIHMTYSYFFSLANHLYFNSMIDIIGNFIPGLLFMQGIFGYLSVCIVYKWAVDWVKDGKPAPGLLNM\n",
      "\n",
      "\n",
      "LINMFLAPGTIDDQLYSGQAKLQVVLLLAALVCVPWLLLYKPLTLRRLNKFNFGDVMIHQVIHTIEFCLNCISHTASYLR\n",
      "::::::::::::::::::::::::::::::::::::::::::::         :::::::::::::::::::::::::::\n",
      "LINMFLSPGTIDDELYPHQAKVQVFLLLMALVCIPWLLLVKPLH---------GDIMIHQVIHTIEFCLNCVSHTASYLR\n",
      "\n",
      "\n",
      "LWALSLAHAQLSSVLWDMTISNAFSSKNSGSPLAVMKVVFLFAMWFVLTVCILVFMEGTSAMLHALRLHWVEAMSK----\n",
      ":::::::::::::::::::::::::: : : :::::::::::::::::::::::::::::::::::::::::::::    \n",
      "LWALSLAHAQLSSVLWTMTIQIAFGF-R-G-FVGVFMTVALFAMWFALTCAVLVLMEGTSAMLHSLRLHWVESMSKFFVG\n",
      "\n",
      "\n",
      "------------------\n",
      "                  \n",
      "EGLPYEPFAFEYKDMEVA\n",
      "\n",
      "\n",
      "\n"
     ]
    }
   ],
   "source": [
    "# take the lines each as separate string\n",
    "list_o_lines = s.split(\"\\n\")\n",
    "# take each line and chunk into strings of length matching setting for \n",
    "# `sequence_characters_per_line_in_output`\n",
    "chunked_lines = []\n",
    "for l in list_o_lines:\n",
    "    chunked_lines.append(chunk_record(l))\n",
    "# zip the chunked lines so they can be used to create blocks\n",
    "zipped_chunks = list(zip(*chunked_lines[:3])) #Because of way I made line ending to \n",
    "# place closing `'''` on last line of the string used as input\n",
    "# just want the three lines and NOT THE EMPTRY FOURTH.\n",
    "# Create the blocks of output\n",
    "out = \"\"\n",
    "for x in zipped_chunks:\n",
    "    out += f\"{x[0]}\\n{x[1]}\\n{x[2]}\\n\\n\\n\"\n",
    "print(out)"
   ]
  },
  {
   "cell_type": "code",
   "execution_count": 18,
   "id": "endangered-philosophy",
   "metadata": {},
   "outputs": [
    {
     "name": "stdout",
     "output_type": "stream",
     "text": [
      "------------VQLY-IPLEVIREVTF-LLG-KM--------------------LRRFDEVERMVGFLN-EV--VEKH-\n",
      "            .... ..::::::.:: :.. ::                    ::::::::..:.... :.  .... \n",
      "KEEAIFRSAEMALVQFYIPQEISRDSAYTLGQLGLVQFRDLNSKVRAFQRTFVNEIRRLDNVERQYRYFYSLLKKHDIKL\n",
      "\n",
      "\n",
      "-----------------LSLENVNDMVKEITDCESRARQLDESLDSLRSKLN-DLLEQRQVIFECSKFIEVYMITGSIRR\n",
      "                 .:.::::.::..:...:............ ...   .  .                   ..::\n",
      "YEGDTDKYLDGSGELYVPPSGSVIDDYVRNASYLEERLIQMEDATD-QIE--VQ--K-------------------NDLE\n",
      "\n",
      "\n",
      "TKVDILNRIL-------------------------------------------------W-R------------------\n",
      ":::.......                                                 . .                  \n",
      "QYRFILYVTGVIARDKVATLEQILWRVLRGNLFFKTVEIEQPVYDVKTREYKHKNAFIVFSHGDLIIKRIRKIAESLDAN\n",
      "\n",
      "\n",
      "--LLRGNLIFQNFPIEVEKDCFIIFTHGETLLKKVKRVIDSLNGKIVSLNTRSSEL-VDTLNRQ--IDDLQRILDTTEQT\n",
      "  ...:..::::.      .::.                    ....          .  .     .  .. ... ....\n",
      "LYDVDSSNEGRSQ------QLAK--------------------VNKN---------LS--D---LYT--VL-KTT-STTL\n",
      "\n",
      "\n",
      "LHTELLVIHDQLPVWSAMTKREKYVYTTLNKFQQESQ-GLIAEGWVPSTELIHLQDSLKDYIE-TL-----GSEYSTV-F\n",
      ".. ....:..::::::::::::::::........... ...... ..  :.:........... .:     :::.... .\n",
      "ES-ELYAIAKELDSWFQDVTREKAIFEILNKSNYDTNRKILIAE-GW--IPRDELATLQARLGEMIARLGIDVPSIIQVL\n",
      "\n",
      "\n",
      "-N-V-------------------------------AGLATVVTFPFMFAIMFGDMGHGFILFLMALFLVLNERKFGAMHR\n",
      " . :                               :::::::::::::::::::::::::::::::::::::::::::::\n",
      "DTNHTPPTFHRTNKFTAGFQSICDCYGIAQYREINAGLPTIVTFPFMFAIMFGDMGHGFLMTLAALSLVLNEKKINKMKR\n",
      "\n",
      "\n",
      "DEIFDMAFTGRYVLLLMGAFSVYTGLLYNDIFSKSMTIFKSGWQWPSTFRKGESIEAKKTGVYPFGLDFAWHGTDNGLLF\n",
      "::::::::::::::::::::::::::::::::::::::::::::::::::::::::::::::::::::::::::::::::\n",
      "GEIFDMAFTGRYIILLMGVFSMYTGFLYNDIFSKTMTIFKSGWKWPDHWKKGESITATSVGTYPIGLDWAWHGTENALLF\n",
      "\n",
      "\n",
      "SNSYKMKLSILMGYAHMTYSFMFSYINYRAKNSKVDIIGNFIPGLVFMQSIFGYLSWAIVYKWSKDWIKDDKPAPGLLNM\n",
      "::::::::::::::::::::::::::::::::::::::::::::::::::::::::::::::::::::::::::::::::\n",
      "SNSYKMKLSILMGFIHMTYSYFFSLANHLYFNSMIDIIGNFIPGLLFMQGIFGYLSVCIVYKWAVDWVKDGKPAPGLLNM\n",
      "\n",
      "\n",
      "LINMFLAPGTIDDQLYSGQAKLQVVLLLAALVCVPWLLLYKPLTLRRLNKFNFGDVMIHQVIHTIEFCLNCISHTASYLR\n",
      "::::::::::::::::::::::::::::::::::::::::::::         :::::::::::::::::::::::::::\n",
      "LINMFLSPGTIDDELYPHQAKVQVFLLLMALVCIPWLLLVKPLH---------GDIMIHQVIHTIEFCLNCVSHTASYLR\n",
      "\n",
      "\n",
      "LWALSLAHAQLSSVLWDMTISNAFSSKNSGSPLAVMKVVFLFAMWFVLTVCILVFMEGTSAMLHALRLHWVEAMSK----\n",
      ":::::::::::::::::::::::::: : : :::::::::::::::::::::::::::::::::::::::::::::    \n",
      "LWALSLAHAQLSSVLWTMTIQIAFGF-R-G-FVGVFMTVALFAMWFALTCAVLVLMEGTSAMLHSLRLHWVESMSKFFVG\n",
      "\n",
      "\n",
      "------------------\n",
      "                  \n",
      "EGLPYEPFAFEYKDMEVA\n",
      "\n",
      "\n",
      "\n"
     ]
    }
   ],
   "source": [
    "# take the lines each as separate string\n",
    "list_o_lines = s.split(\"\\n\")\n",
    "# take each line and chunk into strings of length matching setting for \n",
    "# `sequence_characters_per_line_in_output`\n",
    "chunked_lines = []\n",
    "for l in list_o_lines:\n",
    "    chunked_lines.append(chunk_record(l))\n",
    "# zip the chunked lines so they can be used to create blocks\n",
    "zipped_chunks = list(zip(chunked_lines[0],chunked_lines[1],chunked_lines[2]))\n",
    "# Create the blocks of output\n",
    "out = \"\"\n",
    "for x in zipped_chunks:\n",
    "    #print(x[0])\n",
    "    #print(x[1])\n",
    "    #print(x[2])\n",
    "    out += f\"{x[0]}\\n{x[1]}\\n{x[2]}\\n\\n\\n\"\n",
    "print(out)"
   ]
  },
  {
   "cell_type": "code",
   "execution_count": 22,
   "id": "d426284a",
   "metadata": {},
   "outputs": [
    {
     "data": {
      "text/plain": [
       "[['------------VQLY-IPLEVIREVTF-LLG-KM--------------------LRRFDEVERMVGFLN-EV--VEKH-',\n",
       "  '-----------------LSLENVNDMVKEITDCESRARQLDESLDSLRSKLN-DLLEQRQVIFECSKFIEVYMITGSIRR',\n",
       "  'TKVDILNRIL-------------------------------------------------W-R------------------',\n",
       "  '--LLRGNLIFQNFPIEVEKDCFIIFTHGETLLKKVKRVIDSLNGKIVSLNTRSSEL-VDTLNRQ--IDDLQRILDTTEQT',\n",
       "  'LHTELLVIHDQLPVWSAMTKREKYVYTTLNKFQQESQ-GLIAEGWVPSTELIHLQDSLKDYIE-TL-----GSEYSTV-F',\n",
       "  '-N-V-------------------------------AGLATVVTFPFMFAIMFGDMGHGFILFLMALFLVLNERKFGAMHR',\n",
       "  'DEIFDMAFTGRYVLLLMGAFSVYTGLLYNDIFSKSMTIFKSGWQWPSTFRKGESIEAKKTGVYPFGLDFAWHGTDNGLLF',\n",
       "  'SNSYKMKLSILMGYAHMTYSFMFSYINYRAKNSKVDIIGNFIPGLVFMQSIFGYLSWAIVYKWSKDWIKDDKPAPGLLNM',\n",
       "  'LINMFLAPGTIDDQLYSGQAKLQVVLLLAALVCVPWLLLYKPLTLRRLNKFNFGDVMIHQVIHTIEFCLNCISHTASYLR',\n",
       "  'LWALSLAHAQLSSVLWDMTISNAFSSKNSGSPLAVMKVVFLFAMWFVLTVCILVFMEGTSAMLHALRLHWVEAMSK----',\n",
       "  '------------------'],\n",
       " ['            .... ..::::::.:: :.. ::                    ::::::::..:.... :.  .... ',\n",
       "  '                 .:.::::.::..:...:............ ...   .  .                   ..::',\n",
       "  ':::.......                                                 . .                  ',\n",
       "  '  ...:..::::.      .::.                    ....          .  .     .  .. ... ....',\n",
       "  '.. ....:..::::::::::::::::........... ...... ..  :.:........... .:     :::.... .',\n",
       "  ' . :                               :::::::::::::::::::::::::::::::::::::::::::::',\n",
       "  '::::::::::::::::::::::::::::::::::::::::::::::::::::::::::::::::::::::::::::::::',\n",
       "  '::::::::::::::::::::::::::::::::::::::::::::::::::::::::::::::::::::::::::::::::',\n",
       "  '::::::::::::::::::::::::::::::::::::::::::::         :::::::::::::::::::::::::::',\n",
       "  ':::::::::::::::::::::::::: : : :::::::::::::::::::::::::::::::::::::::::::::    ',\n",
       "  '                  '],\n",
       " ['KEEAIFRSAEMALVQFYIPQEISRDSAYTLGQLGLVQFRDLNSKVRAFQRTFVNEIRRLDNVERQYRYFYSLLKKHDIKL',\n",
       "  'YEGDTDKYLDGSGELYVPPSGSVIDDYVRNASYLEERLIQMEDATD-QIE--VQ--K-------------------NDLE',\n",
       "  'QYRFILYVTGVIARDKVATLEQILWRVLRGNLFFKTVEIEQPVYDVKTREYKHKNAFIVFSHGDLIIKRIRKIAESLDAN',\n",
       "  'LYDVDSSNEGRSQ------QLAK--------------------VNKN---------LS--D---LYT--VL-KTT-STTL',\n",
       "  'ES-ELYAIAKELDSWFQDVTREKAIFEILNKSNYDTNRKILIAE-GW--IPRDELATLQARLGEMIARLGIDVPSIIQVL',\n",
       "  'DTNHTPPTFHRTNKFTAGFQSICDCYGIAQYREINAGLPTIVTFPFMFAIMFGDMGHGFLMTLAALSLVLNEKKINKMKR',\n",
       "  'GEIFDMAFTGRYIILLMGVFSMYTGFLYNDIFSKTMTIFKSGWKWPDHWKKGESITATSVGTYPIGLDWAWHGTENALLF',\n",
       "  'SNSYKMKLSILMGFIHMTYSYFFSLANHLYFNSMIDIIGNFIPGLLFMQGIFGYLSVCIVYKWAVDWVKDGKPAPGLLNM',\n",
       "  'LINMFLSPGTIDDELYPHQAKVQVFLLLMALVCIPWLLLVKPLH---------GDIMIHQVIHTIEFCLNCVSHTASYLR',\n",
       "  'LWALSLAHAQLSSVLWTMTIQIAFGF-R-G-FVGVFMTVALFAMWFALTCAVLVLMEGTSAMLHSLRLHWVESMSKFFVG',\n",
       "  'EGLPYEPFAFEYKDMEVA'],\n",
       " []]"
      ]
     },
     "execution_count": 22,
     "metadata": {},
     "output_type": "execute_result"
    }
   ],
   "source": [
    "chunked_lines"
   ]
  },
  {
   "cell_type": "code",
   "execution_count": 24,
   "id": "420c900e",
   "metadata": {},
   "outputs": [
    {
     "data": {
      "text/plain": [
       "[['------------VQLY-IPLEVIREVTF-LLG-KM--------------------LRRFDEVERMVGFLN-EV--VEKH-',\n",
       "  '-----------------LSLENVNDMVKEITDCESRARQLDESLDSLRSKLN-DLLEQRQVIFECSKFIEVYMITGSIRR',\n",
       "  'TKVDILNRIL-------------------------------------------------W-R------------------',\n",
       "  '--LLRGNLIFQNFPIEVEKDCFIIFTHGETLLKKVKRVIDSLNGKIVSLNTRSSEL-VDTLNRQ--IDDLQRILDTTEQT',\n",
       "  'LHTELLVIHDQLPVWSAMTKREKYVYTTLNKFQQESQ-GLIAEGWVPSTELIHLQDSLKDYIE-TL-----GSEYSTV-F',\n",
       "  '-N-V-------------------------------AGLATVVTFPFMFAIMFGDMGHGFILFLMALFLVLNERKFGAMHR',\n",
       "  'DEIFDMAFTGRYVLLLMGAFSVYTGLLYNDIFSKSMTIFKSGWQWPSTFRKGESIEAKKTGVYPFGLDFAWHGTDNGLLF',\n",
       "  'SNSYKMKLSILMGYAHMTYSFMFSYINYRAKNSKVDIIGNFIPGLVFMQSIFGYLSWAIVYKWSKDWIKDDKPAPGLLNM',\n",
       "  'LINMFLAPGTIDDQLYSGQAKLQVVLLLAALVCVPWLLLYKPLTLRRLNKFNFGDVMIHQVIHTIEFCLNCISHTASYLR',\n",
       "  'LWALSLAHAQLSSVLWDMTISNAFSSKNSGSPLAVMKVVFLFAMWFVLTVCILVFMEGTSAMLHALRLHWVEAMSK----',\n",
       "  '------------------'],\n",
       " ['            .... ..::::::.:: :.. ::                    ::::::::..:.... :.  .... ',\n",
       "  '                 .:.::::.::..:...:............ ...   .  .                   ..::',\n",
       "  ':::.......                                                 . .                  ',\n",
       "  '  ...:..::::.      .::.                    ....          .  .     .  .. ... ....',\n",
       "  '.. ....:..::::::::::::::::........... ...... ..  :.:........... .:     :::.... .',\n",
       "  ' . :                               :::::::::::::::::::::::::::::::::::::::::::::',\n",
       "  '::::::::::::::::::::::::::::::::::::::::::::::::::::::::::::::::::::::::::::::::',\n",
       "  '::::::::::::::::::::::::::::::::::::::::::::::::::::::::::::::::::::::::::::::::',\n",
       "  '::::::::::::::::::::::::::::::::::::::::::::         :::::::::::::::::::::::::::',\n",
       "  ':::::::::::::::::::::::::: : : :::::::::::::::::::::::::::::::::::::::::::::    ',\n",
       "  '                  '],\n",
       " ['KEEAIFRSAEMALVQFYIPQEISRDSAYTLGQLGLVQFRDLNSKVRAFQRTFVNEIRRLDNVERQYRYFYSLLKKHDIKL',\n",
       "  'YEGDTDKYLDGSGELYVPPSGSVIDDYVRNASYLEERLIQMEDATD-QIE--VQ--K-------------------NDLE',\n",
       "  'QYRFILYVTGVIARDKVATLEQILWRVLRGNLFFKTVEIEQPVYDVKTREYKHKNAFIVFSHGDLIIKRIRKIAESLDAN',\n",
       "  'LYDVDSSNEGRSQ------QLAK--------------------VNKN---------LS--D---LYT--VL-KTT-STTL',\n",
       "  'ES-ELYAIAKELDSWFQDVTREKAIFEILNKSNYDTNRKILIAE-GW--IPRDELATLQARLGEMIARLGIDVPSIIQVL',\n",
       "  'DTNHTPPTFHRTNKFTAGFQSICDCYGIAQYREINAGLPTIVTFPFMFAIMFGDMGHGFLMTLAALSLVLNEKKINKMKR',\n",
       "  'GEIFDMAFTGRYIILLMGVFSMYTGFLYNDIFSKTMTIFKSGWKWPDHWKKGESITATSVGTYPIGLDWAWHGTENALLF',\n",
       "  'SNSYKMKLSILMGFIHMTYSYFFSLANHLYFNSMIDIIGNFIPGLLFMQGIFGYLSVCIVYKWAVDWVKDGKPAPGLLNM',\n",
       "  'LINMFLSPGTIDDELYPHQAKVQVFLLLMALVCIPWLLLVKPLH---------GDIMIHQVIHTIEFCLNCVSHTASYLR',\n",
       "  'LWALSLAHAQLSSVLWTMTIQIAFGF-R-G-FVGVFMTVALFAMWFALTCAVLVLMEGTSAMLHSLRLHWVESMSKFFVG',\n",
       "  'EGLPYEPFAFEYKDMEVA']]"
      ]
     },
     "execution_count": 24,
     "metadata": {},
     "output_type": "execute_result"
    }
   ],
   "source": [
    "chunked_lines[:3]"
   ]
  },
  {
   "cell_type": "code",
   "execution_count": 9,
   "id": "25ed10f0",
   "metadata": {},
   "outputs": [
    {
     "data": {
      "text/plain": [
       "[(['------------VQLY-IPLEVIREVTF-LLG-KM--------------------LRRFDEVERMVGFLN-EV--VEKH-',\n",
       "   '-----------------LSLENVNDMVKEITDCESRARQLDESLDSLRSKLN-DLLEQRQVIFECSKFIEVYMITGSIRR',\n",
       "   'TKVDILNRIL-------------------------------------------------W-R------------------',\n",
       "   '--LLRGNLIFQNFPIEVEKDCFIIFTHGETLLKKVKRVIDSLNGKIVSLNTRSSEL-VDTLNRQ--IDDLQRILDTTEQT',\n",
       "   'LHTELLVIHDQLPVWSAMTKREKYVYTTLNKFQQESQ-GLIAEGWVPSTELIHLQDSLKDYIE-TL-----GSEYSTV-F',\n",
       "   '-N-V-------------------------------AGLATVVTFPFMFAIMFGDMGHGFILFLMALFLVLNERKFGAMHR',\n",
       "   'DEIFDMAFTGRYVLLLMGAFSVYTGLLYNDIFSKSMTIFKSGWQWPSTFRKGESIEAKKTGVYPFGLDFAWHGTDNGLLF',\n",
       "   'SNSYKMKLSILMGYAHMTYSFMFSYINYRAKNSKVDIIGNFIPGLVFMQSIFGYLSWAIVYKWSKDWIKDDKPAPGLLNM',\n",
       "   'LINMFLAPGTIDDQLYSGQAKLQVVLLLAALVCVPWLLLYKPLTLRRLNKFNFGDVMIHQVIHTIEFCLNCISHTASYLR',\n",
       "   'LWALSLAHAQLSSVLWDMTISNAFSSKNSGSPLAVMKVVFLFAMWFVLTVCILVFMEGTSAMLHALRLHWVEAMSK----',\n",
       "   '------------------'],),\n",
       " (['            .... ..::::::.:: :.. ::                    ::::::::..:.... :.  .... ',\n",
       "   '                 .:.::::.::..:...:............ ...   .  .                   ..::',\n",
       "   ':::.......                                                 . .                  ',\n",
       "   '  ...:..::::.      .::.                    ....          .  .     .  .. ... ....',\n",
       "   '.. ....:..::::::::::::::::........... ...... ..  :.:........... .:     :::.... .',\n",
       "   ' . :                               :::::::::::::::::::::::::::::::::::::::::::::',\n",
       "   '::::::::::::::::::::::::::::::::::::::::::::::::::::::::::::::::::::::::::::::::',\n",
       "   '::::::::::::::::::::::::::::::::::::::::::::::::::::::::::::::::::::::::::::::::',\n",
       "   '::::::::::::::::::::::::::::::::::::::::::::         :::::::::::::::::::::::::::',\n",
       "   ':::::::::::::::::::::::::: : : :::::::::::::::::::::::::::::::::::::::::::::    ',\n",
       "   '                  '],),\n",
       " (['KEEAIFRSAEMALVQFYIPQEISRDSAYTLGQLGLVQFRDLNSKVRAFQRTFVNEIRRLDNVERQYRYFYSLLKKHDIKL',\n",
       "   'YEGDTDKYLDGSGELYVPPSGSVIDDYVRNASYLEERLIQMEDATD-QIE--VQ--K-------------------NDLE',\n",
       "   'QYRFILYVTGVIARDKVATLEQILWRVLRGNLFFKTVEIEQPVYDVKTREYKHKNAFIVFSHGDLIIKRIRKIAESLDAN',\n",
       "   'LYDVDSSNEGRSQ------QLAK--------------------VNKN---------LS--D---LYT--VL-KTT-STTL',\n",
       "   'ES-ELYAIAKELDSWFQDVTREKAIFEILNKSNYDTNRKILIAE-GW--IPRDELATLQARLGEMIARLGIDVPSIIQVL',\n",
       "   'DTNHTPPTFHRTNKFTAGFQSICDCYGIAQYREINAGLPTIVTFPFMFAIMFGDMGHGFLMTLAALSLVLNEKKINKMKR',\n",
       "   'GEIFDMAFTGRYIILLMGVFSMYTGFLYNDIFSKTMTIFKSGWKWPDHWKKGESITATSVGTYPIGLDWAWHGTENALLF',\n",
       "   'SNSYKMKLSILMGFIHMTYSYFFSLANHLYFNSMIDIIGNFIPGLLFMQGIFGYLSVCIVYKWAVDWVKDGKPAPGLLNM',\n",
       "   'LINMFLSPGTIDDELYPHQAKVQVFLLLMALVCIPWLLLVKPLH---------GDIMIHQVIHTIEFCLNCVSHTASYLR',\n",
       "   'LWALSLAHAQLSSVLWTMTIQIAFGF-R-G-FVGVFMTVALFAMWFALTCAVLVLMEGTSAMLHSLRLHWVESMSKFFVG',\n",
       "   'EGLPYEPFAFEYKDMEVA'],),\n",
       " ([],)]"
      ]
     },
     "execution_count": 9,
     "metadata": {},
     "output_type": "execute_result"
    }
   ],
   "source": [
    "zipped_chunks"
   ]
  },
  {
   "cell_type": "code",
   "execution_count": 14,
   "id": "24e12339",
   "metadata": {},
   "outputs": [
    {
     "data": {
      "text/plain": [
       "[]"
      ]
     },
     "execution_count": 14,
     "metadata": {},
     "output_type": "execute_result"
    }
   ],
   "source": [
    "list(zip(*chunked_lines))"
   ]
  },
  {
   "cell_type": "code",
   "execution_count": 8,
   "id": "6b9b6014",
   "metadata": {},
   "outputs": [
    {
     "name": "stdout",
     "output_type": "stream",
     "text": [
      ".\n",
      ".\n"
     ]
    },
    {
     "ename": "KeyboardInterrupt",
     "evalue": "",
     "output_type": "error",
     "traceback": [
      "\u001b[0;31m---------------------------------------------------------------------------\u001b[0m",
      "\u001b[0;31mKeyboardInterrupt\u001b[0m                         Traceback (most recent call last)",
      "\u001b[0;32m/tmp/ipykernel_337/2655219.py\u001b[0m in \u001b[0;36m<module>\u001b[0;34m\u001b[0m\n\u001b[1;32m      7\u001b[0m \u001b[0;34m\u001b[0m\u001b[0m\n\u001b[1;32m      8\u001b[0m \u001b[0;32mwhile\u001b[0m \u001b[0;32mTrue\u001b[0m\u001b[0;34m:\u001b[0m\u001b[0;34m\u001b[0m\u001b[0;34m\u001b[0m\u001b[0m\n\u001b[0;32m----> 9\u001b[0;31m     \u001b[0mexecuteSomething\u001b[0m\u001b[0;34m(\u001b[0m\u001b[0;34m)\u001b[0m\u001b[0;34m\u001b[0m\u001b[0;34m\u001b[0m\u001b[0m\n\u001b[0m",
      "\u001b[0;32m/tmp/ipykernel_337/2655219.py\u001b[0m in \u001b[0;36mexecuteSomething\u001b[0;34m()\u001b[0m\n\u001b[1;32m      4\u001b[0m     \u001b[0;31m#code here\u001b[0m\u001b[0;34m\u001b[0m\u001b[0;34m\u001b[0m\u001b[0;34m\u001b[0m\u001b[0m\n\u001b[1;32m      5\u001b[0m     \u001b[0mprint\u001b[0m \u001b[0;34m(\u001b[0m\u001b[0;34m'.'\u001b[0m\u001b[0;34m)\u001b[0m\u001b[0;34m\u001b[0m\u001b[0;34m\u001b[0m\u001b[0m\n\u001b[0;32m----> 6\u001b[0;31m     \u001b[0mtime\u001b[0m\u001b[0;34m.\u001b[0m\u001b[0msleep\u001b[0m\u001b[0;34m(\u001b[0m\u001b[0;36m480\u001b[0m\u001b[0;34m)\u001b[0m \u001b[0;31m#60 seconds times 8 minutes\u001b[0m\u001b[0;34m\u001b[0m\u001b[0;34m\u001b[0m\u001b[0m\n\u001b[0m\u001b[1;32m      7\u001b[0m \u001b[0;34m\u001b[0m\u001b[0m\n\u001b[1;32m      8\u001b[0m \u001b[0;32mwhile\u001b[0m \u001b[0;32mTrue\u001b[0m\u001b[0;34m:\u001b[0m\u001b[0;34m\u001b[0m\u001b[0;34m\u001b[0m\u001b[0m\n",
      "\u001b[0;31mKeyboardInterrupt\u001b[0m: "
     ]
    }
   ],
   "source": [
    "import time\n",
    "\n",
    "def executeSomething():\n",
    "    #code here\n",
    "    print ('.')\n",
    "    time.sleep(480) #60 seconds times 8 minutes\n",
    "\n",
    "while True:\n",
    "    executeSomething() "
   ]
  },
  {
   "cell_type": "code",
   "execution_count": null,
   "id": "2c81db1c",
   "metadata": {},
   "outputs": [],
   "source": []
  },
  {
   "cell_type": "code",
   "execution_count": null,
   "id": "portable-emperor",
   "metadata": {},
   "outputs": [],
   "source": []
  }
 ],
 "metadata": {
  "kernelspec": {
   "display_name": "Python 3 (ipykernel)",
   "language": "python",
   "name": "python3"
  },
  "language_info": {
   "codemirror_mode": {
    "name": "ipython",
    "version": 3
   },
   "file_extension": ".py",
   "mimetype": "text/x-python",
   "name": "python",
   "nbconvert_exporter": "python",
   "pygments_lexer": "ipython3",
   "version": "3.7.10"
  }
 },
 "nbformat": 4,
 "nbformat_minor": 5
}
