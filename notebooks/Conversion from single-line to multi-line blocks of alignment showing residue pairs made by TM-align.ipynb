{
 "cells": [
  {
   "cell_type": "markdown",
   "id": "described-registration",
   "metadata": {},
   "source": [
    "# Conversion from single-line to multi-line blocks of alignment showing residue pairs made by TM-align\n",
    "\n",
    "**Issue**:  \n",
    "As part of the results [Tm-align](https://zhanggroup.org/TM-align/), an algorithm for protein structure alignment and comparison, generates is a sequence alignment showing the pairs of residues that are close in distance in the alignment structures, i.e., 'aligned residue pairs'. However, these sequences are all on the same line in the report. For long sequences, this can be difficult to view easily. One way to view such an alignment is by viewing it in a text editor by disabling word-wrap. However, this requires active visualization to explore making it impossible to assess the extreme ends at the same tie. Plus, this wide-view form is hard to pass along to colleagues in a report form.\n",
    "\n",
    "There's three lines. The outer two are the sequence of the aligned structures and the center line has symbols indicating residue pairs that have been aligned and whether they are under a distance threshold in the superposed structures. The symbols mean the following according to the returned page that includes the report : \n",
    "\n",
    ">\":\" denotes aligned residue pairs of d < 5.0 A, \".\" denotes other aligned residues'.\n",
    "\n",
    "The process illustrated in this notebook takes those three lines and reformats it, making blocks of aligned sequences of a defined length, reminiscent of what you'd get for a Clustal format, for example [here](https://gist.githubusercontent.com/fomightez/f46b0624f1d8e3abb6ff908fc447e63b/raw/6abce38569475c68fa32182c4e0eaadbb8b0cf3b/Stv1p_Vph1p_muscle_alignment.clw.).\n",
    "\n",
    "\n",
    "-----\n",
    "\n",
    "### Preparation: making demo input\n",
    "\n",
    "The demo input was made by [Tm-align](https://zhanggroup.org/TM-align/) when provided chains a of [6o7v](https://www.rcsb.org/structure/6O7V) and [6o7t](https://www.rcsb.org/structure/6O7T), Stv1p and Vph1p, respectively. The files with the two chains isolated from the rest of the PDB files for the structures were made using the script `split_into_chains.sh` as illustrated in [this notebook](Split%20pdb%20files%20into%20chains.ipynb).\n",
    "\n",
    "Below are the three alignment lines from the 'TM-align Results' page of the submission of `6o7v_a.pdb` and `6o7t_a.pdb`. In other words, the three lines below `(\":\" denotes aligned residue pairs of d < 5.0 A, \".\" denotes other aligned residues)` from the returned results:"
   ]
  },
  {
   "cell_type": "code",
   "execution_count": 1,
   "id": "frequent-speaker",
   "metadata": {},
   "outputs": [],
   "source": [
    "s='''------------VQLY-IPLEVIREVTF-LLG-KM--------------------LRRFDEVERMVGFLN-EV--VEKH------------------LSLENVNDMVKEITDCESRARQLDESLDSLRSKLN-DLLEQRQVIFECSKFIEVYMITGSIRRTKVDILNRIL-------------------------------------------------W-R--------------------LLRGNLIFQNFPIEVEKDCFIIFTHGETLLKKVKRVIDSLNGKIVSLNTRSSEL-VDTLNRQ--IDDLQRILDTTEQTLHTELLVIHDQLPVWSAMTKREKYVYTTLNKFQQESQ-GLIAEGWVPSTELIHLQDSLKDYIE-TL-----GSEYSTV-F-N-V-------------------------------AGLATVVTFPFMFAIMFGDMGHGFILFLMALFLVLNERKFGAMHRDEIFDMAFTGRYVLLLMGAFSVYTGLLYNDIFSKSMTIFKSGWQWPSTFRKGESIEAKKTGVYPFGLDFAWHGTDNGLLFSNSYKMKLSILMGYAHMTYSFMFSYINYRAKNSKVDIIGNFIPGLVFMQSIFGYLSWAIVYKWSKDWIKDDKPAPGLLNMLINMFLAPGTIDDQLYSGQAKLQVVLLLAALVCVPWLLLYKPLTLRRLNKFNFGDVMIHQVIHTIEFCLNCISHTASYLRLWALSLAHAQLSSVLWDMTISNAFSSKNSGSPLAVMKVVFLFAMWFVLTVCILVFMEGTSAMLHALRLHWVEAMSK----------------------\n",
    "            .... ..::::::.:: :.. ::                    ::::::::..:.... :.  ....                  .:.::::.::..:...:............ ...   .  .                   ..:::::.......                                                 . .                    ...:..::::.      .::.                    ....          .  .     .  .. ... ...... ....:..::::::::::::::::........... ...... ..  :.:........... .:     :::.... . . :                               :::::::::::::::::::::::::::::::::::::::::::::::::::::::::::::::::::::::::::::::::::::::::::::::::::::::::::::::::::::::::::::::::::::::::::::::::::::::::::::::::::::::::::::::::::::::::::::::::::::::::::::::::::::::::::::::::::::::::::::::::::::::::         ::::::::::::::::::::::::::::::::::::::::::::::::::::: : : :::::::::::::::::::::::::::::::::::::::::::::                      \n",
    "KEEAIFRSAEMALVQFYIPQEISRDSAYTLGQLGLVQFRDLNSKVRAFQRTFVNEIRRLDNVERQYRYFYSLLKKHDIKLYEGDTDKYLDGSGELYVPPSGSVIDDYVRNASYLEERLIQMEDATD-QIE--VQ--K-------------------NDLEQYRFILYVTGVIARDKVATLEQILWRVLRGNLFFKTVEIEQPVYDVKTREYKHKNAFIVFSHGDLIIKRIRKIAESLDANLYDVDSSNEGRSQ------QLAK--------------------VNKN---------LS--D---LYT--VL-KTT-STTLES-ELYAIAKELDSWFQDVTREKAIFEILNKSNYDTNRKILIAE-GW--IPRDELATLQARLGEMIARLGIDVPSIIQVLDTNHTPPTFHRTNKFTAGFQSICDCYGIAQYREINAGLPTIVTFPFMFAIMFGDMGHGFLMTLAALSLVLNEKKINKMKRGEIFDMAFTGRYIILLMGVFSMYTGFLYNDIFSKTMTIFKSGWKWPDHWKKGESITATSVGTYPIGLDWAWHGTENALLFSNSYKMKLSILMGFIHMTYSYFFSLANHLYFNSMIDIIGNFIPGLLFMQGIFGYLSVCIVYKWAVDWVKDGKPAPGLLNMLINMFLSPGTIDDELYPHQAKVQVFLLLMALVCIPWLLLVKPLH---------GDIMIHQVIHTIEFCLNCVSHTASYLRLWALSLAHAQLSSVLWTMTIQIAFGF-R-G-FVGVFMTVALFAMWFALTCAVLVLMEGTSAMLHSLRLHWVESMSKFFVGEGLPYEPFAFEYKDMEVA\n",
    "'''"
   ]
  },
  {
   "cell_type": "markdown",
   "id": "0a3bbbe6",
   "metadata": {},
   "source": [
    "You can replace that alignment between the two set of ticks above with your own alignent to run it with your own data.   \n",
    "Whether the last three ticks are on their own line, or contiguous with the end of the third line, doesn't matter.  \n",
    "The **first line has to be contiguous, following directly after first three ticks**.\n"
   ]
  },
  {
   "cell_type": "markdown",
   "id": "69dff5e2",
   "metadata": {},
   "source": [
    "### Preparation: Define the code for the reformatting steps"
   ]
  },
  {
   "cell_type": "code",
   "execution_count": 2,
   "id": "ffa831b1",
   "metadata": {},
   "outputs": [],
   "source": [
    "sequence_characters_per_line_in_output = 80\n",
    "def chunk_record(sequence_string):\n",
    "    '''\n",
    "    chop up so characters per line matches setting of\n",
    "    `sequence_characters_per_line_in_output`\n",
    "    \n",
    "    return a list of the 'chunks'\n",
    "    '''\n",
    "    chunk_size = sequence_characters_per_line_in_output\n",
    "    seq_chunks = [sequence_string[i:i+chunk_size] for i in range(\n",
    "        0, len(sequence_string),chunk_size)]\n",
    "    #return \"\\n\".join(seq_chunks)\n",
    "    return seq_chunks\n",
    "def convert_3lines_to_blocks(s):\n",
    "    '''\n",
    "    Takes lines of alignment with each on same line as a single\n",
    "    string.\n",
    "    \n",
    "    Returns a string with the alignment broken up into\n",
    "    blocks with the number ofcharacters matching the \n",
    "    `sequence_characters_per_line_in_output` setting.\n",
    "    '''\n",
    "    # take the lines each as separate string\n",
    "    list_o_lines = s.split(\"\\n\")\n",
    "    # Adjust it if there is an empty list at the end due to the ticks being on\n",
    "    # a separate line.\n",
    "    if len(list_o_lines) == 4:\n",
    "        list_o_lines = list_o_lines[:3]\n",
    "    # take each line and chunk into strings of length matching setting for \n",
    "    # `sequence_characters_per_line_in_output`\n",
    "    chunked_lines = []\n",
    "    for l in list_o_lines:\n",
    "        chunked_lines.append(chunk_record(l))\n",
    "    # zip the chunked lines so they can be used to create blocks\n",
    "    zipped_chunks = list(zip(*chunked_lines)) #Because of way I made line ending to \n",
    "    # place closing `'''` on last line of the string used as input\n",
    "    # just want the three lines and NOT THE EMPTRY FOURTH.\n",
    "    # Create the blocks of output\n",
    "    out = \"\"\n",
    "    for x in zipped_chunks:\n",
    "        out += f\"{x[0]}\\n{x[1]}\\n{x[2]}\\n\\n\\n\"\n",
    "    return out"
   ]
  },
  {
   "cell_type": "markdown",
   "id": "mechanical-transformation",
   "metadata": {},
   "source": [
    "### Conversion step\n",
    "\n",
    "The conversion step will take the input represented above and reformat it to block form that better fits in a document."
   ]
  },
  {
   "cell_type": "code",
   "execution_count": 3,
   "id": "40569405",
   "metadata": {},
   "outputs": [
    {
     "name": "stdout",
     "output_type": "stream",
     "text": [
      "------------VQLY-IPLEVIREVTF-LLG-KM--------------------LRRFDEVERMVGFLN-EV--VEKH-\n",
      "            .... ..::::::.:: :.. ::                    ::::::::..:.... :.  .... \n",
      "KEEAIFRSAEMALVQFYIPQEISRDSAYTLGQLGLVQFRDLNSKVRAFQRTFVNEIRRLDNVERQYRYFYSLLKKHDIKL\n",
      "\n",
      "\n",
      "-----------------LSLENVNDMVKEITDCESRARQLDESLDSLRSKLN-DLLEQRQVIFECSKFIEVYMITGSIRR\n",
      "                 .:.::::.::..:...:............ ...   .  .                   ..::\n",
      "YEGDTDKYLDGSGELYVPPSGSVIDDYVRNASYLEERLIQMEDATD-QIE--VQ--K-------------------NDLE\n",
      "\n",
      "\n",
      "TKVDILNRIL-------------------------------------------------W-R------------------\n",
      ":::.......                                                 . .                  \n",
      "QYRFILYVTGVIARDKVATLEQILWRVLRGNLFFKTVEIEQPVYDVKTREYKHKNAFIVFSHGDLIIKRIRKIAESLDAN\n",
      "\n",
      "\n",
      "--LLRGNLIFQNFPIEVEKDCFIIFTHGETLLKKVKRVIDSLNGKIVSLNTRSSEL-VDTLNRQ--IDDLQRILDTTEQT\n",
      "  ...:..::::.      .::.                    ....          .  .     .  .. ... ....\n",
      "LYDVDSSNEGRSQ------QLAK--------------------VNKN---------LS--D---LYT--VL-KTT-STTL\n",
      "\n",
      "\n",
      "LHTELLVIHDQLPVWSAMTKREKYVYTTLNKFQQESQ-GLIAEGWVPSTELIHLQDSLKDYIE-TL-----GSEYSTV-F\n",
      ".. ....:..::::::::::::::::........... ...... ..  :.:........... .:     :::.... .\n",
      "ES-ELYAIAKELDSWFQDVTREKAIFEILNKSNYDTNRKILIAE-GW--IPRDELATLQARLGEMIARLGIDVPSIIQVL\n",
      "\n",
      "\n",
      "-N-V-------------------------------AGLATVVTFPFMFAIMFGDMGHGFILFLMALFLVLNERKFGAMHR\n",
      " . :                               :::::::::::::::::::::::::::::::::::::::::::::\n",
      "DTNHTPPTFHRTNKFTAGFQSICDCYGIAQYREINAGLPTIVTFPFMFAIMFGDMGHGFLMTLAALSLVLNEKKINKMKR\n",
      "\n",
      "\n",
      "DEIFDMAFTGRYVLLLMGAFSVYTGLLYNDIFSKSMTIFKSGWQWPSTFRKGESIEAKKTGVYPFGLDFAWHGTDNGLLF\n",
      "::::::::::::::::::::::::::::::::::::::::::::::::::::::::::::::::::::::::::::::::\n",
      "GEIFDMAFTGRYIILLMGVFSMYTGFLYNDIFSKTMTIFKSGWKWPDHWKKGESITATSVGTYPIGLDWAWHGTENALLF\n",
      "\n",
      "\n",
      "SNSYKMKLSILMGYAHMTYSFMFSYINYRAKNSKVDIIGNFIPGLVFMQSIFGYLSWAIVYKWSKDWIKDDKPAPGLLNM\n",
      "::::::::::::::::::::::::::::::::::::::::::::::::::::::::::::::::::::::::::::::::\n",
      "SNSYKMKLSILMGFIHMTYSYFFSLANHLYFNSMIDIIGNFIPGLLFMQGIFGYLSVCIVYKWAVDWVKDGKPAPGLLNM\n",
      "\n",
      "\n",
      "LINMFLAPGTIDDQLYSGQAKLQVVLLLAALVCVPWLLLYKPLTLRRLNKFNFGDVMIHQVIHTIEFCLNCISHTASYLR\n",
      "::::::::::::::::::::::::::::::::::::::::::::         :::::::::::::::::::::::::::\n",
      "LINMFLSPGTIDDELYPHQAKVQVFLLLMALVCIPWLLLVKPLH---------GDIMIHQVIHTIEFCLNCVSHTASYLR\n",
      "\n",
      "\n",
      "LWALSLAHAQLSSVLWDMTISNAFSSKNSGSPLAVMKVVFLFAMWFVLTVCILVFMEGTSAMLHALRLHWVEAMSK----\n",
      ":::::::::::::::::::::::::: : : :::::::::::::::::::::::::::::::::::::::::::::    \n",
      "LWALSLAHAQLSSVLWTMTIQIAFGF-R-G-FVGVFMTVALFAMWFALTCAVLVLMEGTSAMLHSLRLHWVESMSKFFVG\n",
      "\n",
      "\n",
      "------------------\n",
      "                  \n",
      "EGLPYEPFAFEYKDMEVA\n",
      "\n",
      "\n",
      "\n"
     ]
    }
   ],
   "source": [
    "converted = convert_3lines_to_blocks(s)\n",
    "print(converted)"
   ]
  },
  {
   "cell_type": "markdown",
   "id": "732f9e51",
   "metadata": {},
   "source": [
    "Copy the reformatted alignment from above and use it where you wish.\n",
    "\n",
    "-----\n",
    "\n",
    "Enjoy!"
   ]
  }
 ],
 "metadata": {
  "kernelspec": {
   "display_name": "Python 3 (ipykernel)",
   "language": "python",
   "name": "python3"
  },
  "language_info": {
   "codemirror_mode": {
    "name": "ipython",
    "version": 3
   },
   "file_extension": ".py",
   "mimetype": "text/x-python",
   "name": "python",
   "nbconvert_exporter": "python",
   "pygments_lexer": "ipython3",
   "version": "3.7.10"
  }
 },
 "nbformat": 4,
 "nbformat_minor": 5
}
