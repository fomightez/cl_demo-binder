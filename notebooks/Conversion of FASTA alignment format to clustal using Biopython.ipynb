{
 "cells": [
  {
   "cell_type": "markdown",
   "id": "described-registration",
   "metadata": {},
   "source": [
    "# Conversion of MSA in FASTA format to clustal using Biopython\n",
    "\n",
    "Conversion of a multiple sequence alignment (MSA) in one format to another based on section 'File Format Conversion' at https://biopython.org/wiki/AlignIO .\n",
    "\n",
    "\n",
    "-----\n",
    "\n",
    "### Preparation: making input"
   ]
  },
  {
   "cell_type": "code",
   "execution_count": 1,
   "id": "frequent-speaker",
   "metadata": {},
   "outputs": [],
   "source": [
    "s='''>MockOrth\n",
    "MRPATVGQEVGCTKLAEELKTLDMVVYKSRGGHRGTKVFRELVHLKRLCRTFLLKRTR---T-K---\n",
    "R---NE----V---L-RMNEKLYILATTNIPDGYFVGYTLIVLGLCTRIHYLVSEAECIEDANDIDE\n",
    "MFIAVE\n",
    ">7c7a:L\n",
    "------EMDNVIRSLEQEYRLILLLNHRNKNQHRAASWYGSFNEMKRNCGQIITLFSSRRLQAKRLK\n",
    "DVEWVKLHRLLQRALFRQLKRWYWQFNGVIALGQFVTLGCTLVTLLANVRALYMRLWEIETEFIRCG\n",
    "CL----\n",
    "\n",
    "'''"
   ]
  },
  {
   "cell_type": "code",
   "execution_count": 2,
   "id": "three-employee",
   "metadata": {},
   "outputs": [
    {
     "name": "stdout",
     "output_type": "stream",
     "text": [
      "Writing 's' (str) to file 'example.fa'.\n"
     ]
    }
   ],
   "source": [
    "%store s >example.fa"
   ]
  },
  {
   "cell_type": "code",
   "execution_count": 3,
   "id": "occupational-antenna",
   "metadata": {},
   "outputs": [
    {
     "name": "stdout",
     "output_type": "stream",
     "text": [
      ">MockOrth\n",
      "MRPATVGQEVGCTKLAEELKTLDMVVYKSRGGHRGTKVFRELVHLKRLCRTFLLKRTR---T-K---\n",
      "R---NE----V---L-RMNEKLYILATTNIPDGYFVGYTLIVLGLCTRIHYLVSEAECIEDANDIDE\n",
      "MFIAVE\n",
      ">7c7a:L\n",
      "------EMDNVIRSLEQEYRLILLLNHRNKNQHRAASWYGSFNEMKRNCGQIITLFSSRRLQAKRLK\n",
      "DVEWVKLHRLLQRALFRQLKRWYWQFNGVIALGQFVTLGCTLVTLLANVRALYMRLWEIETEFIRCG\n",
      "CL----\n",
      "\n"
     ]
    }
   ],
   "source": [
    "!cat example.fa"
   ]
  },
  {
   "cell_type": "markdown",
   "id": "mechanical-transformation",
   "metadata": {},
   "source": [
    "### Conversion step\n",
    "\n",
    "The convsersion step will take the input represented above and convert it."
   ]
  },
  {
   "cell_type": "code",
   "execution_count": 4,
   "id": "endangered-philosophy",
   "metadata": {},
   "outputs": [],
   "source": [
    "# Based on section 'File Format Conversion' at https://biopython.org/wiki/AlignIO\n",
    "from Bio import AlignIO\n",
    "\n",
    "input_handle = open(\"example.fa\", \"r\")\n",
    "output_handle = open(\"example.clw\", \"w\")\n",
    "\n",
    "alignments = AlignIO.parse(input_handle, \"fasta\")\n",
    "AlignIO.write(alignments, output_handle, \"clustal\")\n",
    "\n",
    "output_handle.close()\n",
    "input_handle.close()"
   ]
  },
  {
   "cell_type": "markdown",
   "id": "major-visit",
   "metadata": {},
   "source": [
    "### Verify conversion result\n",
    "\n",
    "Verify it worked by examining the resulting file `example.clw`."
   ]
  },
  {
   "cell_type": "code",
   "execution_count": 5,
   "id": "intense-madison",
   "metadata": {},
   "outputs": [
    {
     "name": "stdout",
     "output_type": "stream",
     "text": [
      "CLUSTAL X (1.81) multiple sequence alignment\n",
      "\n",
      "\n",
      "MockOrth                            MRPATVGQEVGCTKLAEELKTLDMVVYKSRGGHRGTKVFRELVHLKRLCR\n",
      "7c7a:L                              ------EMDNVIRSLEQEYRLILLLNHRNKNQHRAASWYGSFNEMKRNCG\n",
      "\n",
      "MockOrth                            TFLLKRTR---T-K---R---NE----V---L-RMNEKLYILATTNIPDG\n",
      "7c7a:L                              QIITLFSSRRLQAKRLKDVEWVKLHRLLQRALFRQLKRWYWQFNGVIALG\n",
      "\n",
      "MockOrth                            YFVGYTLIVLGLCTRIHYLVSEAECIEDANDIDEMFIAVE\n",
      "7c7a:L                              QFVTLGCTLVTLLANVRALYMRLWEIETEFIRCGCL----\n",
      "\n",
      "\n"
     ]
    }
   ],
   "source": [
    "!cat example.clw"
   ]
  },
  {
   "cell_type": "code",
   "execution_count": null,
   "id": "portable-emperor",
   "metadata": {},
   "outputs": [],
   "source": []
  }
 ],
 "metadata": {
  "kernelspec": {
   "display_name": "Python 3",
   "language": "python",
   "name": "python3"
  },
  "language_info": {
   "codemirror_mode": {
    "name": "ipython",
    "version": 3
   },
   "file_extension": ".py",
   "mimetype": "text/x-python",
   "name": "python",
   "nbconvert_exporter": "python",
   "pygments_lexer": "ipython3",
   "version": "3.7.10"
  }
 },
 "nbformat": 4,
 "nbformat_minor": 5
}
