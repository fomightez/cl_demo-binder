{
 "cells": [
  {
   "cell_type": "markdown",
   "id": "quality-tooth",
   "metadata": {},
   "source": [
    "# Conversion of FASTA alignment format to clustal using Biopython\n",
    "\n",
    "Based on section 'File Format Conversion' at https://biopython.org/wiki/AlignIO\n",
    "\n",
    "\n",
    "-----\n",
    "\n",
    "### Preparation: making input"
   ]
  },
  {
   "cell_type": "code",
   "execution_count": 1,
   "id": "direct-browser",
   "metadata": {},
   "outputs": [],
   "source": [
    "s='''>MockOrth\n",
    "MRPATVGQEVGCTKLAEELKTLDMVVYKSRGGHRGTKVFRELVHLKRLCRTFLLKRTR---T-K---\n",
    "R---NE----V---L-RMNEKLYILATTNIPDGYFVGYTLIVLGLCTRIHYLVSEAECIEDANDIDE\n",
    "MFIAVE\n",
    ">7c7a:L\n",
    "------EMDNVIRSLEQEYRLILLLNHRNKNQHRAASWYGSFNEMKRNCGQIITLFSSRRLQAKRLK\n",
    "DVEWVKLHRLLQRALFRQLKRWYWQFNGVIALGQFVTLGCTLVTLLANVRALYMRLWEIETEFIRCG\n",
    "CL----\n",
    "\n",
    "'''"
   ]
  },
  {
   "cell_type": "code",
   "execution_count": 2,
   "id": "other-beverage",
   "metadata": {},
   "outputs": [
    {
     "name": "stdout",
     "output_type": "stream",
     "text": [
      "Writing 's' (str) to file 'example.fa'.\n"
     ]
    }
   ],
   "source": [
    "%store s >example.fa"
   ]
  },
  {
   "cell_type": "code",
   "execution_count": 3,
   "id": "wrapped-hunger",
   "metadata": {},
   "outputs": [
    {
     "name": "stdout",
     "output_type": "stream",
     "text": [
      ">MockOrth\n",
      "MRPATVGQEVGCTKLAEELKTLDMVVYKSRGGHRGTKVFRELVHLKRLCRTFLLKRTR---T-K---\n",
      "R---NE----V---L-RMNEKLYILATTNIPDGYFVGYTLIVLGLCTRIHYLVSEAECIEDANDIDE\n",
      "MFIAVE\n",
      ">7c7a:L\n",
      "------EMDNVIRSLEQEYRLILLLNHRNKNQHRAASWYGSFNEMKRNCGQIITLFSSRRLQAKRLK\n",
      "DVEWVKLHRLLQRALFRQLKRWYWQFNGVIALGQFVTLGCTLVTLLANVRALYMRLWEIETEFIRCG\n",
      "CL----\n",
      "\n"
     ]
    }
   ],
   "source": [
    "!cat example.fa"
   ]
  },
  {
   "cell_type": "markdown",
   "id": "roman-edward",
   "metadata": {},
   "source": [
    "### Conversion step\n",
    "\n",
    "The convsersion step will take the input represented above and convert it."
   ]
  },
  {
   "cell_type": "code",
   "execution_count": 4,
   "id": "medieval-notion",
   "metadata": {},
   "outputs": [],
   "source": [
    "# Based on section 'File Format Conversion' at https://biopython.org/wiki/AlignIO\n",
    "from Bio import AlignIO\n",
    "\n",
    "input_handle = open(\"example.fa\", \"r\")\n",
    "output_handle = open(\"example.clw\", \"w\")\n",
    "\n",
    "alignments = AlignIO.parse(input_handle, \"fasta\")\n",
    "AlignIO.write(alignments, output_handle, \"clustal\")\n",
    "\n",
    "output_handle.close()\n",
    "input_handle.close()"
   ]
  },
  {
   "cell_type": "markdown",
   "id": "annual-baking",
   "metadata": {},
   "source": [
    "### Verify conversion result\n",
    "\n",
    "Verify it worked by examining the resulting file `example.clw`."
   ]
  },
  {
   "cell_type": "code",
   "execution_count": 5,
   "id": "adolescent-reaction",
   "metadata": {},
   "outputs": [
    {
     "name": "stdout",
     "output_type": "stream",
     "text": [
      "CLUSTAL X (1.81) multiple sequence alignment\n",
      "\n",
      "\n",
      "MockOrth                            MRPATVGQEVGCTKLAEELKTLDMVVYKSRGGHRGTKVFRELVHLKRLCR\n",
      "7c7a:L                              ------EMDNVIRSLEQEYRLILLLNHRNKNQHRAASWYGSFNEMKRNCG\n",
      "\n",
      "MockOrth                            TFLLKRTR---T-K---R---NE----V---L-RMNEKLYILATTNIPDG\n",
      "7c7a:L                              QIITLFSSRRLQAKRLKDVEWVKLHRLLQRALFRQLKRWYWQFNGVIALG\n",
      "\n",
      "MockOrth                            YFVGYTLIVLGLCTRIHYLVSEAECIEDANDIDEMFIAVE\n",
      "7c7a:L                              QFVTLGCTLVTLLANVRALYMRLWEIETEFIRCGCL----\n",
      "\n",
      "\n"
     ]
    }
   ],
   "source": [
    "!cat example.clw"
   ]
  },
  {
   "cell_type": "code",
   "execution_count": null,
   "id": "prime-arcade",
   "metadata": {},
   "outputs": [],
   "source": []
  }
 ],
 "metadata": {
  "kernelspec": {
   "display_name": "Python 3",
   "language": "python",
   "name": "python3"
  },
  "language_info": {
   "codemirror_mode": {
    "name": "ipython",
    "version": 3
   },
   "file_extension": ".py",
   "mimetype": "text/x-python",
   "name": "python",
   "nbconvert_exporter": "python",
   "pygments_lexer": "ipython3",
   "version": "3.7.10"
  }
 },
 "nbformat": 4,
 "nbformat_minor": 5
}
