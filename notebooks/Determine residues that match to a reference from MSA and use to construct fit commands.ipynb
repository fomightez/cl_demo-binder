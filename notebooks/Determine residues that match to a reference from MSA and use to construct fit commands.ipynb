{
 "cells": [
  {
   "cell_type": "markdown",
   "metadata": {},
   "source": [
    "# Determine residues that match to a reference from MSA and use to construct fit commands\n",
    "\n",
    "Often one wants to superimpose (a.k.a., overlay/superpse/fit/dock) similar macromolecular structures with one another. Generally, you need a way to establish residue pair correspondence. In other words, you'll want matching pairs 'spine' or 'backbone' atoms to get Pymol or Jmols fit/compare commands to work and be as reproducible as possible. Often with structures you are wishing to superimpose, the matched correspondences can just be multiple sections spread throughout the two sequence, and it can be tedious, and sometimes error-prone to do the determination of matching atoms in these fragments by hand. This notebook shows how to determine what is there and builds up in steps to generating the fit commands for the same chains shared by different structures.\n",
    "\n",
    "Because often times you be superimposing a theoretical model on a known structure, or want to use a specific structure as the example structure, you'll often have a sequence in your multiple sequence alignment that corresponds to a 'reference structure'. The 'reference id' used here refers to the identifier of that sequence.\n",
    "\n",
    "The fit commands are intended to be used in Pymol and Jmol, with separate sections for each one.\n",
    "\n",
    "The process relies initially on use of a script entitled `MSA_to_corresponding_residue_numbers.py`. Because that lays the groundwork for the process of creating commands from an alignment that can be used on the molecular structure visualization, and I didn't have a demo of that script yet elsewhere, I illustrate use of that script first. \n",
    "\n",
    "Technically, that script is a 'sequence analysis' script; however, it, like `categorize_residues_based_on_conservation_relative_consensus_line.py` demonstrated in another notebook here, is very useful for bridging sequence analysis to molecular structure analysis as I hope the later part of this notebook illustrates.\n",
    "\n",
    "\n",
    "----\n",
    " \n",
    "<div class=\"alert alert-block alert-warning\">\n",
    "<p>If you haven't used one of these notebooks before, they're basically web pages in which you can write, edit, and run live code. They're meant to encourage experimentation, so don't feel nervous. Just try running a few cells and see what happens!.</p>\n",
    "\n",
    "<p>\n",
    "    Some tips:\n",
    "    <ul>\n",
    "        <li>Code cells have boxes around them. When you hover over them a <i class=\"fa-step-forward fa\"></i> icon appears.</li>\n",
    "        <li>To run a code cell either click the <i class=\"fa-step-forward fa\"></i> icon, or click on the cell and then hit <b>Shift+Enter</b>. The <b>Shift+Enter</b> combo will also move you to the next cell, so it's a quick way to work through the notebook.</li>\n",
    "        <li>While a cell is running a <b>*</b> appears in the square brackets next to the cell. Once the cell has finished running the asterisk will be replaced with a number.</li>\n",
    "        <li>In most cases you'll want to start from the top of notebook and work your way down running each cell in turn. Later cells might depend on the results of earlier ones.</li>\n",
    "        <li>To edit a code cell, just click on it and type stuff. Remember to run the cell once you've finished editing.</li>\n",
    "    </ul>\n",
    "</p>\n",
    "</div>"
   ]
  },
  {
   "cell_type": "markdown",
   "metadata": {},
   "source": [
    "----\n",
    "\n",
    "### Preparation\n",
    "\n",
    "The next cell will retrieve the necessary scripts."
   ]
  },
  {
   "cell_type": "code",
   "execution_count": 1,
   "metadata": {},
   "outputs": [
    {
     "name": "stdout",
     "output_type": "stream",
     "text": [
      "  % Total    % Received % Xferd  Average Speed   Time    Time     Time  Current\n",
      "                                 Dload  Upload   Total   Spent    Left  Speed\n",
      "100 30126  100 30126    0     0  68938      0 --:--:-- --:--:-- --:--:-- 68780\n",
      "  % Total    % Received % Xferd  Average Speed   Time    Time     Time  Current\n",
      "                                 Dload  Upload   Total   Spent    Left  Speed\n",
      "100 15071  100 15071    0     0  57087      0 --:--:-- --:--:-- --:--:-- 57087\n"
     ]
    }
   ],
   "source": [
    "#get scripts to use here\n",
    "import os\n",
    "if not os.path.isfile(\"MSA_to_corresponding_residue_numbers.py\"):\n",
    "    !curl -OL https://raw.githubusercontent.com/fomightez/sequencework/master/alignment-utilities/MSA_to_corresponding_residue_numbers.py\n",
    "    !curl -OL https://raw.githubusercontent.com/fomightez/sequencework/master/alignment-utilities/check_seq_frag_in_MSAclustal_intact_viaFASTA.py"
   ]
  },
  {
   "cell_type": "markdown",
   "metadata": {},
   "source": [
    "An alignment file is needed as input. The next cell will handle retrieving one.\n",
    "\n",
    "Details of the retrieved alignment:\n",
    "\n",
    "Fasta-formattted sequences were downloaded from under 'Sequence' at [here for Stv1p](https://www.yeastgenome.org/locus/S000004658/protein) and [here for Vph1p](https://www.yeastgenome.org/locus/S000005796/protein). These were then combined into one file, the asterisks at the end of each sequence removed (in order to avoid the error `*** WARNING ***  Invalid character '*' in FASTA sequence data, ignored`), combined with two human sequences, and submitted for alignment by [MUSCLE here](https://www.ebi.ac.uk/Tools/msa/muscle/). Default settings were used. The alignment was produced in Clustal format with consensus symbols line along the bottom.\n",
    "\n",
    "Furthermore, for purposes of illustration here, **the residues that didn't pair with the start of all where left off. MEANING THAT SEVERAL OF THESE SEQUENCES DON'T REPRESENT THE FULL PROTEIN SEQUENCE.**"
   ]
  },
  {
   "cell_type": "code",
   "execution_count": 2,
   "metadata": {},
   "outputs": [
    {
     "name": "stdout",
     "output_type": "stream",
     "text": [
      "  % Total    % Received % Xferd  Average Speed   Time    Time     Time  Current\n",
      "                                 Dload  Upload   Total   Spent    Left  Speed\n",
      "100  6139  100     0    0     0      0      0 --:--:-- --:--:-- --:--:--     06139    0     0  31973      0 --:--:-- --:--:-- --:--:-- 31973\n",
      "  % Total    % Received % Xferd  Average Speed   Time    Time     Time  Current\n",
      "                                 Dload  Upload   Total   Spent    Left  Speed\n",
      "100  3633  100  3633    0     0  10119      0 --:--:-- --:--:-- --:--:-- 10119\n"
     ]
    }
   ],
   "source": [
    "# Get an alignment file (actually two because going to show with all residues first)\n",
    "if not os.path.isfile(\"alignment.clw\"):\n",
    "    !curl -o alignment.clw https://gist.githubusercontent.com/fomightez/f46b0624f1d8e3abb6ff908fc447e63b/raw/6abce38569475c68fa32182c4e0eaadbb8b0cf3b/uw_yeast_plus_two_human_homologs.clw\n",
    "    !curl -o alignment_with_all_residues.clw https://gist.githubusercontent.com/fomightez/f46b0624f1d8e3abb6ff908fc447e63b/raw/6abce38569475c68fa32182c4e0eaadbb8b0cf3b/Stv1p_Vph1p_muscle_alignment.clw"
   ]
  },
  {
   "cell_type": "code",
   "execution_count": 3,
   "metadata": {},
   "outputs": [
    {
     "name": "stdout",
     "output_type": "stream",
     "text": [
      "CLUSTAL multiple sequence alignment by MUSCLE (3.8)\r\n",
      "\r\n",
      "\r\n",
      "BAH13127.1      FRSEEMTLA--QLFLQSEAAYCCVSELGELGKVQFRDLNPDVNVFQRKFVNEVRRCEEMD\r\n",
      "EAW98433.1      MTATEMRCVGRSFYIHG---------------LSIIKLNQNVSSFQRKFVGEVKRCEELE\r\n",
      "VPH1            FRSAEMALV--QFYIPQEISRDSAYTLGQLGLVQFRDLNSKVRAFQRTFVNEIRRLDNVE\r\n",
      "STV1            FRSADMTYV--QLYIPLEVIREVTFLLGKMSVFMVMDLNKDLTAFQRGYVNQLRRFDEVE\r\n",
      "                : : :*  .  .:::                 . . .** .:  *** :*.::.* ::::\r\n",
      "\r\n",
      "BAH13127.1      RKLRFVEKEIRKANIPIM------------DTGENPEVPFPRDMI---------------\r\n"
     ]
    }
   ],
   "source": [
    "#verify have alignment file\n",
    "!head alignment.clw"
   ]
  },
  {
   "cell_type": "markdown",
   "metadata": {},
   "source": [
    "Note that the sequence of all but one don't begin with methionine. for purposes of illustration here, **the residues that didn't pair with the start of all where left off. MEANING THAT SEVERAL OF THESE SEQUENCES DON'T REPRESENT THE FULL PROTEIN SEQUENCE.**\n",
    "\n",
    "You'll want to upload your own alignments to the active Jupyter session in the typical way; if you can click the Jupyter logo in the upper right you'll be taken to a dashboard with a file handing user interface. (Or once it is retrieved, open and replace the contents of `alignment.clw` with your own alignment.)\n",
    "\n",
    "Note, because white space is critical for the consensus symbols line, it is  best to save the alignment file directly from EMBL-EBI and use that file as input for this script, rather than doing copy-paste from the site. For example, via copy-paste it may be easy to miss the spaces on the last line of the consensus symbols line in the case of two sequences that mismatch for the span of the entire last row of an alignment."
   ]
  },
  {
   "cell_type": "markdown",
   "metadata": {},
   "source": [
    "## Check sequence of edited alignment\n",
    "\n",
    "In the process of editing a multiple sequence file or collecting portions to use to align, it is easy to erroneously delete sequence. This section will demonstrate using `check_seq_frag_in_MSAclustal_intact_viaFASTA.py` to make sure nothing in the fragment used here as been deleted, and verify the edited sequene in the alignment file is valid. It checks against a user-provided FASTA. It is suggested this comes directly from an 'official' source. It is related to **a similar, yet different script** `check_seq_in_MSAclustal_consistent_with_FASTA.py` **that makes sure nothing AT ALL is different/deleted relative the FASTA sequence**. `check_seq_frag_in_MSAclustal_intact_viaFASTA.py` to be used here is not concerned with either the start or end of the sequence. \n",
    "\n",
    "The reason that `check_seq_frag_in_MSAclustal_intact_viaFASTA.py` is used here is because part of the sequences in the MSA to be used here have been deleted and in order for the `MSA_to_corresponding_residue_numbers.py` script to yield useable data it is important that the fragment it is aligned to is intact or the numbers won't match the reference structure.\n",
    "\n",
    "About the FASTA file retreived in next call: VPH1 and STV1 sequences originall came from the [Saccharomyces Genome Database (SGD)](https://www.yeastgenome.org/) page for each respective encoding gene. From the pages for a particular gene, you can surf to the 'Protein' tab (example: [STV1 protein tab](https://www.yeastgenome.org/locus/S000004658/protein)) and then under 'Sequence' about half way down the page , click on the button 'Download Sequence (.fsa)' to get a FASTA file for the protein corresponding to that gene."
   ]
  },
  {
   "cell_type": "code",
   "execution_count": 4,
   "metadata": {},
   "outputs": [
    {
     "name": "stdout",
     "output_type": "stream",
     "text": [
      "  % Total    % Received % Xferd  Average Speed   Time    Time     Time  Current\n",
      "                                 Dload  Upload   Total   Spent    Left  Speed\n",
      "100     0    0     0    0     0      0      0 --:--:-- --:--:-- --:--:--     00   886  100   886    0     0   3488      0 --:--:-- --:--:-- --:--:--  3488\n"
     ]
    }
   ],
   "source": [
    "# Get FASTA file to use as baseline of sequence; originally downloaded via 'Protein' tab https://www.yeastgenome.org/\n",
    "if not os.path.isfile(\"S288C_YOR270C_VPH1_protein.fsa\"):\n",
    "    !curl -o S288C_YOR270C_VPH1_protein.fsa https://gist.githubusercontent.com/fomightez/f46b0624f1d8e3abb6ff908fc447e63b/raw/833853ed52c6a45ea157361eab6f51f0d5d90ad1/ux_S288C_YOR270C_VPH1_protein.fsa"
   ]
  },
  {
   "cell_type": "markdown",
   "metadata": {},
   "source": [
    "Now to use that FASTA check if the fragment present in MSA is in intact?"
   ]
  },
  {
   "cell_type": "code",
   "execution_count": 5,
   "metadata": {},
   "outputs": [
    {
     "name": "stderr",
     "output_type": "stream",
     "text": [
      "\n",
      "**NOTE: gap indicator in this script is currently set to '-'. If\n",
      "that does not match what provided alignment uses to indicate gaps,\n",
      "please change the setting within the script code under\n",
      "'USER ADJUSTABLE VALUES' around line 100 (give or take a few).**\n",
      "Alignment file read...VPH1 sequence collected from alignment...FASTA file read...Checking...\n",
      "Is sequence contiguous without regard to the ends?...  ...\n"
     ]
    },
    {
     "name": "stdout",
     "output_type": "stream",
     "text": [
      "True\n"
     ]
    }
   ],
   "source": [
    "%run check_seq_frag_in_MSAclustal_intact_viaFASTA.py alignment.clw VPH1 S288C_YOR270C_VPH1_protein.fsa"
   ]
  },
  {
   "cell_type": "markdown",
   "metadata": {},
   "source": [
    "Yay! Sequence of one of the sequences in the manually-edited multiple sequence alignment has been confirmed against the official record verifying no deletions were introduced into the fragment during editing. It is best the process is repeated with any others as well.\n",
    "\n",
    "Before going on, I'll point out that by adding the `--report_start_pos` flag, the same script can also be used to report the position the first residue in the sequence represented in the multiple sequence corresponds to in the complete sequence in the FASTA file."
   ]
  },
  {
   "cell_type": "code",
   "execution_count": 6,
   "metadata": {},
   "outputs": [],
   "source": [
    "%%capture out\n",
    "%run check_seq_frag_in_MSAclustal_intact_viaFASTA.py alignment.clw VPH1 S288C_YOR270C_VPH1_protein.fsa --report_start_pos"
   ]
  },
  {
   "cell_type": "code",
   "execution_count": 7,
   "metadata": {},
   "outputs": [
    {
     "name": "stdout",
     "output_type": "stream",
     "text": [
      "The stdout generated by the above cell is 'True 9'.\n",
      "It shows first the response to 'The queried fragment is contiguous. True or false?' The answer is 'True'.\n",
      "Then it shows that the first residue in the MSA is numbered 9 in the FASTA sequence.\n"
     ]
    }
   ],
   "source": [
    "print (\"The stdout generated by the above cell is '{}'.\".format(out.stdout.strip()))\n",
    "print (\"It shows first the response to 'The queried fragment is contiguous. True or false?' The answer is '{}'.\".format(out.stdout.split()[0]))\n",
    "print (\"Then it shows that the first residue in the MSA is numbered {} in the FASTA sequence.\".format(out.stdout.split()[1]))"
   ]
  },
  {
   "cell_type": "markdown",
   "metadata": {},
   "source": [
    "The next cell demonstrates calling the main function from within a Jupyter cell. Note use of `return_TF = True` and `report_start_residue_pos = True` in call. (Note that `return_TF = False` directs all output to stdout; in other words the setting of `return_TF` is what specifically determines if output sent to stdout as if called from command line or if passed back as intended to handle when calling from main function.) "
   ]
  },
  {
   "cell_type": "code",
   "execution_count": 8,
   "metadata": {},
   "outputs": [
    {
     "name": "stderr",
     "output_type": "stream",
     "text": [
      "\n",
      "**NOTE: gap indicator in this script is currently set to '-'. If\n",
      "that does not match what provided alignment uses to indicate gaps,\n",
      "please change the setting within the script code under\n",
      "'USER ADJUSTABLE VALUES' around line 100 (give or take a few).**\n",
      "Alignment file read...VPH1 sequence collected from alignment...FASTA file read...Checking...\n",
      "Is sequence contiguous without regard to the ends?Will return start position value, too....  ...\n"
     ]
    },
    {
     "data": {
      "text/plain": [
       "(True, 9)"
      ]
     },
     "execution_count": 8,
     "metadata": {},
     "output_type": "execute_result"
    }
   ],
   "source": [
    "from check_seq_frag_in_MSAclustal_intact_viaFASTA import check_seq_frag_in_MSAclustal_intact_viaFASTA\n",
    "consistent, start_pos = check_seq_frag_in_MSAclustal_intact_viaFASTA(\"alignment.clw\", \"VPH1\", \"S288C_YOR270C_VPH1_protein.fsa\", return_TF = True, report_start_residue_pos = True)\n",
    "consistent, start_pos"
   ]
  },
  {
   "cell_type": "markdown",
   "metadata": {},
   "source": [
    "The information about the starting residue wil be useful for the residue matching script because as discussed below for sequences that don't being at residue number one, the first position must be provided so the number reflect the number in actual sequence.\n",
    "\n",
    "Now that we know that the fragment is intact (and could determine that for others and also could gather starting residues -- and would if wasn't trying to limit 'overhead' before the important topics--), we can continue on to next section where the multiple sequence alignment is used to collect residues that correspond to the reference structure."
   ]
  },
  {
   "cell_type": "markdown",
   "metadata": {},
   "source": [
    "## Use residue matching script via command line"
   ]
  },
  {
   "cell_type": "markdown",
   "metadata": {},
   "source": [
    "This section is meant to act as a demonstration of `MSA_to_corresponding_residue_numbers.py`.\n",
    "\n",
    "The section starts off display the technical USAGE block first and then illustates different ways to use the script.\n",
    "\n",
    "The sections following take the collected information and show one way to use it.\n",
    "\n",
    "#### Display `USAGE` block"
   ]
  },
  {
   "cell_type": "code",
   "execution_count": 9,
   "metadata": {},
   "outputs": [
    {
     "name": "stdout",
     "output_type": "stream",
     "text": [
      "usage: MSA_to_corresponding_residue_numbers.py [-h]\r\n",
      "                                               ALIGNMENT_FILE REF_ID\r\n",
      "                                               [N [N ...]]\r\n",
      "\r\n",
      "MSA_to_corresponding_residue_numbers.py takes a multiple sequence\r\n",
      "alignment in Clustal format and determines the corresponding residue numbers\r\n",
      "for aligned residues for a specified reference sequence in the alignment and\r\n",
      "the pairing of it with every other aligned sequence in the multiple sequence\r\n",
      "alignment. The reference sequence is specified by the identifier at the start\r\n",
      "of each line in the sequence blocks. **** Script by Wayne Decatur (fomightez @\r\n",
      "github) ***\r\n",
      "\r\n",
      "positional arguments:\r\n",
      "  ALIGNMENT_FILE  Name of file of alignment text file (CLUSTAL format).\r\n",
      "  REF_ID          Identifier that matches the sequence in the MSA to use as a\r\n",
      "                  reference to get matches to other sequences. Presumably,\r\n",
      "                  this sequence has a corresponding structural model\r\n",
      "                  available.\r\n",
      "  N               OPTIONAL IN MANY CASES: Provide an integer specifying the\r\n",
      "                  start position for each sequence in the provided alignment,\r\n",
      "                  if at least one of them isn't beginning at the first residue\r\n",
      "                  in the sequence. Seperate each integer with a space, such as\r\n",
      "                  `5 1 9 8` without tickmarks. IF ALL BEGIN AT ONE, NO REASON\r\n",
      "                  TO INCLUDE SUCH A LIST.\r\n",
      "\r\n",
      "optional arguments:\r\n",
      "  -h, --help      show this help message and exit\r\n"
     ]
    }
   ],
   "source": [
    "!python MSA_to_corresponding_residue_numbers.py -h"
   ]
  },
  {
   "cell_type": "markdown",
   "metadata": {},
   "source": [
    "#### Command line use example #1: basic command (tabular text files output)\n",
    "\n",
    "The minimum the script needs to analyze an alignment is to specify the alignment file name followed by the designation of the sequence to use as the reference."
   ]
  },
  {
   "cell_type": "code",
   "execution_count": 10,
   "metadata": {},
   "outputs": [
    {
     "name": "stderr",
     "output_type": "stream",
     "text": [
      "\n",
      "**NOTE: gap indicator in this script is currently set to '-'. If\n",
      "that does not match what provided alignment uses to indicate gaps,\n",
      "please change the setting within the script code under\n",
      "'USER ADJUSTABLE VALUES' around line 130 (give or take a few).**\n",
      "Alignment file read...VPH1 reference sequence collected from alignment...query compared...\n",
      "made match pairings into intervals of start and end where possible...\n",
      "\n",
      "made dataframe of matched start and ends...DONE.\n",
      "\n",
      "File 'VPH1_residues_matched_to_STV1.tsv' saved.\n"
     ]
    }
   ],
   "source": [
    "%run MSA_to_corresponding_residue_numbers.py alignment_with_all_residues.clw VPH1 "
   ]
  },
  {
   "cell_type": "markdown",
   "metadata": {},
   "source": [
    "See the result:"
   ]
  },
  {
   "cell_type": "code",
   "execution_count": 11,
   "metadata": {},
   "outputs": [
    {
     "name": "stdout",
     "output_type": "stream",
     "text": [
      "VPH1_start\tVPH1_end\tSTV1_start\tSTV1_end\r\n",
      "2\t84\t1\t83\r\n",
      "90\t92\t84\t86\r\n",
      "93\t107\t91\t105\r\n",
      "108\t152\t117\t161\r\n",
      "153\t171\t167\t185\r\n",
      "172\t186\t189\t203\r\n",
      "187\t222\t240\t275\r\n",
      "225\t267\t276\t318\r\n",
      "271\t325\t319\t373\r\n"
     ]
    }
   ],
   "source": [
    "!head VPH1_residues_matched_to_STV1.tsv"
   ]
  },
  {
   "cell_type": "markdown",
   "metadata": {},
   "source": [
    "#### Command line use example #2: designate the starting residue shown in the alignment"
   ]
  },
  {
   "cell_type": "markdown",
   "metadata": {},
   "source": [
    "However, it many cases one or some of the sequences won't have the initial or perhaps the end sequences. If the missing residues are at the beginning, an offset value needs to be provided **If at least one sequence in the multiple sequence alignment doesn't begin with residue number 1 and you want to provide an offset value, a value for each sequence must be provided. Simply put `1` if it startes with the first residue.**"
   ]
  },
  {
   "cell_type": "code",
   "execution_count": 12,
   "metadata": {},
   "outputs": [
    {
     "name": "stderr",
     "output_type": "stream",
     "text": [
      "\n",
      "**NOTE: gap indicator in this script is currently set to '-'. If\n",
      "that does not match what provided alignment uses to indicate gaps,\n",
      "please change the setting within the script code under\n",
      "'USER ADJUSTABLE VALUES' around line 130 (give or take a few).**\n",
      "Alignment file read...VPH1 reference sequence collected from alignment...query compared...query compared...query compared...\n",
      "made match pairings into intervals of start and end where possible...\n",
      "\n",
      "made dataframes of matched start and ends...DONE.\n",
      "\n",
      "File 'VPH1_residues_matched_to_BAH13127.1.tsv' saved.\n",
      "File 'VPH1_residues_matched_to_EAW98433.1.tsv' saved.\n",
      "File 'VPH1_residues_matched_to_STV1.tsv' saved.\n"
     ]
    }
   ],
   "source": [
    "%run MSA_to_corresponding_residue_numbers.py alignment.clw VPH1 5 1 5 5"
   ]
  },
  {
   "cell_type": "markdown",
   "metadata": {},
   "source": [
    "Note if you are working in Python subsequently, you should check out the next section where importing the main function of the script into a Jupyter notebook or IPython session and passing dataframes back into a Jupyter notebook directly are illustrated. This option offers the most easy with using the data in downstream steps.\n"
   ]
  },
  {
   "cell_type": "markdown",
   "metadata": {},
   "source": [
    "## Use residue matching function via import"
   ]
  },
  {
   "cell_type": "markdown",
   "metadata": {},
   "source": [
    "In addition to being able to be run from the command line, the main function imported into a Jupyter notebook (or IPython session) and it can pass back dataframe(s) with the results. This section illustrates that.\n",
    "\n",
    "First you import the function into the notebook or IPython environment."
   ]
  },
  {
   "cell_type": "code",
   "execution_count": 13,
   "metadata": {},
   "outputs": [],
   "source": [
    "from MSA_to_corresponding_residue_numbers import MSA_to_corresponding_residue_numbers"
   ]
  },
  {
   "cell_type": "markdown",
   "metadata": {},
   "source": [
    "That command looks a bit redundant because the first 'from' is addressing the name of the script. The convention / syntax is not to include the extension though. The second part is specifying to import the function `MSA_to_corresponding_residue_numbers()`.\n",
    "\n",
    "Now that `MSA_to_corresponding_residue_numbers()` is imported, it can be used. As with using the script fom the command line, the function has a number of options, including a way to provide a list of residues in the case one or more sequences in the multiple sequence alignment don't begin with residue number one."
   ]
  },
  {
   "cell_type": "markdown",
   "metadata": {},
   "source": [
    "#### function use example #1: basic command\n",
    "\n"
   ]
  },
  {
   "cell_type": "code",
   "execution_count": 14,
   "metadata": {},
   "outputs": [
    {
     "name": "stderr",
     "output_type": "stream",
     "text": [
      "\n",
      "**NOTE: gap indicator in this script is currently set to '-'. If\n",
      "that does not match what provided alignment uses to indicate gaps,\n",
      "please change the setting within the script code under\n",
      "'USER ADJUSTABLE VALUES' around line 130 (give or take a few).**\n",
      "Alignment file read...VPH1 reference sequence collected from alignment...query compared...\n",
      "made match pairings into intervals of start and end where possible...\n",
      "\n",
      "made dataframe of matched start and ends...DONE.\n",
      "\n",
      "File 'VPH1_residues_matched_to_STV1.tsv' saved.\n"
     ]
    }
   ],
   "source": [
    "MSA_to_corresponding_residue_numbers(\"alignment_with_all_residues.clw\",\"VPH1\")"
   ]
  },
  {
   "cell_type": "code",
   "execution_count": 15,
   "metadata": {},
   "outputs": [
    {
     "name": "stdout",
     "output_type": "stream",
     "text": [
      "VPH1_start\tVPH1_end\tSTV1_start\tSTV1_end\r\n",
      "2\t84\t1\t83\r\n",
      "90\t92\t84\t86\r\n",
      "93\t107\t91\t105\r\n",
      "108\t152\t117\t161\r\n",
      "153\t171\t167\t185\r\n",
      "172\t186\t189\t203\r\n",
      "187\t222\t240\t275\r\n",
      "225\t267\t276\t318\r\n",
      "271\t325\t319\t373\r\n"
     ]
    }
   ],
   "source": [
    "!head VPH1_residues_matched_to_STV1.tsv"
   ]
  },
  {
   "cell_type": "markdown",
   "metadata": {},
   "source": [
    "### function use example #2: supply start residues\n",
    "\n",
    "As with the command line version, if any sequence doesn't begin with residue number one a list of the first residue positions for all sequences must be supplied. When calling with the function use `supplied_start_pos` argument to supply a list."
   ]
  },
  {
   "cell_type": "code",
   "execution_count": 16,
   "metadata": {},
   "outputs": [
    {
     "name": "stderr",
     "output_type": "stream",
     "text": [
      "\n",
      "**NOTE: gap indicator in this script is currently set to '-'. If\n",
      "that does not match what provided alignment uses to indicate gaps,\n",
      "please change the setting within the script code under\n",
      "'USER ADJUSTABLE VALUES' around line 130 (give or take a few).**\n",
      "Alignment file read...VPH1 reference sequence collected from alignment...query compared...query compared...query compared...\n",
      "made match pairings into intervals of start and end where possible...\n",
      "\n",
      "made dataframes of matched start and ends...DONE.\n",
      "\n",
      "File 'VPH1_residues_matched_to_BAH13127.1.tsv' saved.\n",
      "File 'VPH1_residues_matched_to_EAW98433.1.tsv' saved.\n",
      "File 'VPH1_residues_matched_to_STV1.tsv' saved.\n"
     ]
    }
   ],
   "source": [
    "MSA_to_corresponding_residue_numbers(\"alignment.clw\",\"VPH1\", supplied_start_pos = [5,1,5,5])"
   ]
  },
  {
   "cell_type": "code",
   "execution_count": 17,
   "metadata": {},
   "outputs": [
    {
     "name": "stdout",
     "output_type": "stream",
     "text": [
      "VPH1_start\tVPH1_end\tSTV1_start\tSTV1_end\r\n",
      "5\t80\t5\t80\r\n",
      "86\t88\t81\t83\r\n",
      "89\t103\t88\t102\r\n",
      "104\t148\t114\t158\r\n",
      "149\t167\t164\t182\r\n",
      "168\t182\t186\t200\r\n",
      "183\t218\t237\t272\r\n",
      "221\t263\t273\t315\r\n",
      "267\t321\t316\t370\r\n"
     ]
    }
   ],
   "source": [
    "!head VPH1_residues_matched_to_STV1.tsv"
   ]
  },
  {
   "cell_type": "markdown",
   "metadata": {},
   "source": [
    "#### function use example #3: return dataframes\n",
    "\n",
    "For those wishing to utilize this data in Python, a dictionary of dataframes can be returned by setting `return_dfs` to true. The identifier of the query sequence in the match will by the key. The reference idenitifier is returned as well so that it will be a variable ready for subsequent use.\n",
    "\n",
    "The next cell demonstrates getting the dataframes in as active objects in the notebook environment."
   ]
  },
  {
   "cell_type": "code",
   "execution_count": 18,
   "metadata": {},
   "outputs": [
    {
     "name": "stderr",
     "output_type": "stream",
     "text": [
      "\n",
      "**NOTE: gap indicator in this script is currently set to '-'. If\n",
      "that does not match what provided alignment uses to indicate gaps,\n",
      "please change the setting within the script code under\n",
      "'USER ADJUSTABLE VALUES' around line 130 (give or take a few).**\n",
      "Alignment file read...VPH1 reference sequence collected from alignment...query compared...query compared..."
     ]
    },
    {
     "name": "stdout",
     "output_type": "stream",
     "text": [
      "BAH13127.1\n"
     ]
    },
    {
     "name": "stderr",
     "output_type": "stream",
     "text": [
      "query compared...\n",
      "made match pairings into intervals of start and end where possible...\n",
      "\n",
      "made dataframes of matched start and ends...DONE.\n"
     ]
    },
    {
     "data": {
      "text/html": [
       "<div>\n",
       "<style scoped>\n",
       "    .dataframe tbody tr th:only-of-type {\n",
       "        vertical-align: middle;\n",
       "    }\n",
       "\n",
       "    .dataframe tbody tr th {\n",
       "        vertical-align: top;\n",
       "    }\n",
       "\n",
       "    .dataframe thead th {\n",
       "        text-align: right;\n",
       "    }\n",
       "</style>\n",
       "<table border=\"1\" class=\"dataframe\">\n",
       "  <thead>\n",
       "    <tr style=\"text-align: right;\">\n",
       "      <th></th>\n",
       "      <th>VPH1_start</th>\n",
       "      <th>VPH1_end</th>\n",
       "      <th>BAH13127.1_start</th>\n",
       "      <th>BAH13127.1_end</th>\n",
       "    </tr>\n",
       "  </thead>\n",
       "  <tbody>\n",
       "    <tr>\n",
       "      <th>0</th>\n",
       "      <td>5</td>\n",
       "      <td>80</td>\n",
       "      <td>5</td>\n",
       "      <td>80</td>\n",
       "    </tr>\n",
       "    <tr>\n",
       "      <th>1</th>\n",
       "      <td>89</td>\n",
       "      <td>103</td>\n",
       "      <td>81</td>\n",
       "      <td>95</td>\n",
       "    </tr>\n",
       "    <tr>\n",
       "      <th>2</th>\n",
       "      <td>126</td>\n",
       "      <td>136</td>\n",
       "      <td>96</td>\n",
       "      <td>106</td>\n",
       "    </tr>\n",
       "    <tr>\n",
       "      <th>3</th>\n",
       "      <td>160</td>\n",
       "      <td>166</td>\n",
       "      <td>107</td>\n",
       "      <td>113</td>\n",
       "    </tr>\n",
       "    <tr>\n",
       "      <th>4</th>\n",
       "      <td>169</td>\n",
       "      <td>448</td>\n",
       "      <td>114</td>\n",
       "      <td>393</td>\n",
       "    </tr>\n",
       "  </tbody>\n",
       "</table>\n",
       "</div>"
      ],
      "text/plain": [
       "   VPH1_start  VPH1_end  BAH13127.1_start  BAH13127.1_end\n",
       "0           5        80                 5              80\n",
       "1          89       103                81              95\n",
       "2         126       136                96             106\n",
       "3         160       166               107             113\n",
       "4         169       448               114             393"
      ]
     },
     "metadata": {},
     "output_type": "display_data"
    },
    {
     "name": "stdout",
     "output_type": "stream",
     "text": [
      "EAW98433.1\n"
     ]
    },
    {
     "data": {
      "text/html": [
       "<div>\n",
       "<style scoped>\n",
       "    .dataframe tbody tr th:only-of-type {\n",
       "        vertical-align: middle;\n",
       "    }\n",
       "\n",
       "    .dataframe tbody tr th {\n",
       "        vertical-align: top;\n",
       "    }\n",
       "\n",
       "    .dataframe thead th {\n",
       "        text-align: right;\n",
       "    }\n",
       "</style>\n",
       "<table border=\"1\" class=\"dataframe\">\n",
       "  <thead>\n",
       "    <tr style=\"text-align: right;\">\n",
       "      <th></th>\n",
       "      <th>VPH1_start</th>\n",
       "      <th>VPH1_end</th>\n",
       "      <th>EAW98433.1_start</th>\n",
       "      <th>EAW98433.1_end</th>\n",
       "    </tr>\n",
       "  </thead>\n",
       "  <tbody>\n",
       "    <tr>\n",
       "      <th>0</th>\n",
       "      <td>5</td>\n",
       "      <td>13</td>\n",
       "      <td>1</td>\n",
       "      <td>9</td>\n",
       "    </tr>\n",
       "    <tr>\n",
       "      <th>1</th>\n",
       "      <td>14</td>\n",
       "      <td>19</td>\n",
       "      <td>12</td>\n",
       "      <td>17</td>\n",
       "    </tr>\n",
       "    <tr>\n",
       "      <th>2</th>\n",
       "      <td>35</td>\n",
       "      <td>80</td>\n",
       "      <td>18</td>\n",
       "      <td>63</td>\n",
       "    </tr>\n",
       "    <tr>\n",
       "      <th>3</th>\n",
       "      <td>89</td>\n",
       "      <td>103</td>\n",
       "      <td>64</td>\n",
       "      <td>78</td>\n",
       "    </tr>\n",
       "    <tr>\n",
       "      <th>4</th>\n",
       "      <td>105</td>\n",
       "      <td>148</td>\n",
       "      <td>79</td>\n",
       "      <td>122</td>\n",
       "    </tr>\n",
       "  </tbody>\n",
       "</table>\n",
       "</div>"
      ],
      "text/plain": [
       "   VPH1_start  VPH1_end  EAW98433.1_start  EAW98433.1_end\n",
       "0           5        13                 1               9\n",
       "1          14        19                12              17\n",
       "2          35        80                18              63\n",
       "3          89       103                64              78\n",
       "4         105       148                79             122"
      ]
     },
     "metadata": {},
     "output_type": "display_data"
    },
    {
     "name": "stdout",
     "output_type": "stream",
     "text": [
      "STV1\n"
     ]
    },
    {
     "data": {
      "text/html": [
       "<div>\n",
       "<style scoped>\n",
       "    .dataframe tbody tr th:only-of-type {\n",
       "        vertical-align: middle;\n",
       "    }\n",
       "\n",
       "    .dataframe tbody tr th {\n",
       "        vertical-align: top;\n",
       "    }\n",
       "\n",
       "    .dataframe thead th {\n",
       "        text-align: right;\n",
       "    }\n",
       "</style>\n",
       "<table border=\"1\" class=\"dataframe\">\n",
       "  <thead>\n",
       "    <tr style=\"text-align: right;\">\n",
       "      <th></th>\n",
       "      <th>VPH1_start</th>\n",
       "      <th>VPH1_end</th>\n",
       "      <th>STV1_start</th>\n",
       "      <th>STV1_end</th>\n",
       "    </tr>\n",
       "  </thead>\n",
       "  <tbody>\n",
       "    <tr>\n",
       "      <th>0</th>\n",
       "      <td>5</td>\n",
       "      <td>80</td>\n",
       "      <td>5</td>\n",
       "      <td>80</td>\n",
       "    </tr>\n",
       "    <tr>\n",
       "      <th>1</th>\n",
       "      <td>86</td>\n",
       "      <td>88</td>\n",
       "      <td>81</td>\n",
       "      <td>83</td>\n",
       "    </tr>\n",
       "    <tr>\n",
       "      <th>2</th>\n",
       "      <td>89</td>\n",
       "      <td>103</td>\n",
       "      <td>88</td>\n",
       "      <td>102</td>\n",
       "    </tr>\n",
       "    <tr>\n",
       "      <th>3</th>\n",
       "      <td>104</td>\n",
       "      <td>148</td>\n",
       "      <td>114</td>\n",
       "      <td>158</td>\n",
       "    </tr>\n",
       "    <tr>\n",
       "      <th>4</th>\n",
       "      <td>149</td>\n",
       "      <td>167</td>\n",
       "      <td>164</td>\n",
       "      <td>182</td>\n",
       "    </tr>\n",
       "  </tbody>\n",
       "</table>\n",
       "</div>"
      ],
      "text/plain": [
       "   VPH1_start  VPH1_end  STV1_start  STV1_end\n",
       "0           5        80           5        80\n",
       "1          86        88          81        83\n",
       "2          89       103          88       102\n",
       "3         104       148         114       158\n",
       "4         149       167         164       182"
      ]
     },
     "metadata": {},
     "output_type": "display_data"
    }
   ],
   "source": [
    "from IPython.display import display, HTML\n",
    "ref_id, dfs_by_id = MSA_to_corresponding_residue_numbers(\"alignment.clw\",\"VPH1\", return_dfs = True , supplied_start_pos = [5,1,5,5])\n",
    "for id_,df in dfs_by_id.items():\n",
    "    print(id_)\n",
    "    display(df.head())"
   ]
  },
  {
   "cell_type": "markdown",
   "metadata": {},
   "source": [
    "The final section of the notebook, below, builds on the output dataframes to produce molecular visualization commands for use in fitting the matching residues in structures using Pymol and/or Jmol."
   ]
  },
  {
   "cell_type": "markdown",
   "metadata": {},
   "source": [
    "## Using the matched residues to make PyMOL fit commands"
   ]
  },
  {
   "cell_type": "markdown",
   "metadata": {},
   "source": [
    "This section builds on the dataframes output to produce molecular visualization commands for use in PyMOL. Information on structure being used:\n",
    "[6C6L: Yeast Vacuolar ATPase Vo in lipid nanodisc](http://www.rcsb.org/structure/6C6L). VPH1 is Chain A.\n",
    "\n",
    "Note that PyMOL offers a number of means to perform structural superposition via different algorithms, and there are even more offered via extensions that can be added to PyMOL; one example is the [xfit command](https://pymolwiki.org/index.php/Xfit) from the [psico module](https://pymolwiki.org/index.php/Psico). PyMOL's [Align](https://pymolwiki.org/index.php/Align) can take an alignment file. As a followup to demonstrating psico's [load_aln](https://pymolwiki.org/index.php/Load_aln) to load an alignment for visualization in the sequence viewer portion of PyMOL, the use of [the xfit command](https://pymolwiki.org/index.php/Xfit) from the [psico module](https://pymolwiki.org/index.php/Psico) is demonstrated [here](https://pymolwiki.org/index.php/Load_aln). (To save you from concern about your local PyMOL, I have the [psico extension/module](https://pymolwiki.org/index.php/Psico) installed and available alread in PyMOL sessions that can be launced from [here](https://github.com/fomightez/Jupyter-desktop_with_pymol).) Here I use PyMOL's pair_fit because it allows very granular control and is similar to Jmol's approach (see below). This allows things to be more reproducible and consistent between the molecular visualization software I use most. \n",
    "\n",
    "First we'll run the command to make sure the related dataframe is in the namespace of the notebook."
   ]
  },
  {
   "cell_type": "code",
   "execution_count": 19,
   "metadata": {},
   "outputs": [
    {
     "name": "stderr",
     "output_type": "stream",
     "text": [
      "\n",
      "**NOTE: gap indicator in this script is currently set to '-'. If\n",
      "that does not match what provided alignment uses to indicate gaps,\n",
      "please change the setting within the script code under\n",
      "'USER ADJUSTABLE VALUES' around line 130 (give or take a few).**\n",
      "Alignment file read...VPH1 reference sequence collected from alignment...query compared...query compared...query compared...\n",
      "made match pairings into intervals of start and end where possible...\n",
      "\n",
      "made dataframes of matched start and ends...DONE.\n"
     ]
    }
   ],
   "source": [
    "from MSA_to_corresponding_residue_numbers import MSA_to_corresponding_residue_numbers\n",
    "ref_id, dfs_by_id = MSA_to_corresponding_residue_numbers(\"alignment.clw\",\"VPH1\", return_dfs = True , supplied_start_pos = [5,1,5,5])"
   ]
  },
  {
   "cell_type": "markdown",
   "metadata": {},
   "source": [
    "Now the dataframes can be used to make commands based on the identifiers and matching residue numbering.\n",
    "\n",
    "Some additional data needs to be provided because the equivalent chains weren't yet provided. For example, the model made of STV1 has chain designation of 'A'. Even though  the structure [PDB id: 6C6L](http://www.rcsb.org/structure/6C6L) is quite complex with fifteen chains (eight unique), VPH1 is designated chain 'A' for reasons related to the subunit nomenclature. \n",
    "\n",
    "It won't always be this simple. One model might have a protein of interest chain 'I', while a homolog is chain 'K' in another.\n",
    "\n",
    "Additionally, the PDB id code and/or identifiers used in corresponding Pymol session for those not in PDB must be specified prior to constructing the commands as well."
   ]
  },
  {
   "cell_type": "code",
   "execution_count": 20,
   "metadata": {},
   "outputs": [
    {
     "name": "stdout",
     "output_type": "stream",
     "text": [
      "\n",
      "\n",
      "\n",
      "FORMATTED PYMOL COMMANDS:\n",
      " \n",
      "select 6C6LchACA, 6C6L and resid 5:80 and chain A and name CA | 6C6L and resid 89:103 and chain A and name CA | 6C6L and resid 126:136 and chain A and name CA | 6C6L and resid 160:166 and chain A and name CA | 6C6L and resid 169:448 and chain A and name CA | 6C6L and resid 449:491 and chain A and name CA | 6C6L and resid 492:507 and chain A and name CA | 6C6L and resid 508:614 and chain A and name CA | 6C6L and resid 615:656 and chain A and name CA | 6C6L and resid 657:671 and chain A and name CA | 6C6L and resid 672:693 and chain A and name CA | 6C6L and resid 703:819 and chain A and name CA | 6C6L and resid 826:834 and chain A and name CA \n",
      "select BAH1chGCA, BAH1 and resid 5:80 and chain G and name CA | BAH1 and resid 81:95 and chain G and name CA | BAH1 and resid 96:106 and chain G and name CA | BAH1 and resid 107:113 and chain G and name CA | BAH1 and resid 114:393 and chain G and name CA | BAH1 and resid 395:437 and chain G and name CA | BAH1 and resid 446:461 and chain G and name CA | BAH1 and resid 469:575 and chain G and name CA | BAH1 and resid 578:619 and chain G and name CA | BAH1 and resid 621:635 and chain G and name CA | BAH1 and resid 640:661 and chain G and name CA | BAH1 and resid 663:779 and chain G and name CA | BAH1 and resid 780:788 and chain G and name CA \n",
      "pair_fit (  6C6LchACA ), (  BAH1chGCA )\n",
      "\n",
      "select 6C6LchACA, 6C6L and resid 5:13 and chain A and name CA | 6C6L and resid 14:19 and chain A and name CA | 6C6L and resid 35:80 and chain A and name CA | 6C6L and resid 89:103 and chain A and name CA | 6C6L and resid 105:148 and chain A and name CA | 6C6L and resid 149:166 and chain A and name CA | 6C6L and resid 169:174 and chain A and name CA | 6C6L and resid 176:491 and chain A and name CA | 6C6L and resid 492:507 and chain A and name CA | 6C6L and resid 508:656 and chain A and name CA | 6C6L and resid 657:662 and chain A and name CA | 6C6L and resid 664:671 and chain A and name CA | 6C6L and resid 672:702 and chain A and name CA | 6C6L and resid 703:818 and chain A and name CA | 6C6L and resid 826:836 and chain A and name CA \n",
      "select EAW9chHCA, EAW9 and resid 1:9 and chain H and name CA | EAW9 and resid 12:17 and chain H and name CA | EAW9 and resid 18:63 and chain H and name CA | EAW9 and resid 64:78 and chain H and name CA | EAW9 and resid 79:122 and chain H and name CA | EAW9 and resid 128:145 and chain H and name CA | EAW9 and resid 146:151 and chain H and name CA | EAW9 and resid 152:467 and chain H and name CA | EAW9 and resid 487:502 and chain H and name CA | EAW9 and resid 510:658 and chain H and name CA | EAW9 and resid 660:665 and chain H and name CA | EAW9 and resid 666:673 and chain H and name CA | EAW9 and resid 678:708 and chain H and name CA | EAW9 and resid 710:825 and chain H and name CA | EAW9 and resid 826:836 and chain H and name CA \n",
      "pair_fit (  6C6LchACA ), (  EAW9chHCA )\n",
      "\n",
      "select 6C6LchACA, 6C6L and resid 5:80 and chain A and name CA | 6C6L and resid 86:88 and chain A and name CA | 6C6L and resid 89:103 and chain A and name CA | 6C6L and resid 104:148 and chain A and name CA | 6C6L and resid 149:167 and chain A and name CA | 6C6L and resid 168:182 and chain A and name CA | 6C6L and resid 183:218 and chain A and name CA | 6C6L and resid 221:263 and chain A and name CA | 6C6L and resid 267:321 and chain A and name CA | 6C6L and resid 324:656 and chain A and name CA | 6C6L and resid 657:671 and chain A and name CA | 6C6L and resid 672:702 and chain A and name CA | 6C6L and resid 703:760 and chain A and name CA | 6C6L and resid 761:819 and chain A and name CA | 6C6L and resid 826:829 and chain A and name CA \n",
      "select STV1_modelchACA, STV1_model and resid 5:80 and chain A and name CA | STV1_model and resid 81:83 and chain A and name CA | STV1_model and resid 88:102 and chain A and name CA | STV1_model and resid 114:158 and chain A and name CA | STV1_model and resid 164:182 and chain A and name CA | STV1_model and resid 186:200 and chain A and name CA | STV1_model and resid 237:272 and chain A and name CA | STV1_model and resid 273:315 and chain A and name CA | STV1_model and resid 316:370 and chain A and name CA | STV1_model and resid 371:703 and chain A and name CA | STV1_model and resid 713:727 and chain A and name CA | STV1_model and resid 732:762 and chain A and name CA | STV1_model and resid 764:821 and chain A and name CA | STV1_model and resid 825:883 and chain A and name CA | STV1_model and resid 884:887 and chain A and name CA \n",
      "pair_fit (  6C6LchACA ), (  STV1_modelchACA )\n",
      "\n",
      "\n"
     ]
    }
   ],
   "source": [
    "# further prep for generating commands\n",
    "ref_id_chain = 'A' # for VPH1, from http://www.rcsb.org/structure/6C6L\n",
    "# for `query_chains_by_id`, use ids from the MSA file as keys and the\n",
    "# chain designations from the PDB files as the values\n",
    "query_chains_by_id = {'BAH13127.1':'G',\n",
    "                      'EAW98433.1':'H',\n",
    "                      'STV1':'A'}\n",
    "ref_chain_structure = \"6C6L\"\n",
    "# for `structures_by_id`, use ids from the MSA file as keys and \n",
    "# the ids in the PDB files as values\n",
    "structures_by_id = {'BAH13127.1':'BAH1',\n",
    "                      'EAW98433.1':'EAW9',\n",
    "                      'STV1':'STV1_model'}\n",
    "\n",
    "# Convert each dataframe to something similar to `ranges_o_residues_resolved_per_chain_pairs` from the notebook \n",
    "# `Using Biopython PDB module to list resolved residues and construct fit commands`\n",
    "# Example of `ranges_o_residues_resolved_per_chain_pairs` that notebook to base it on:\n",
    "# `{('A', 'F'): ['4:121', '129:158'], ('B', 'G'): ['14:104', '125:140']}`\n",
    "# However, those were in same chain and so more complex here in that regard!\n",
    "# Since need residue positions for both chains it will be more like below for\n",
    "# one reference-query chain pair:\n",
    "# `{('A', 'F'): (['4:121', '129:158'],['x:xxx', 'xxx:xxx'])}`\n",
    "# And since also will want these to be one for each pairing, I can store each dictionary\n",
    "# in a dictionary with the key of the query as id for all, like so (only two shown for example:\n",
    "# `{'BAH13127.1': {('A', 'G'): (['4:121', '129:158'],['x:xxx', 'xxx:xxx'])}, 'STV1':{('A', 'A'): (['14:104', '125:140'],['x:xxx', 'xxx:xxx'])}}`  \n",
    "matched_ranges_o_residues_per_chain_pairs_by_id = {}\n",
    "for id_,df in dfs_by_id.items():\n",
    "    matched_ranges_o_residues_per_chain_pairs = {}\n",
    "    chain_pair = (ref_id_chain,query_chains_by_id[id_])\n",
    "    #iterate through the rows of the dataframe making the two lists\n",
    "    ref_list = []\n",
    "    query_list = []\n",
    "    for row in df.itertuples(index=False):\n",
    "        ref_list.append(f'{row[0]}:{row[1]}')\n",
    "        query_list.append(f'{row[2]}:{row[3]}')\n",
    "    matched_ranges_o_residues_per_chain_pairs[chain_pair] = (ref_list,query_list)\n",
    "    matched_ranges_o_residues_per_chain_pairs_by_id[id_] = matched_ranges_o_residues_per_chain_pairs\n",
    "\n",
    "# form commands\n",
    "formatted_commands = \"\"\n",
    "for id_,matched_ranges_per_ch_p in matched_ranges_o_residues_per_chain_pairs_by_id.items():\n",
    "    selection_pairs = [] #to collect two item tuple elements, each item being a name\n",
    "    for chain_pair in matched_ranges_per_ch_p:\n",
    "        structures = (ref_chain_structure, structures_by_id[id_])\n",
    "        selection_name_pair = []\n",
    "        for indx,chain in enumerate(chain_pair):\n",
    "            sel_nom = f\"{structures[indx]}ch{chain}CA\" #`CA` at end stands for `name CA` / alpha-carbon\n",
    "            formatted_commands += f\"select {sel_nom},\"\n",
    "            formatted_commands += \"|\".join( f\" {structures[indx]} and resid {pos_range} and chain {chain} and name CA \" \n",
    "                                           for pos_range in matched_ranges_per_ch_p[chain_pair][indx] ) \n",
    "            #for pos_range in ranges_o_residues_resolved_per_chain_pairs[chain_pair]:\n",
    "             #   formatted_commands += f\"{structures[indx].id} and resid {pos_range} and chain {chain} and name CA\"\n",
    "            formatted_commands += \"\\n\"\n",
    "            selection_name_pair.append(sel_nom)\n",
    "        selection_pairs.append(selection_name_pair)\n",
    "    first_structure_selections = \"|\".join(f\" {x[0]} \" for x in selection_pairs)\n",
    "    second_structure_selections = \"|\".join(f\" {x[1]} \" for x in selection_pairs)\n",
    "    formatted_commands += f\"pair_fit ( {first_structure_selections}), ( {second_structure_selections})\"\n",
    "    formatted_commands += \"\\n\\n\"\n",
    "        \n",
    "# residues_resolved_per_chain_b\n",
    "#shared_positions_per_chain_pairs\n",
    "#ranges_o_residues_resolved_per_chain_pairs\n",
    "print(\"\\n\\n\")\n",
    "print (\"FORMATTED PYMOL COMMANDS:\")\n",
    "print(\" \")\n",
    "print(formatted_commands)"
   ]
  },
  {
   "cell_type": "markdown",
   "metadata": {},
   "source": [
    "## Using the matching residue information to make Jmol commands\n",
    "\n",
    "A similar process can be done to make Jmol / JSmol command for the `compare` function, Jmol/JSmol's equivalent of Pymol's fit function.\n",
    "(A good example using Jmol/JSmol's `compare` is built into the 'Compare LepA and Ef-G' jmolLink script [here](http://proteopedia.org/wiki/index.php?title=Escherichia_coli_LepA%2C_the_ribosomal_back_translocase&oldid=2838676)).\n",
    "\n",
    "This moves each query structure to dock onto the reference structure.\n",
    "\n",
    "First, make sure the needed data in active in session namespace."
   ]
  },
  {
   "cell_type": "code",
   "execution_count": 21,
   "metadata": {},
   "outputs": [
    {
     "name": "stderr",
     "output_type": "stream",
     "text": [
      "\n",
      "**NOTE: gap indicator in this script is currently set to '-'. If\n",
      "that does not match what provided alignment uses to indicate gaps,\n",
      "please change the setting within the script code under\n",
      "'USER ADJUSTABLE VALUES' around line 130 (give or take a few).**\n",
      "Alignment file read...VPH1 reference sequence collected from alignment...query compared...query compared...query compared...\n",
      "made match pairings into intervals of start and end where possible...\n",
      "\n",
      "made dataframes of matched start and ends...DONE.\n"
     ]
    }
   ],
   "source": [
    "from MSA_to_corresponding_residue_numbers import MSA_to_corresponding_residue_numbers\n",
    "ref_id, dfs_by_id = MSA_to_corresponding_residue_numbers(\"alignment.clw\",\"VPH1\", return_dfs = True , supplied_start_pos = [5,1,5,5])"
   ]
  },
  {
   "cell_type": "markdown",
   "metadata": {},
   "source": [
    "Now the dataframes can be used to make commands based on the identifiers and matching residue numbering.\n",
    "\n",
    "(The [Interactive Scripting Documentation states by default without specifying `SUBSET` that `COMPARE` uses 'spine' atoms](https://chemapps.stolaf.edu/jmol/docs/#compare) and you might imagine that is a reasonable option since it is set as the default. However, I got much better results specifying using alpha-carbon backbone directly and so the commands generated here reflect that suggestion. Feel free to edit the appropriate line to `formatted_commands += f\"compare {{1.{models_by_id[id_]}}} {{1.{ref_model_num}}} ATOMS {pairs_of_atom_sets} ROTATE TRANSLATE -2.5;\\n\"` and try with those results  instead.)\n",
    "\n",
    "Some additional data needs to be provided because the equivalent chains weren't yet provided. For example, the model made of STV1 has chain designation of 'A'. Even though  the structure [PDB id: 6C6L](http://www.rcsb.org/structure/6C6L) is quite complex with fifteen chains (eight unique), VPH1 is designated chain 'A' for reasons related to the subunit nomenclature. And, the way I like to work with multiple models in Jmol/Jsmol is in multi-model files and so that needs to be addressed by model numbers. (Note to make such a file with each structure as a separate model use the script `merge_multi_PDBs_into_single_file.py` described [here](https://github.com/fomightez/structurework/tree/master/python_scripts). Demonstration in a full workflow is shown [here](GSD/GSD%201_vs_21_vs_2_vs_12.ipynb#Merging-multiple-structures-in-PDB-format-into-single-file-with-multiple-models).)"
   ]
  },
  {
   "cell_type": "code",
   "execution_count": 22,
   "metadata": {},
   "outputs": [
    {
     "name": "stdout",
     "output_type": "stream",
     "text": [
      "\n",
      "\n",
      "\n",
      "FORMATTED JMOL/JSMOL COMMANDS:\n",
      " \n",
      "define sel_aa_modelBAH1 5-80:G and model=1.2;\n",
      "define sel_aa_model6C6L 5-80:A and model=1.1;\n",
      "define sel_ab_modelBAH1 81-95:G and model=1.2;\n",
      "define sel_ab_model6C6L 89-103:A and model=1.1;\n",
      "define sel_ac_modelBAH1 96-106:G and model=1.2;\n",
      "define sel_ac_model6C6L 126-136:A and model=1.1;\n",
      "define sel_ad_modelBAH1 107-113:G and model=1.2;\n",
      "define sel_ad_model6C6L 160-166:A and model=1.1;\n",
      "define sel_ae_modelBAH1 114-393:G and model=1.2;\n",
      "define sel_ae_model6C6L 169-448:A and model=1.1;\n",
      "define sel_af_modelBAH1 395-437:G and model=1.2;\n",
      "define sel_af_model6C6L 449-491:A and model=1.1;\n",
      "define sel_ag_modelBAH1 446-461:G and model=1.2;\n",
      "define sel_ag_model6C6L 492-507:A and model=1.1;\n",
      "define sel_ah_modelBAH1 469-575:G and model=1.2;\n",
      "define sel_ah_model6C6L 508-614:A and model=1.1;\n",
      "define sel_ai_modelBAH1 578-619:G and model=1.2;\n",
      "define sel_ai_model6C6L 615-656:A and model=1.1;\n",
      "define sel_aj_modelBAH1 621-635:G and model=1.2;\n",
      "define sel_aj_model6C6L 657-671:A and model=1.1;\n",
      "define sel_ak_modelBAH1 640-661:G and model=1.2;\n",
      "define sel_ak_model6C6L 672-693:A and model=1.1;\n",
      "define sel_al_modelBAH1 663-779:G and model=1.2;\n",
      "define sel_al_model6C6L 703-819:A and model=1.1;\n",
      "define sel_am_modelBAH1 780-788:G and model=1.2;\n",
      "define sel_am_model6C6L 826-834:A and model=1.1;\n",
      "origcoord = {1.2}.xyz.all;\n",
      "compare {1.2} {1.1} SUBSET {*.CA} ATOMS {sel_aa_modelBAH1}{sel_aa_model6C6L}, {sel_ab_modelBAH1}{sel_ab_model6C6L}, {sel_ac_modelBAH1}{sel_ac_model6C6L}, {sel_ad_modelBAH1}{sel_ad_model6C6L}, {sel_ae_modelBAH1}{sel_ae_model6C6L}, {sel_af_modelBAH1}{sel_af_model6C6L}, {sel_ag_modelBAH1}{sel_ag_model6C6L}, {sel_ah_modelBAH1}{sel_ah_model6C6L}, {sel_ai_modelBAH1}{sel_ai_model6C6L}, {sel_aj_modelBAH1}{sel_aj_model6C6L}, {sel_ak_modelBAH1}{sel_ak_model6C6L}, {sel_al_modelBAH1}{sel_al_model6C6L}, {sel_am_modelBAH1}{sel_am_model6C6L} ROTATE TRANSLATE -2.5;\n",
      "\n",
      "\n",
      "define sel_an_modelEAW9 1-9:H and model=1.3;\n",
      "define sel_an_model6C6L 5-13:A and model=1.1;\n",
      "define sel_ao_modelEAW9 12-17:H and model=1.3;\n",
      "define sel_ao_model6C6L 14-19:A and model=1.1;\n",
      "define sel_ap_modelEAW9 18-63:H and model=1.3;\n",
      "define sel_ap_model6C6L 35-80:A and model=1.1;\n",
      "define sel_aq_modelEAW9 64-78:H and model=1.3;\n",
      "define sel_aq_model6C6L 89-103:A and model=1.1;\n",
      "define sel_ar_modelEAW9 79-122:H and model=1.3;\n",
      "define sel_ar_model6C6L 105-148:A and model=1.1;\n",
      "define sel_as_modelEAW9 128-145:H and model=1.3;\n",
      "define sel_as_model6C6L 149-166:A and model=1.1;\n",
      "define sel_at_modelEAW9 146-151:H and model=1.3;\n",
      "define sel_at_model6C6L 169-174:A and model=1.1;\n",
      "define sel_au_modelEAW9 152-467:H and model=1.3;\n",
      "define sel_au_model6C6L 176-491:A and model=1.1;\n",
      "define sel_av_modelEAW9 487-502:H and model=1.3;\n",
      "define sel_av_model6C6L 492-507:A and model=1.1;\n",
      "define sel_aw_modelEAW9 510-658:H and model=1.3;\n",
      "define sel_aw_model6C6L 508-656:A and model=1.1;\n",
      "define sel_ax_modelEAW9 660-665:H and model=1.3;\n",
      "define sel_ax_model6C6L 657-662:A and model=1.1;\n",
      "define sel_ay_modelEAW9 666-673:H and model=1.3;\n",
      "define sel_ay_model6C6L 664-671:A and model=1.1;\n",
      "define sel_az_modelEAW9 678-708:H and model=1.3;\n",
      "define sel_az_model6C6L 672-702:A and model=1.1;\n",
      "define sel_ba_modelEAW9 710-825:H and model=1.3;\n",
      "define sel_ba_model6C6L 703-818:A and model=1.1;\n",
      "define sel_bb_modelEAW9 826-836:H and model=1.3;\n",
      "define sel_bb_model6C6L 826-836:A and model=1.1;\n",
      "origcoord = {1.3}.xyz.all;\n",
      "compare {1.3} {1.1} SUBSET {*.CA} ATOMS {sel_an_modelEAW9}{sel_an_model6C6L}, {sel_ao_modelEAW9}{sel_ao_model6C6L}, {sel_ap_modelEAW9}{sel_ap_model6C6L}, {sel_aq_modelEAW9}{sel_aq_model6C6L}, {sel_ar_modelEAW9}{sel_ar_model6C6L}, {sel_as_modelEAW9}{sel_as_model6C6L}, {sel_at_modelEAW9}{sel_at_model6C6L}, {sel_au_modelEAW9}{sel_au_model6C6L}, {sel_av_modelEAW9}{sel_av_model6C6L}, {sel_aw_modelEAW9}{sel_aw_model6C6L}, {sel_ax_modelEAW9}{sel_ax_model6C6L}, {sel_ay_modelEAW9}{sel_ay_model6C6L}, {sel_az_modelEAW9}{sel_az_model6C6L}, {sel_ba_modelEAW9}{sel_ba_model6C6L}, {sel_bb_modelEAW9}{sel_bb_model6C6L} ROTATE TRANSLATE -2.5;\n",
      "\n",
      "\n",
      "define sel_bc_modelSTV1 5-80:A and model=1.4;\n",
      "define sel_bc_model6C6L 5-80:A and model=1.1;\n",
      "define sel_bd_modelSTV1 81-83:A and model=1.4;\n",
      "define sel_bd_model6C6L 86-88:A and model=1.1;\n",
      "define sel_be_modelSTV1 88-102:A and model=1.4;\n",
      "define sel_be_model6C6L 89-103:A and model=1.1;\n",
      "define sel_bf_modelSTV1 114-158:A and model=1.4;\n",
      "define sel_bf_model6C6L 104-148:A and model=1.1;\n",
      "define sel_bg_modelSTV1 164-182:A and model=1.4;\n",
      "define sel_bg_model6C6L 149-167:A and model=1.1;\n",
      "define sel_bh_modelSTV1 186-200:A and model=1.4;\n",
      "define sel_bh_model6C6L 168-182:A and model=1.1;\n",
      "define sel_bi_modelSTV1 237-272:A and model=1.4;\n",
      "define sel_bi_model6C6L 183-218:A and model=1.1;\n",
      "define sel_bj_modelSTV1 273-315:A and model=1.4;\n",
      "define sel_bj_model6C6L 221-263:A and model=1.1;\n",
      "define sel_bk_modelSTV1 316-370:A and model=1.4;\n",
      "define sel_bk_model6C6L 267-321:A and model=1.1;\n",
      "define sel_bl_modelSTV1 371-703:A and model=1.4;\n",
      "define sel_bl_model6C6L 324-656:A and model=1.1;\n",
      "define sel_bm_modelSTV1 713-727:A and model=1.4;\n",
      "define sel_bm_model6C6L 657-671:A and model=1.1;\n",
      "define sel_bn_modelSTV1 732-762:A and model=1.4;\n",
      "define sel_bn_model6C6L 672-702:A and model=1.1;\n",
      "define sel_bo_modelSTV1 764-821:A and model=1.4;\n",
      "define sel_bo_model6C6L 703-760:A and model=1.1;\n",
      "define sel_bp_modelSTV1 825-883:A and model=1.4;\n",
      "define sel_bp_model6C6L 761-819:A and model=1.1;\n",
      "define sel_bq_modelSTV1 884-887:A and model=1.4;\n",
      "define sel_bq_model6C6L 826-829:A and model=1.1;\n",
      "origcoord = {1.4}.xyz.all;\n",
      "compare {1.4} {1.1} SUBSET {*.CA} ATOMS {sel_bc_modelSTV1}{sel_bc_model6C6L}, {sel_bd_modelSTV1}{sel_bd_model6C6L}, {sel_be_modelSTV1}{sel_be_model6C6L}, {sel_bf_modelSTV1}{sel_bf_model6C6L}, {sel_bg_modelSTV1}{sel_bg_model6C6L}, {sel_bh_modelSTV1}{sel_bh_model6C6L}, {sel_bi_modelSTV1}{sel_bi_model6C6L}, {sel_bj_modelSTV1}{sel_bj_model6C6L}, {sel_bk_modelSTV1}{sel_bk_model6C6L}, {sel_bl_modelSTV1}{sel_bl_model6C6L}, {sel_bm_modelSTV1}{sel_bm_model6C6L}, {sel_bn_modelSTV1}{sel_bn_model6C6L}, {sel_bo_modelSTV1}{sel_bo_model6C6L}, {sel_bp_modelSTV1}{sel_bp_model6C6L}, {sel_bq_modelSTV1}{sel_bq_model6C6L} ROTATE TRANSLATE -2.5;\n",
      "\n",
      "\n",
      "\n"
     ]
    }
   ],
   "source": [
    "# further prep for Jmol generating commands\n",
    "ref_id_chain = 'A' # for VPH1, from http://www.rcsb.org/structure/6C6L\n",
    "# for `query_chains_by_id`, use ids from the MSA file as keys and the\n",
    "# chain designations from the PDB files as the values\n",
    "query_chains_by_id = {'BAH13127.1':'G',\n",
    "                      'EAW98433.1':'H',\n",
    "                      'STV1':'A'}\n",
    "\n",
    "\n",
    "# for `structures_by_id`, use ids from the MSA file as keys and \n",
    "# the ids in the PDB files (or any text without dashes that makes sense) as values\n",
    "ref_chain_structure = \"6C6L\"\n",
    "structures_by_id = {'BAH13127.1':'BAH1',\n",
    "                      'EAW98433.1':'EAW9',\n",
    "                      'STV1':'STV1'}\n",
    "\n",
    "# for `models_by_id`, use ids from the MSA file as keys and the\n",
    "# model number it corresponds to in the merged multi-model as the value\n",
    "ref_model_num = 1\n",
    "models_by_id = {'BAH13127.1':2,\n",
    "                      'EAW98433.1':3,\n",
    "                      'STV1':4}\n",
    "\n",
    "from itertools import product\n",
    "from string import ascii_lowercase\n",
    "arbitrary_ids = (''.join(i) for i in product(ascii_lowercase, repeat = 2)) # see comment at https://stackoverflow.com/a/7074066/8508004\n",
    "\n",
    "\n",
    "# Convert each dataframe to something similar to `ranges_o_residues_resolved_per_chain_pairs` from the notebook \n",
    "# `Using Biopython PDB module to list resolved residues and construct fit commands`\n",
    "# Example of `ranges_o_residues_resolved_per_chain_pairs` that notebook to base it on:\n",
    "# `{('A', 'F'): ['4:121', '129:158'], ('B', 'G'): ['14:104', '125:140']}`\n",
    "# However, those were in same chain and so more complex here in that regard!\n",
    "# Since need residue positions for both chains it will be more like below for\n",
    "# one reference-query chain pair and for ranges that jmol uses:\n",
    "# `{('A', 'F'): (('4-121', 'x-xxx' ),('129-158', 'xxx-xxx'))}`\n",
    "# And since also will want these to be one for each pairing, I can store each dictionary\n",
    "# in a dictionary with the key of the query as id for all, like so (only two shown for example:\n",
    "# `{'BAH13127.1': {('A', 'G'): [('4-121', 'x-xxx' ),('129-158', 'xxx-xxx')]}, 'STV1':{('A', 'A'): [('14-104', 'x-xxx'),('125-140', 'xxx-xxx')]}`  \n",
    "paired_residue_sets_by_id = {}\n",
    "for id_,df in dfs_by_id.items():\n",
    "    paired_residue_sets = {}\n",
    "    chain_pair = (ref_id_chain,query_chains_by_id[id_])\n",
    "    #iterate through the rows of the dataframe making list of the pairings\n",
    "    pairings = []\n",
    "    for row in df.itertuples(index=False):\n",
    "        pairings.append((f'{row[0]}-{row[1]}',f'{row[2]}-{row[3]}'))\n",
    "    paired_residue_sets[chain_pair] = pairings\n",
    "    paired_residue_sets_by_id[id_] = paired_residue_sets\n",
    "\n",
    "'''\n",
    "GOAL something like this for each: (based on 'Compare LepA and Ef-G' jmolLink script at \n",
    "http://proteopedia.org/wiki/index.php?title=Escherichia_coli_LepA%2C_the_ribosomal_back_translocase&oldid=2838676 ):\n",
    "\n",
    "    define domain1model1 94-139:a and model=1.1;\n",
    "    define domain1model2 100-143:g and model=1.2;\n",
    "    define domain2model1 236-273:a and model=1.1;\n",
    "    define domain2model2 354-388:g and model=1.2;\n",
    "    define domain3model1 324-342:a and model=1.1;\n",
    "    define domain3model2 438-470:g and model=1.2;\n",
    "    define domain5model1 432-438:a and model=1.1;\n",
    "    define domain5model2 634-641:g and model=1.2;\n",
    "    origcoord = {1.1}.xyz.all;\n",
    "    compare {1.1} {1.2} ATOMS {domain1model1}{domain1model2},{domain2model1}{domain2model2},{domain3model1}{domain3model2},{domain5model1}{domain5model2} ROTATE TRANSLATE -2.5; \n",
    "'''\n",
    "\n",
    "\n",
    "# form commands\n",
    "formatted_commands = \"\"\n",
    "for id_,paired_residue_sets in paired_residue_sets_by_id.items():\n",
    "    # Step through the paired ranges defining selections based on them.\n",
    "    # Collect the names of those selections in `selection_pair_names` because once defined they\n",
    "    # need to called later in the compare command in 2 item sets, one atom set for each chain.\n",
    "    selection_pair_names = [] #to collect two item tuple elements, each item being arbitrarily name of an atom pairing\n",
    "    for chain_pair, paired_list in paired_residue_sets.items():\n",
    "        ref_chain,query_chain = chain_pair\n",
    "        for pos_pair in paired_list:\n",
    "            selection_name_pair = []\n",
    "            sel_id = next(arbitrary_ids)\n",
    "            query_sel_nom = f\"sel_{sel_id}_model{structures_by_id[id_]}\"\n",
    "            formatted_commands += f\"define {query_sel_nom} {pos_pair[1]}:{query_chain} and model=1.{models_by_id[id_]};\\n\"\n",
    "            ref_sel_nom = f\"sel_{sel_id}_model{ref_chain_structure}\"\n",
    "            formatted_commands += f\"define {ref_sel_nom} {pos_pair[0]}:{ref_chain} and model=1.{ref_model_num};\\n\"\n",
    "            selection_pair_names.append((query_sel_nom,ref_sel_nom))\n",
    "    #print(selection_pair_names)\n",
    "    pairs_of_atom_sets = \", \".join(f\"{{{names[0]}}}{{{names[1]}}}\" for names in selection_pair_names)\n",
    "    #print(pairs_of_atom_sets)\n",
    "    formatted_commands += f\"origcoord = {{1.{models_by_id[id_]}}}.xyz.all;\\n\"\n",
    "    formatted_commands += f\"compare {{1.{models_by_id[id_]}}} {{1.{ref_model_num}}} SUBSET {{*.CA}} ATOMS {pairs_of_atom_sets} ROTATE TRANSLATE -2.5;\\n\"\n",
    "    formatted_commands += \"\\n\\n\"\n",
    "        \n",
    "# residues_resolved_per_chain_b\n",
    "#shared_positions_per_chain_pairs\n",
    "#ranges_o_residues_resolved_per_chain_pairs\n",
    "print(\"\\n\\n\")\n",
    "print (\"FORMATTED JMOL/JSMOL COMMANDS:\")\n",
    "print(\" \")\n",
    "print(formatted_commands)"
   ]
  },
  {
   "cell_type": "markdown",
   "metadata": {},
   "source": [
    "Jmol commands all in a single file:"
   ]
  },
  {
   "cell_type": "code",
   "execution_count": 23,
   "metadata": {},
   "outputs": [
    {
     "name": "stdout",
     "output_type": "stream",
     "text": [
      "Writing 'formatted_commands' (str) to file 'all_jmol_commands.txt'.\n"
     ]
    }
   ],
   "source": [
    "%store formatted_commands >all_jmol_commands.txt"
   ]
  },
  {
   "cell_type": "markdown",
   "metadata": {},
   "source": [
    "Showing that worked:"
   ]
  },
  {
   "cell_type": "code",
   "execution_count": 24,
   "metadata": {},
   "outputs": [
    {
     "name": "stdout",
     "output_type": "stream",
     "text": [
      "define sel_aa_modelBAH1 5-80:G and model=1.2;\n",
      "define sel_aa_model6C6L 5-80:A and model=1.1;\n",
      "define sel_ab_modelBAH1 81-95:G and model=1.2;\n",
      "define sel_ab_model6C6L 89-103:A and model=1.1;\n",
      "define sel_ac_modelBAH1 96-106:G and model=1.2;\n",
      "define sel_ac_model6C6L 126-136:A and model=1.1;\n",
      "define sel_ad_modelBAH1 107-113:G and model=1.2;\n",
      "define sel_ad_model6C6L 160-166:A and model=1.1;\n",
      "define sel_ae_modelBAH1 114-393:G and model=1.2;\n",
      "define sel_ae_model6C6L 169-448:A and model=1.1;\n",
      " \n",
      "define sel_bo_modelSTV1 764-821:A and model=1.4;\n",
      "define sel_bo_model6C6L 703-760:A and model=1.1;\n",
      "define sel_bp_modelSTV1 825-883:A and model=1.4;\n",
      "define sel_bp_model6C6L 761-819:A and model=1.1;\n",
      "define sel_bq_modelSTV1 884-887:A and model=1.4;\n",
      "define sel_bq_model6C6L 826-829:A and model=1.1;\n",
      "origcoord = {1.4}.xyz.all;\n",
      "compare {1.4} {1.1} SUBSET {*.CA} ATOMS {sel_bc_modelSTV1}{sel_bc_model6C6L}, {sel_bd_modelSTV1}{sel_bd_model6C6L}, {sel_be_modelSTV1}{sel_be_model6C6L}, {sel_bf_modelSTV1}{sel_bf_model6C6L}, {sel_bg_modelSTV1}{sel_bg_model6C6L}, {sel_bh_modelSTV1}{sel_bh_model6C6L}, {sel_bi_modelSTV1}{sel_bi_model6C6L}, {sel_bj_modelSTV1}{sel_bj_model6C6L}, {sel_bk_modelSTV1}{sel_bk_model6C6L}, {sel_bl_modelSTV1}{sel_bl_model6C6L}, {sel_bm_modelSTV1}{sel_bm_model6C6L}, {sel_bn_modelSTV1}{sel_bn_model6C6L}, {sel_bo_modelSTV1}{sel_bo_model6C6L}, {sel_bp_modelSTV1}{sel_bp_model6C6L}, {sel_bq_modelSTV1}{sel_bq_model6C6L} ROTATE TRANSLATE -2.5;\n",
      "\n",
      "\n"
     ]
    }
   ],
   "source": [
    "!head all_jmol_commands.txt\n",
    "!echo \" \"\n",
    "!tail all_jmol_commands.txt"
   ]
  },
  {
   "cell_type": "markdown",
   "metadata": {},
   "source": [
    "Download the file of commands to your local drive if you want it. Or following the Jmol example, edit the notebook to save the Pymol commands and download those to your local drive.\\n\n",
    "If using Jmol/JSmol:\n",
    "\n",
    "- You can upload the structure before fit to Proteopedia and then open it in a scene and run commands in the `Console` that you can select from the Jmol pop-menu you can get by right-clicking in the structure window.\n",
    "\n",
    "- After docking via the compare commands, you can save the updated multi-model PDB file with the current coordinates using a command line `write COORDS PDB \"superposed.pdb\"`. It should trigger to let you save it to your local drive from the browser page showing the structure. \n",
    "\n",
    "Enjoy."
   ]
  },
  {
   "cell_type": "markdown",
   "metadata": {},
   "source": [
    "------"
   ]
  }
 ],
 "metadata": {
  "kernelspec": {
   "display_name": "Python 3",
   "language": "python",
   "name": "python3"
  },
  "language_info": {
   "codemirror_mode": {
    "name": "ipython",
    "version": 3
   },
   "file_extension": ".py",
   "mimetype": "text/x-python",
   "name": "python",
   "nbconvert_exporter": "python",
   "pygments_lexer": "ipython3",
   "version": "3.7.10"
  }
 },
 "nbformat": 4,
 "nbformat_minor": 2
}
