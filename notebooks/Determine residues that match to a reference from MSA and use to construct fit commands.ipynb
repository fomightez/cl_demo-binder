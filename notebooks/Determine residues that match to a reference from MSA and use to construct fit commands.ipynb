{
 "cells": [
  {
   "cell_type": "markdown",
   "metadata": {},
   "source": [
    "# Determine residues that match to a reference from MSA and use to construct fit commands\n",
    "\n",
    "Often one wants to superimpose (a.k.a., overlay/superpse/fit/dock) similar macromolecular structures with one another.  You always need to know matching 'spine' or 'backbone' atoms to get Pymol or Jmols fit/compare commands to work. With several structures, some of which can be just fragments, it can be tedious, and sometimes error-pronem to do the determination of matching atoms by hand. This notebook shows how to determine what is there and builds up in steps to generating the fit commands for the same chains shared by different structures.\n",
    "\n",
    "Because often times you be superimposing a theoretical model on a known structure, or want to use a specific structure as the example structure, you'll often have a sequence in your multiple sequence alignment that corresponds to a 'reference structure'. The 'reference id' used here refers to the identifier of that sequence.\n",
    "\n",
    "The fit commands are intended to be used in Pymol and Jmol, with separate sections for each one.\n",
    "\n",
    "The process relies initially on use of a script entitled `MSA_to_corresponding_residue_numbers.py`. Because that lays the groundwork for the process of creating commands from an alignment that can be used on the molecular structure visualization, and I didn't have a demo of that script yet elsewhere, I illustrate use of that script first. \n",
    "\n",
    "Technically, that script is a 'sequence analysis' script; however, it, like `categorize_residues_based_on_conservation_relative_consensus_line.py` demonstrated in another notebook here, is very useful for bridging sequence analysis to molecular structure analysis as I hope the later part of this notebook illustrates.\n",
    "\n",
    "\n",
    "----\n",
    " \n",
    "<div class=\"alert alert-block alert-warning\">\n",
    "<p>If you haven't used one of these notebooks before, they're basically web pages in which you can write, edit, and run live code. They're meant to encourage experimentation, so don't feel nervous. Just try running a few cells and see what happens!.</p>\n",
    "\n",
    "<p>\n",
    "    Some tips:\n",
    "    <ul>\n",
    "        <li>Code cells have boxes around them. When you hover over them a <i class=\"fa-step-forward fa\"></i> icon appears.</li>\n",
    "        <li>To run a code cell either click the <i class=\"fa-step-forward fa\"></i> icon, or click on the cell and then hit <b>Shift+Enter</b>. The <b>Shift+Enter</b> combo will also move you to the next cell, so it's a quick way to work through the notebook.</li>\n",
    "        <li>While a cell is running a <b>*</b> appears in the square brackets next to the cell. Once the cell has finished running the asterisk will be replaced with a number.</li>\n",
    "        <li>In most cases you'll want to start from the top of notebook and work your way down running each cell in turn. Later cells might depend on the results of earlier ones.</li>\n",
    "        <li>To edit a code cell, just click on it and type stuff. Remember to run the cell once you've finished editing.</li>\n",
    "    </ul>\n",
    "</p>\n",
    "</div>"
   ]
  },
  {
   "cell_type": "markdown",
   "metadata": {},
   "source": [
    "----\n",
    "\n",
    "### Preparation\n",
    "\n",
    "The next cell will retrieve the necessary scripts."
   ]
  },
  {
   "cell_type": "code",
   "execution_count": 3,
   "metadata": {},
   "outputs": [
    {
     "name": "stdout",
     "output_type": "stream",
     "text": [
      "  % Total    % Received % Xferd  Average Speed   Time    Time     Time  Current\n",
      "                                 Dload  Upload   Total   Spent    Left  Speed\n",
      "100 29699  100 29699    0     0   169k      0 --:--:-- --:--:-- --:--:--  170k\n",
      "  % Total    % Received % Xferd  Average Speed   Time    Time     Time  Current\n",
      "                                 Dload  Upload   Total   Spent    Left  Speed\n",
      "100 12393  100 12393    0     0   104k      0 --:--:-- --:--:-- --:--:--  104k\n"
     ]
    }
   ],
   "source": [
    "#get scripts to use here\n",
    "import os\n",
    "if not os.path.isfile(\"MSA_to_corresponding_residue_numbers.py\"):\n",
    "    !curl -OL https://raw.githubusercontent.com/fomightez/sequencework/master/alignment-utilities/MSA_to_corresponding_residue_numbers.py\n",
    "    !curl -OL https://raw.githubusercontent.com/fomightez/sequencework/master/alignment-utilities/check_seq_frag_in_MSAclustal_intact_viaFASTA.py"
   ]
  },
  {
   "cell_type": "markdown",
   "metadata": {},
   "source": [
    "An alignment file is needed as input. The next cell will handle retrieving one.\n",
    "\n",
    "Details of the retrieved alignment:\n",
    "\n",
    "Fasta-formattted sequences were downloaded from under 'Sequence' at [here for Stv1p](https://www.yeastgenome.org/locus/S000004658/protein) and [here for Vph1p](https://www.yeastgenome.org/locus/S000005796/protein). These were then combined into one file, the asterisks at the end of each sequence removed (in order to avoid the error `*** WARNING ***  Invalid character '*' in FASTA sequence data, ignored`), combined with two human sequences, and submitted for alignment by [MUSCLE here](https://www.ebi.ac.uk/Tools/msa/muscle/). Default settings were used. The alignment was produced in Clustal format with consensus symbols line along the bottom.\n",
    "\n",
    "Furthermore, for purposes of illustration here, **the residues that didn't pair with the start of all where left off. MEANING THAT SEVERAL OF THESE SEQUENCES DON'T REPRESENT THE FULL PROTEIN SEQUENCE.**"
   ]
  },
  {
   "cell_type": "code",
   "execution_count": 5,
   "metadata": {},
   "outputs": [
    {
     "name": "stdout",
     "output_type": "stream",
     "text": [
      "  % Total    % Received % Xferd  Average Speed   Time    Time     Time  Current\n",
      "                                 Dload  Upload   Total   Spent    Left  Speed\n",
      "100  6139  100  6139    0     0  30695      0 --:--:-- --:--:-- --:--:-- 30542\n",
      "  % Total    % Received % Xferd  Average Speed   Time    Time     Time  Current\n",
      "                                 Dload  Upload   Total   Spent    Left  Speed\n",
      "100  3633  100  3633    0     0  20183      0 --:--:-- --:--:-- --:--:-- 20296\n"
     ]
    }
   ],
   "source": [
    "# Get an alignment file (actually two because going to show with all residues first)\n",
    "if not os.path.isfile(\"alignment.clw\"):\n",
    "    !curl -o alignment.clw https://gist.githubusercontent.com/fomightez/f46b0624f1d8e3abb6ff908fc447e63b/raw/6abce38569475c68fa32182c4e0eaadbb8b0cf3b/uw_yeast_plus_two_human_homologs.clw\n",
    "    !curl -o alignment_with_all_residues.clw https://gist.githubusercontent.com/fomightez/f46b0624f1d8e3abb6ff908fc447e63b/raw/6abce38569475c68fa32182c4e0eaadbb8b0cf3b/Stv1p_Vph1p_muscle_alignment.clw"
   ]
  },
  {
   "cell_type": "code",
   "execution_count": 3,
   "metadata": {},
   "outputs": [
    {
     "name": "stdout",
     "output_type": "stream",
     "text": [
      "CLUSTAL multiple sequence alignment by MUSCLE (3.8)\n",
      "\n",
      "\n",
      "BAH13127.1      FRSEEMTLA--QLFLQSEAAYCCVSELGELGKVQFRDLNPDVNVFQRKFVNEVRRCEEMD\n",
      "EAW98433.1      MTATEMRCVGRSFYIHG---------------LSIIKLNQNVSSFQRKFVGEVKRCEELE\n",
      "VPH1            FRSAEMALV--QFYIPQEISRDSAYTLGQLGLVQFRDLNSKVRAFQRTFVNEIRRLDNVE\n",
      "STV1            FRSADMTYV--QLYIPLEVIREVTFLLGKMSVFMVMDLNKDLTAFQRGYVNQLRRFDEVE\n",
      "                : : :*  .  .:::                 . . .** .:  *** :*.::.* ::::\n",
      "\n",
      "BAH13127.1      RKLRFVEKEIRKANIPIM------------DTGENPEVPFPRDMI---------------\n"
     ]
    }
   ],
   "source": [
    "#verify have alignment file\n",
    "!head alignment.clw"
   ]
  },
  {
   "cell_type": "markdown",
   "metadata": {},
   "source": [
    "Note that the sequence of all but one don't begin with methionine. for purposes of illustration here, **the residues that didn't pair with the start of all where left off. MEANING THAT SEVERAL OF THESE SEQUENCES DON'T REPRESENT THE FULL PROTEIN SEQUENCE.**\n",
    "\n",
    "You'll want to upload your own alignments to the active Jupyter session in the typical way; if you can click the Jupyter logo in the upper right you'll be taken to a dashboard with a file handing user interface. (Or once it is retrieved, open and replace the contents of `alignment.clw` with your own alignment.)\n",
    "\n",
    "Note, because white space is critical for the consensus symbols line, it is  best to save the alignment file directly from EMBL-EBI and use that file as input for this script, rather than doing copy-paste from the site. For example, via copy-paste it may be easy to miss the spaces on the last line of the consensus symbols line in the case of two sequences that mismatch for the span of the entire last row of an alignment."
   ]
  },
  {
   "cell_type": "markdown",
   "metadata": {},
   "source": [
    "## Check sequence of edited alignment\n",
    "\n",
    "In the process of editing a multiple sequence file or collecting portions to use to align, it is easy to erroneously delete sequence. This section will demonstrate using `check_seq_frag_in_MSAclustal_intact_viaFASTA.py` to make sure nothing in the fragment used here as been deleted, and verify the edited sequene in the alignment file is valid. It checks against a user-provided FASTA. It is suggested this comes directly from an 'official' source. It is related to **a similar, yet different script** `check_seq_in_MSAclustal_consistent_with_FASTA.py` **that makes sure nothing AT ALL is different/deleted relative the FASTA sequence**. `check_seq_frag_in_MSAclustal_intact_viaFASTA.py` to be used here is not concerned with either the start or end of the sequence. \n",
    "\n",
    "The reason that `check_seq_frag_in_MSAclustal_intact_viaFASTA.py` is used here is because part of the sequences in the MSA to be used here have been deleted and in order for the `MSA_to_corresponding_residue_numbers.py` script to yield useable data it is important that the fragment it is aligned to is intact or the numbers won't match the reference structure.\n",
    "\n",
    "For the FASTA file, VPH1 and STV1 came from the [Saccharomyces Genome Database (SGD)](https://www.yeastgenome.org/) page for each respective encoding gene. From the pages for a particular gene, you can surf to the 'Protein' tab (example: [STV1 protein tab](https://www.yeastgenome.org/locus/S000004658/protein)) and then under 'Sequence' about half way down the page , click on the button 'Download Sequence (.fsa)' to get a FASTA file for the protein corresponding to that gene.\n",
    "\n",
    "Now to use that FASTA check if the fragment present in MSA is in intact?"
   ]
  },
  {
   "cell_type": "code",
   "execution_count": 4,
   "metadata": {},
   "outputs": [
    {
     "name": "stdout",
     "output_type": "stream",
     "text": [
      "  File \"check_seq_frag_in_MSAclustal_intact_viaFASTA.py\", line 256\n",
      "    if seq infasta_seq:\n",
      "                     ^\n",
      "SyntaxError: invalid syntax\n"
     ]
    }
   ],
   "source": [
    "!python check_seq_frag_in_MSAclustal_intact_viaFASTA.py alignment.clw VPH1"
   ]
  },
  {
   "cell_type": "markdown",
   "metadata": {},
   "source": [
    "Yay! Sequence of one of the sequences in the manually-edited multiple sequence alignment has been confirmed against the official recordv verifying no deletions were introduced into the fragment during editing. It is best the process is repeated with any others as well.\n",
    "\n",
    "Now that we know that the fragment is intact (and could determine for others) we can continue on to next section where the multiple sequence alignment is used to collect residues that correspond to the reference structure."
   ]
  },
  {
   "cell_type": "markdown",
   "metadata": {},
   "source": [
    "## Use residue script via command line"
   ]
  },
  {
   "cell_type": "markdown",
   "metadata": {},
   "source": [
    "The script takes...\n",
    "\n",
    "#### Display `USAGE`"
   ]
  },
  {
   "cell_type": "code",
   "execution_count": 5,
   "metadata": {},
   "outputs": [
    {
     "name": "stdout",
     "output_type": "stream",
     "text": [
      "usage: MSA_to_corresponding_residue_numbers.py [-h]\n",
      "                                               ALIGNMENT_FILE REF_ID\n",
      "                                               [N [N ...]]\n",
      "\n",
      "MSA_to_corresponding_residue_numbers.py takes akes a multiple sequence\n",
      "alignment in Clustal format and determines the corresponding residue numbers\n",
      "for aligned residues for a specified reference sequence in the alignment and\n",
      "the pairing of it with every other aligned sequence in the multiple sequence\n",
      "alignment. The reference sequence is specified by the identifier at the start\n",
      "of each line in the sequence blocks. **** Script by Wayne Decatur (fomightez @\n",
      "github) ***\n",
      "\n",
      "positional arguments:\n",
      "  ALIGNMENT_FILE  Name of file of alignment text file (CLUSTAL format).\n",
      "  REF_ID          Identifier that matches the sequence in the MSA to use as a\n",
      "                  reference to get matches to other sequences. Presumably,\n",
      "                  this sequence has a corresponding structural model\n",
      "                  available.\n",
      "  N               OPTIONAL IN MANY CASES: Provide an integer specifying the\n",
      "                  start position for each sequence in the provided alignment,\n",
      "                  if at least one of them isn't beginning at the first residue\n",
      "                  in the sequence. Seperate each integer with a space. IF ALL\n",
      "                  BEGIN AT ONE, NO REASON TO INCLUDE SUCH A LIST.\n",
      "\n",
      "optional arguments:\n",
      "  -h, --help      show this help message and exit\n"
     ]
    }
   ],
   "source": [
    "!python MSA_to_corresponding_residue_numbers.py -h"
   ]
  },
  {
   "cell_type": "markdown",
   "metadata": {},
   "source": [
    "#### Command line use example #1: basic command (tabular text files output)\n",
    "\n",
    "The minimum the script needs to analyze an alignment is to specify the alignment file name followed by the designation of the sequence to use as the reference."
   ]
  },
  {
   "cell_type": "code",
   "execution_count": 6,
   "metadata": {},
   "outputs": [
    {
     "name": "stderr",
     "output_type": "stream",
     "text": [
      "\n",
      "**NOTE: gap indicator in this script is currently set to '-'. If\n",
      "that does not match what provided alignment uses to indicate gaps,\n",
      "please change the setting within the script code under\n",
      "'USER ADJUSTABLE VALUES' around line 130 (give or take a few).**\n",
      "Alignment file read...VPH1 reference sequence collected from alignment...query compared...\n",
      "made match pairings into intervals of start and end where possible...\n",
      "\n",
      "made dataframe of matched start and ends...DONE.\n",
      "\n",
      "File 'VPH1_residues_matched_to_STV1.tsv' saved.\n"
     ]
    }
   ],
   "source": [
    "%run MSA_to_corresponding_residue_numbers.py alignment_with_all_residues.clw VPH1 "
   ]
  },
  {
   "cell_type": "markdown",
   "metadata": {},
   "source": [
    "See the result:"
   ]
  },
  {
   "cell_type": "code",
   "execution_count": 7,
   "metadata": {},
   "outputs": [
    {
     "name": "stdout",
     "output_type": "stream",
     "text": [
      "VPH1_start\tVPH1_end\tSTV1_start\tSTV1_end\n",
      "2\t84\t1\t83\n",
      "90\t92\t84\t86\n",
      "93\t107\t91\t105\n",
      "108\t152\t117\t161\n",
      "153\t171\t167\t185\n",
      "172\t186\t189\t203\n",
      "187\t222\t240\t275\n",
      "225\t267\t276\t318\n",
      "271\t325\t319\t373\n"
     ]
    }
   ],
   "source": [
    "!head VPH1_residues_matched_to_STV1.tsv"
   ]
  },
  {
   "cell_type": "markdown",
   "metadata": {},
   "source": [
    "#### Command line use example #2: designate the starting residue shown in the alignment"
   ]
  },
  {
   "cell_type": "markdown",
   "metadata": {},
   "source": [
    "However, it many cases one or some of the sequences won't have the initial or perhaps the end sequences. If the missing residues are at the beginning, an offset value needs to be provided **If at least one sequence in the multiple sequence alignment doesn't begin with residue number 1 and you want to provide an offset value, a value for each sequence must be provided. Simply put `1` if it startes with the first residue.**"
   ]
  },
  {
   "cell_type": "code",
   "execution_count": 8,
   "metadata": {},
   "outputs": [
    {
     "name": "stderr",
     "output_type": "stream",
     "text": [
      "\n",
      "**NOTE: gap indicator in this script is currently set to '-'. If\n",
      "that does not match what provided alignment uses to indicate gaps,\n",
      "please change the setting within the script code under\n",
      "'USER ADJUSTABLE VALUES' around line 130 (give or take a few).**\n",
      "Alignment file read...VPH1 reference sequence collected from alignment...query compared...query compared...query compared...\n",
      "made match pairings into intervals of start and end where possible...\n",
      "\n",
      "made dataframes of matched start and ends...DONE.\n",
      "\n",
      "File 'VPH1_residues_matched_to_BAH13127.1.tsv' saved.\n",
      "File 'VPH1_residues_matched_to_EAW98433.1.tsv' saved.\n",
      "File 'VPH1_residues_matched_to_STV1.tsv' saved.\n"
     ]
    }
   ],
   "source": [
    "%run MSA_to_corresponding_residue_numbers.py alignment.clw VPH1 5 1 5 5"
   ]
  },
  {
   "cell_type": "markdown",
   "metadata": {},
   "source": [
    "Note if you are working in Python subsequently, you should check out the next section where importing the main function of the script into a Jupyter notebook or IPython session and passing dataframes back into a Jupyter notebook directly are illustrated. This option offers the most easy with using the data in downstream steps.\n"
   ]
  },
  {
   "cell_type": "markdown",
   "metadata": {},
   "source": [
    "## Use residue matching function via import"
   ]
  },
  {
   "cell_type": "markdown",
   "metadata": {},
   "source": [
    "In addition to being able to be run from the command line, the main function imported into a Jupyter notebook (or IPython session) and it can pass back dataframe(s) with the results. This section illustrates that.\n",
    "\n",
    "First you import the function into the notebook or IPython environment."
   ]
  },
  {
   "cell_type": "code",
   "execution_count": 9,
   "metadata": {},
   "outputs": [],
   "source": [
    "from MSA_to_corresponding_residue_numbers import MSA_to_corresponding_residue_numbers"
   ]
  },
  {
   "cell_type": "markdown",
   "metadata": {},
   "source": [
    "That command looks a bit redundant because the first 'from' is addressing the name of the script. The convention / syntax is not to include the extension though. The second part is specifying to import the function `MSA_to_corresponding_residue_numbers()`.\n",
    "\n",
    "Now that `MSA_to_corresponding_residue_numbers()` is imported, it can be used. As with using the script fom the command line, the function has a number of options, including a way to provide a list of residues in the case one or more sequences in the multiple sequence alignment don't begin with residue number one."
   ]
  },
  {
   "cell_type": "markdown",
   "metadata": {},
   "source": [
    "#### function use example #1: basic command\n",
    "\n"
   ]
  },
  {
   "cell_type": "code",
   "execution_count": 11,
   "metadata": {},
   "outputs": [
    {
     "name": "stderr",
     "output_type": "stream",
     "text": [
      "\n",
      "**NOTE: gap indicator in this script is currently set to '-'. If\n",
      "that does not match what provided alignment uses to indicate gaps,\n",
      "please change the setting within the script code under\n",
      "'USER ADJUSTABLE VALUES' around line 130 (give or take a few).**\n",
      "Alignment file read...VPH1 reference sequence collected from alignment...query compared...\n",
      "made match pairings into intervals of start and end where possible...\n",
      "\n",
      "made dataframe of matched start and ends...DONE.\n",
      "\n",
      "File 'VPH1_residues_matched_to_STV1.tsv' saved.\n"
     ]
    }
   ],
   "source": [
    "MSA_to_corresponding_residue_numbers(\"alignment_with_all_residues.clw\",\"VPH1\")"
   ]
  },
  {
   "cell_type": "code",
   "execution_count": 12,
   "metadata": {},
   "outputs": [
    {
     "name": "stdout",
     "output_type": "stream",
     "text": [
      "VPH1_start\tVPH1_end\tSTV1_start\tSTV1_end\n",
      "2\t84\t1\t83\n",
      "90\t92\t84\t86\n",
      "93\t107\t91\t105\n",
      "108\t152\t117\t161\n",
      "153\t171\t167\t185\n",
      "172\t186\t189\t203\n",
      "187\t222\t240\t275\n",
      "225\t267\t276\t318\n",
      "271\t325\t319\t373\n"
     ]
    }
   ],
   "source": [
    "!head VPH1_residues_matched_to_STV1.tsv"
   ]
  },
  {
   "cell_type": "markdown",
   "metadata": {},
   "source": [
    "### function use example #2: supply start residues\n",
    "\n",
    "As with the command line version, if any sequence doesn't begin with residue number one a list of the first residue positions for all sequences must be supplied. When calling with the function use `supplied_start_pos` argument to supply a list."
   ]
  },
  {
   "cell_type": "code",
   "execution_count": 13,
   "metadata": {},
   "outputs": [
    {
     "name": "stderr",
     "output_type": "stream",
     "text": [
      "\n",
      "**NOTE: gap indicator in this script is currently set to '-'. If\n",
      "that does not match what provided alignment uses to indicate gaps,\n",
      "please change the setting within the script code under\n",
      "'USER ADJUSTABLE VALUES' around line 130 (give or take a few).**\n",
      "Alignment file read...VPH1 reference sequence collected from alignment...query compared...query compared...query compared...\n",
      "made match pairings into intervals of start and end where possible...\n",
      "\n",
      "made dataframes of matched start and ends...DONE.\n",
      "\n",
      "File 'VPH1_residues_matched_to_BAH13127.1.tsv' saved.\n",
      "File 'VPH1_residues_matched_to_EAW98433.1.tsv' saved.\n",
      "File 'VPH1_residues_matched_to_STV1.tsv' saved.\n"
     ]
    }
   ],
   "source": [
    "MSA_to_corresponding_residue_numbers(\"alignment.clw\",\"VPH1\", supplied_start_pos = [5,1,5,5])"
   ]
  },
  {
   "cell_type": "code",
   "execution_count": 14,
   "metadata": {},
   "outputs": [
    {
     "name": "stdout",
     "output_type": "stream",
     "text": [
      "VPH1_start\tVPH1_end\tSTV1_start\tSTV1_end\n",
      "5\t80\t5\t80\n",
      "86\t88\t81\t83\n",
      "89\t103\t88\t102\n",
      "104\t148\t114\t158\n",
      "149\t167\t164\t182\n",
      "168\t182\t186\t200\n",
      "183\t218\t237\t272\n",
      "221\t263\t273\t315\n",
      "267\t321\t316\t370\n"
     ]
    }
   ],
   "source": [
    "!head VPH1_residues_matched_to_STV1.tsv"
   ]
  },
  {
   "cell_type": "markdown",
   "metadata": {},
   "source": [
    "#### function use example #3: return dataframes\n",
    "\n",
    "For those wishing to utilize this data in Python, a dictionary of dataframes can be returned by setting `return_dfs` to true. The identifier of the query sequence in the match will by the key. The reference idenitifier is returned as well so that it will be a variable ready for subsequent use.\n",
    "\n",
    "The next cell demonstrates getting the dataframes in as active objects in the notebook environment."
   ]
  },
  {
   "cell_type": "code",
   "execution_count": 20,
   "metadata": {},
   "outputs": [
    {
     "name": "stdout",
     "output_type": "stream",
     "text": [
      "BAH13127.1\n"
     ]
    },
    {
     "name": "stderr",
     "output_type": "stream",
     "text": [
      "\n",
      "**NOTE: gap indicator in this script is currently set to '-'. If\n",
      "that does not match what provided alignment uses to indicate gaps,\n",
      "please change the setting within the script code under\n",
      "'USER ADJUSTABLE VALUES' around line 130 (give or take a few).**\n",
      "Alignment file read...VPH1 reference sequence collected from alignment...query compared...query compared...query compared...\n",
      "made match pairings into intervals of start and end where possible...\n",
      "\n",
      "made dataframes of matched start and ends...DONE.\n"
     ]
    },
    {
     "data": {
      "text/html": [
       "<div>\n",
       "<style scoped>\n",
       "    .dataframe tbody tr th:only-of-type {\n",
       "        vertical-align: middle;\n",
       "    }\n",
       "\n",
       "    .dataframe tbody tr th {\n",
       "        vertical-align: top;\n",
       "    }\n",
       "\n",
       "    .dataframe thead th {\n",
       "        text-align: right;\n",
       "    }\n",
       "</style>\n",
       "<table border=\"1\" class=\"dataframe\">\n",
       "  <thead>\n",
       "    <tr style=\"text-align: right;\">\n",
       "      <th></th>\n",
       "      <th>VPH1_start</th>\n",
       "      <th>VPH1_end</th>\n",
       "      <th>BAH13127.1_start</th>\n",
       "      <th>BAH13127.1_end</th>\n",
       "    </tr>\n",
       "  </thead>\n",
       "  <tbody>\n",
       "    <tr>\n",
       "      <th>0</th>\n",
       "      <td>5</td>\n",
       "      <td>80</td>\n",
       "      <td>5</td>\n",
       "      <td>80</td>\n",
       "    </tr>\n",
       "    <tr>\n",
       "      <th>1</th>\n",
       "      <td>89</td>\n",
       "      <td>103</td>\n",
       "      <td>81</td>\n",
       "      <td>95</td>\n",
       "    </tr>\n",
       "    <tr>\n",
       "      <th>2</th>\n",
       "      <td>126</td>\n",
       "      <td>136</td>\n",
       "      <td>96</td>\n",
       "      <td>106</td>\n",
       "    </tr>\n",
       "    <tr>\n",
       "      <th>3</th>\n",
       "      <td>160</td>\n",
       "      <td>166</td>\n",
       "      <td>107</td>\n",
       "      <td>113</td>\n",
       "    </tr>\n",
       "    <tr>\n",
       "      <th>4</th>\n",
       "      <td>169</td>\n",
       "      <td>448</td>\n",
       "      <td>114</td>\n",
       "      <td>393</td>\n",
       "    </tr>\n",
       "  </tbody>\n",
       "</table>\n",
       "</div>"
      ],
      "text/plain": [
       "   VPH1_start  VPH1_end  BAH13127.1_start  BAH13127.1_end\n",
       "0           5        80                 5              80\n",
       "1          89       103                81              95\n",
       "2         126       136                96             106\n",
       "3         160       166               107             113\n",
       "4         169       448               114             393"
      ]
     },
     "metadata": {},
     "output_type": "display_data"
    },
    {
     "name": "stdout",
     "output_type": "stream",
     "text": [
      "EAW98433.1\n"
     ]
    },
    {
     "data": {
      "text/html": [
       "<div>\n",
       "<style scoped>\n",
       "    .dataframe tbody tr th:only-of-type {\n",
       "        vertical-align: middle;\n",
       "    }\n",
       "\n",
       "    .dataframe tbody tr th {\n",
       "        vertical-align: top;\n",
       "    }\n",
       "\n",
       "    .dataframe thead th {\n",
       "        text-align: right;\n",
       "    }\n",
       "</style>\n",
       "<table border=\"1\" class=\"dataframe\">\n",
       "  <thead>\n",
       "    <tr style=\"text-align: right;\">\n",
       "      <th></th>\n",
       "      <th>VPH1_start</th>\n",
       "      <th>VPH1_end</th>\n",
       "      <th>EAW98433.1_start</th>\n",
       "      <th>EAW98433.1_end</th>\n",
       "    </tr>\n",
       "  </thead>\n",
       "  <tbody>\n",
       "    <tr>\n",
       "      <th>0</th>\n",
       "      <td>5</td>\n",
       "      <td>13</td>\n",
       "      <td>1</td>\n",
       "      <td>9</td>\n",
       "    </tr>\n",
       "    <tr>\n",
       "      <th>1</th>\n",
       "      <td>14</td>\n",
       "      <td>19</td>\n",
       "      <td>12</td>\n",
       "      <td>17</td>\n",
       "    </tr>\n",
       "    <tr>\n",
       "      <th>2</th>\n",
       "      <td>35</td>\n",
       "      <td>80</td>\n",
       "      <td>18</td>\n",
       "      <td>63</td>\n",
       "    </tr>\n",
       "    <tr>\n",
       "      <th>3</th>\n",
       "      <td>89</td>\n",
       "      <td>103</td>\n",
       "      <td>64</td>\n",
       "      <td>78</td>\n",
       "    </tr>\n",
       "    <tr>\n",
       "      <th>4</th>\n",
       "      <td>105</td>\n",
       "      <td>148</td>\n",
       "      <td>79</td>\n",
       "      <td>122</td>\n",
       "    </tr>\n",
       "  </tbody>\n",
       "</table>\n",
       "</div>"
      ],
      "text/plain": [
       "   VPH1_start  VPH1_end  EAW98433.1_start  EAW98433.1_end\n",
       "0           5        13                 1               9\n",
       "1          14        19                12              17\n",
       "2          35        80                18              63\n",
       "3          89       103                64              78\n",
       "4         105       148                79             122"
      ]
     },
     "metadata": {},
     "output_type": "display_data"
    },
    {
     "name": "stdout",
     "output_type": "stream",
     "text": [
      "STV1\n"
     ]
    },
    {
     "data": {
      "text/html": [
       "<div>\n",
       "<style scoped>\n",
       "    .dataframe tbody tr th:only-of-type {\n",
       "        vertical-align: middle;\n",
       "    }\n",
       "\n",
       "    .dataframe tbody tr th {\n",
       "        vertical-align: top;\n",
       "    }\n",
       "\n",
       "    .dataframe thead th {\n",
       "        text-align: right;\n",
       "    }\n",
       "</style>\n",
       "<table border=\"1\" class=\"dataframe\">\n",
       "  <thead>\n",
       "    <tr style=\"text-align: right;\">\n",
       "      <th></th>\n",
       "      <th>VPH1_start</th>\n",
       "      <th>VPH1_end</th>\n",
       "      <th>STV1_start</th>\n",
       "      <th>STV1_end</th>\n",
       "    </tr>\n",
       "  </thead>\n",
       "  <tbody>\n",
       "    <tr>\n",
       "      <th>0</th>\n",
       "      <td>5</td>\n",
       "      <td>80</td>\n",
       "      <td>5</td>\n",
       "      <td>80</td>\n",
       "    </tr>\n",
       "    <tr>\n",
       "      <th>1</th>\n",
       "      <td>86</td>\n",
       "      <td>88</td>\n",
       "      <td>81</td>\n",
       "      <td>83</td>\n",
       "    </tr>\n",
       "    <tr>\n",
       "      <th>2</th>\n",
       "      <td>89</td>\n",
       "      <td>103</td>\n",
       "      <td>88</td>\n",
       "      <td>102</td>\n",
       "    </tr>\n",
       "    <tr>\n",
       "      <th>3</th>\n",
       "      <td>104</td>\n",
       "      <td>148</td>\n",
       "      <td>114</td>\n",
       "      <td>158</td>\n",
       "    </tr>\n",
       "    <tr>\n",
       "      <th>4</th>\n",
       "      <td>149</td>\n",
       "      <td>167</td>\n",
       "      <td>164</td>\n",
       "      <td>182</td>\n",
       "    </tr>\n",
       "  </tbody>\n",
       "</table>\n",
       "</div>"
      ],
      "text/plain": [
       "   VPH1_start  VPH1_end  STV1_start  STV1_end\n",
       "0           5        80           5        80\n",
       "1          86        88          81        83\n",
       "2          89       103          88       102\n",
       "3         104       148         114       158\n",
       "4         149       167         164       182"
      ]
     },
     "metadata": {},
     "output_type": "display_data"
    }
   ],
   "source": [
    "from IPython.display import display, HTML\n",
    "ref_id, dfs_by_id = MSA_to_corresponding_residue_numbers(\"alignment.clw\",\"VPH1\", return_dfs = True , supplied_start_pos = [5,1,5,5])\n",
    "for id_,df in dfs_by_id.items():\n",
    "    print(id_)\n",
    "    display(df.head())"
   ]
  },
  {
   "cell_type": "markdown",
   "metadata": {},
   "source": [
    "The final section of the notebook, below, builds on the output dataframes to produce molecular visualization commands for use in fitting the matching residues in structures using Pymol and/or Jmol."
   ]
  },
  {
   "cell_type": "markdown",
   "metadata": {},
   "source": [
    "## Using the matched residues to make Pymol fit commands"
   ]
  },
  {
   "cell_type": "markdown",
   "metadata": {},
   "source": [
    "This section builds on the dataframes output to produce molecular visualization commands for use in Pymol. Information on structure being used:\n",
    "[6C6L: Yeast Vacuolar ATPase Vo in lipid nanodisc](http://www.rcsb.org/structure/6C6L). VPH1 is Chain A\n",
    "\n",
    "First we'll run the command to make sure the related dataframe is in the namespace of the notebook."
   ]
  },
  {
   "cell_type": "code",
   "execution_count": 6,
   "metadata": {},
   "outputs": [
    {
     "name": "stderr",
     "output_type": "stream",
     "text": [
      "\n",
      "**NOTE: gap indicator in this script is currently set to '-'. If\n",
      "that does not match what provided alignment uses to indicate gaps,\n",
      "please change the setting within the script code under\n",
      "'USER ADJUSTABLE VALUES' around line 130 (give or take a few).**\n",
      "Alignment file read...VPH1 reference sequence collected from alignment...query compared...query compared...query compared...\n",
      "made match pairings into intervals of start and end where possible...\n",
      "\n",
      "made dataframes of matched start and ends...DONE.\n"
     ]
    }
   ],
   "source": [
    "from MSA_to_corresponding_residue_numbers import MSA_to_corresponding_residue_numbers\n",
    "ref_id, dfs_by_id = MSA_to_corresponding_residue_numbers(\"alignment.clw\",\"VPH1\", return_dfs = True , supplied_start_pos = [5,1,5,5])"
   ]
  },
  {
   "cell_type": "markdown",
   "metadata": {},
   "source": [
    "Now the dataframes can be used to make commands based on the identifiers and matching residue numbering.\n",
    "\n",
    "Some additional data needs to be provided because the equivalent chains weren't yet provided. For example, the model made of STV1 has chain designation of 'A'. Even though  the structure [PDB id: 6C6L](http://www.rcsb.org/structure/6C6L) is quite complex with fifteen chains (eight unique), VPH1 is designated chain 'A' for reasons related to the subunit nomenclature. \n",
    "\n",
    "It won't always be this simple. One model might have a protein if interest chain 'I', while a homolog is chain 'K' in another.\n",
    "\n",
    "Additionally, the PDB id code and/or identifiers used in corresponding Pymol session for those not in PDB must be brought incorporated prior to constructing the commands as well."
   ]
  },
  {
   "cell_type": "code",
   "execution_count": 26,
   "metadata": {},
   "outputs": [
    {
     "name": "stdout",
     "output_type": "stream",
     "text": [
      "\n",
      "\n",
      "\n",
      "FORMATTED PYMOL COMMANDS:\n",
      " \n",
      "select 6C6LchACA, 6C6L and resid 5:80 and chain A and name CA | 6C6L and resid 89:103 and chain A and name CA | 6C6L and resid 126:136 and chain A and name CA | 6C6L and resid 160:166 and chain A and name CA | 6C6L and resid 169:448 and chain A and name CA | 6C6L and resid 449:491 and chain A and name CA | 6C6L and resid 492:507 and chain A and name CA | 6C6L and resid 508:614 and chain A and name CA | 6C6L and resid 615:656 and chain A and name CA | 6C6L and resid 657:671 and chain A and name CA | 6C6L and resid 672:693 and chain A and name CA | 6C6L and resid 703:819 and chain A and name CA | 6C6L and resid 826:834 and chain A and name CA \n",
      "select BAH1chGCA, BAH1 and resid 5:80 and chain G and name CA | BAH1 and resid 81:95 and chain G and name CA | BAH1 and resid 96:106 and chain G and name CA | BAH1 and resid 107:113 and chain G and name CA | BAH1 and resid 114:393 and chain G and name CA | BAH1 and resid 395:437 and chain G and name CA | BAH1 and resid 446:461 and chain G and name CA | BAH1 and resid 469:575 and chain G and name CA | BAH1 and resid 578:619 and chain G and name CA | BAH1 and resid 621:635 and chain G and name CA | BAH1 and resid 640:661 and chain G and name CA | BAH1 and resid 663:779 and chain G and name CA | BAH1 and resid 780:788 and chain G and name CA \n",
      "pair_fit (  6C6LchACA ), (  BAH1chGCA )\n",
      "\n",
      "select 6C6LchACA, 6C6L and resid 5:13 and chain A and name CA | 6C6L and resid 14:19 and chain A and name CA | 6C6L and resid 35:80 and chain A and name CA | 6C6L and resid 89:103 and chain A and name CA | 6C6L and resid 105:148 and chain A and name CA | 6C6L and resid 149:166 and chain A and name CA | 6C6L and resid 169:174 and chain A and name CA | 6C6L and resid 176:491 and chain A and name CA | 6C6L and resid 492:507 and chain A and name CA | 6C6L and resid 508:656 and chain A and name CA | 6C6L and resid 657:662 and chain A and name CA | 6C6L and resid 664:671 and chain A and name CA | 6C6L and resid 672:702 and chain A and name CA | 6C6L and resid 703:818 and chain A and name CA | 6C6L and resid 826:836 and chain A and name CA \n",
      "select EAW9chHCA, EAW9 and resid 1:9 and chain H and name CA | EAW9 and resid 12:17 and chain H and name CA | EAW9 and resid 18:63 and chain H and name CA | EAW9 and resid 64:78 and chain H and name CA | EAW9 and resid 79:122 and chain H and name CA | EAW9 and resid 128:145 and chain H and name CA | EAW9 and resid 146:151 and chain H and name CA | EAW9 and resid 152:467 and chain H and name CA | EAW9 and resid 487:502 and chain H and name CA | EAW9 and resid 510:658 and chain H and name CA | EAW9 and resid 660:665 and chain H and name CA | EAW9 and resid 666:673 and chain H and name CA | EAW9 and resid 678:708 and chain H and name CA | EAW9 and resid 710:825 and chain H and name CA | EAW9 and resid 826:836 and chain H and name CA \n",
      "pair_fit (  6C6LchACA ), (  EAW9chHCA )\n",
      "\n",
      "select 6C6LchACA, 6C6L and resid 5:80 and chain A and name CA | 6C6L and resid 86:88 and chain A and name CA | 6C6L and resid 89:103 and chain A and name CA | 6C6L and resid 104:148 and chain A and name CA | 6C6L and resid 149:167 and chain A and name CA | 6C6L and resid 168:182 and chain A and name CA | 6C6L and resid 183:218 and chain A and name CA | 6C6L and resid 221:263 and chain A and name CA | 6C6L and resid 267:321 and chain A and name CA | 6C6L and resid 324:656 and chain A and name CA | 6C6L and resid 657:671 and chain A and name CA | 6C6L and resid 672:702 and chain A and name CA | 6C6L and resid 703:760 and chain A and name CA | 6C6L and resid 761:819 and chain A and name CA | 6C6L and resid 826:829 and chain A and name CA \n",
      "select STV1_modelchACA, STV1_model and resid 5:80 and chain A and name CA | STV1_model and resid 81:83 and chain A and name CA | STV1_model and resid 88:102 and chain A and name CA | STV1_model and resid 114:158 and chain A and name CA | STV1_model and resid 164:182 and chain A and name CA | STV1_model and resid 186:200 and chain A and name CA | STV1_model and resid 237:272 and chain A and name CA | STV1_model and resid 273:315 and chain A and name CA | STV1_model and resid 316:370 and chain A and name CA | STV1_model and resid 371:703 and chain A and name CA | STV1_model and resid 713:727 and chain A and name CA | STV1_model and resid 732:762 and chain A and name CA | STV1_model and resid 764:821 and chain A and name CA | STV1_model and resid 825:883 and chain A and name CA | STV1_model and resid 884:887 and chain A and name CA \n",
      "pair_fit (  6C6LchACA ), (  STV1_modelchACA )\n",
      "\n",
      "\n"
     ]
    }
   ],
   "source": [
    "# further prep for generating commands\n",
    "ref_id_chain = 'A' # for VPH1, from http://www.rcsb.org/structure/6C6L\n",
    "query_chains_by_id = {'BAH13127.1':'G',\n",
    "                      'EAW98433.1':'H',\n",
    "                      'STV1':'A'}\n",
    "ref_chain_structure = \"6C6L\"\n",
    "structures_by_id = {'BAH13127.1':'BAH1',\n",
    "                      'EAW98433.1':'EAW9',\n",
    "                      'STV1':'STV1_model'}\n",
    "\n",
    "# Convert each dataframe to something similar to `ranges_o_residues_resolved_per_chain_pairs` from the notebook \n",
    "# `Using Biopython PDB module to list resolved residues and construct fit commands`\n",
    "# Example of `ranges_o_residues_resolved_per_chain_pairs` that notebook to base it on:\n",
    "# `{('A', 'F'): ['4:121', '129:158'], ('B', 'G'): ['14:104', '125:140']}`\n",
    "# However, those were in same chain and so more complex here in that regard!\n",
    "# Since need residue positions for both chains it will be more like below for\n",
    "# one reference-query chain pair:\n",
    "# `{('A', 'F'): (['4:121', '129:158'],['x:xxx', 'xxx:xxx'])}`\n",
    "# And since also will want these to be one for each pairing, I can store each dictionary\n",
    "# in a dictionary with the key of the query as id for all, like so (only two shown for example:\n",
    "# `{'BAH13127.1': {('A', 'G'): (['4:121', '129:158'],['x:xxx', 'xxx:xxx'])}, 'STV1':{('A', 'A'): (['14:104', '125:140'],['x:xxx', 'xxx:xxx'])}}`  \n",
    "matched_ranges_o_residues_per_chain_pairs_by_id = {}\n",
    "for id_,df in dfs_by_id.items():\n",
    "    matched_ranges_o_residues_per_chain_pairs = {}\n",
    "    chain_pair = (ref_id_chain,query_chains_by_id[id_])\n",
    "    #iterate through the rows of the dataframe making the two lists\n",
    "    ref_list = []\n",
    "    query_list = []\n",
    "    for row in df.itertuples(index=False):\n",
    "        ref_list.append(f'{row[0]}:{row[1]}')\n",
    "        query_list.append(f'{row[2]}:{row[3]}')\n",
    "    matched_ranges_o_residues_per_chain_pairs[chain_pair] = (ref_list,query_list)\n",
    "    matched_ranges_o_residues_per_chain_pairs_by_id[id_] = matched_ranges_o_residues_per_chain_pairs\n",
    "\n",
    "# form commands\n",
    "formatted_commands = \"\"\n",
    "for id_,matched_ranges_per_ch_p in matched_ranges_o_residues_per_chain_pairs_by_id.items():\n",
    "    selection_pairs = [] #to collect two item tuple elements, each item being a name\n",
    "    for chain_pair in matched_ranges_per_ch_p:\n",
    "        structures = (ref_chain_structure, structures_by_id[id_])\n",
    "        selection_name_pair = []\n",
    "        for indx,chain in enumerate(chain_pair):\n",
    "            sel_nom = f\"{structures[indx]}ch{chain}CA\" #`CA` at end stands for `name CA` / alpha-carbon\n",
    "            formatted_commands += f\"select {sel_nom},\"\n",
    "            formatted_commands += \"|\".join( f\" {structures[indx]} and resid {pos_range} and chain {chain} and name CA \" \n",
    "                                           for pos_range in matched_ranges_per_ch_p[chain_pair][indx] ) \n",
    "            #for pos_range in ranges_o_residues_resolved_per_chain_pairs[chain_pair]:\n",
    "             #   formatted_commands += f\"{structures[indx].id} and resid {pos_range} and chain {chain} and name CA\"\n",
    "            formatted_commands += \"\\n\"\n",
    "            selection_name_pair.append(sel_nom)\n",
    "        selection_pairs.append(selection_name_pair)\n",
    "    first_structure_selections = \"|\".join(f\" {x[0]} \" for x in selection_pairs)\n",
    "    second_structure_selections = \"|\".join(f\" {x[1]} \" for x in selection_pairs)\n",
    "    formatted_commands += f\"pair_fit ( {first_structure_selections}), ( {second_structure_selections})\"\n",
    "    formatted_commands += \"\\n\\n\"\n",
    "        \n",
    "# residues_resolved_per_chain_b\n",
    "#shared_positions_per_chain_pairs\n",
    "#ranges_o_residues_resolved_per_chain_pairs\n",
    "print(\"\\n\\n\")\n",
    "print (\"FORMATTED PYMOL COMMANDS:\")\n",
    "print(\" \")\n",
    "print(formatted_commands)"
   ]
  },
  {
   "cell_type": "code",
   "execution_count": 20,
   "metadata": {},
   "outputs": [
    {
     "name": "stdout",
     "output_type": "stream",
     "text": [
      ".\n",
      ".\n"
     ]
    },
    {
     "ename": "KeyboardInterrupt",
     "evalue": "",
     "output_type": "error",
     "traceback": [
      "\u001b[0;31m---------------------------------------------------------------------------\u001b[0m",
      "\u001b[0;31mKeyboardInterrupt\u001b[0m                         Traceback (most recent call last)",
      "\u001b[0;32m<ipython-input-20-ece0737a9832>\u001b[0m in \u001b[0;36m<module>\u001b[0;34m()\u001b[0m\n\u001b[1;32m      7\u001b[0m \u001b[0;34m\u001b[0m\u001b[0m\n\u001b[1;32m      8\u001b[0m \u001b[0;32mwhile\u001b[0m \u001b[0;32mTrue\u001b[0m\u001b[0;34m:\u001b[0m\u001b[0;34m\u001b[0m\u001b[0m\n\u001b[0;32m----> 9\u001b[0;31m     \u001b[0mexecuteSomething\u001b[0m\u001b[0;34m(\u001b[0m\u001b[0;34m)\u001b[0m\u001b[0;34m\u001b[0m\u001b[0m\n\u001b[0m",
      "\u001b[0;32m<ipython-input-20-ece0737a9832>\u001b[0m in \u001b[0;36mexecuteSomething\u001b[0;34m()\u001b[0m\n\u001b[1;32m      4\u001b[0m     \u001b[0;31m#code here\u001b[0m\u001b[0;34m\u001b[0m\u001b[0;34m\u001b[0m\u001b[0m\n\u001b[1;32m      5\u001b[0m     \u001b[0mprint\u001b[0m \u001b[0;34m(\u001b[0m\u001b[0;34m'.'\u001b[0m\u001b[0;34m)\u001b[0m\u001b[0;34m\u001b[0m\u001b[0m\n\u001b[0;32m----> 6\u001b[0;31m     \u001b[0mtime\u001b[0m\u001b[0;34m.\u001b[0m\u001b[0msleep\u001b[0m\u001b[0;34m(\u001b[0m\u001b[0;36m480\u001b[0m\u001b[0;34m)\u001b[0m \u001b[0;31m#60 seconds times 8 minutes\u001b[0m\u001b[0;34m\u001b[0m\u001b[0m\n\u001b[0m\u001b[1;32m      7\u001b[0m \u001b[0;34m\u001b[0m\u001b[0m\n\u001b[1;32m      8\u001b[0m \u001b[0;32mwhile\u001b[0m \u001b[0;32mTrue\u001b[0m\u001b[0;34m:\u001b[0m\u001b[0;34m\u001b[0m\u001b[0m\n",
      "\u001b[0;31mKeyboardInterrupt\u001b[0m: "
     ]
    }
   ],
   "source": [
    "import time\n",
    "\n",
    "def executeSomething():\n",
    "    #code here\n",
    "    print ('.')\n",
    "    time.sleep(480) #60 seconds times 8 minutes\n",
    "\n",
    "while True:\n",
    "    executeSomething()"
   ]
  },
  {
   "cell_type": "code",
   "execution_count": null,
   "metadata": {},
   "outputs": [],
   "source": []
  },
  {
   "cell_type": "code",
   "execution_count": null,
   "metadata": {},
   "outputs": [],
   "source": []
  },
  {
   "cell_type": "code",
   "execution_count": null,
   "metadata": {},
   "outputs": [],
   "source": []
  },
  {
   "cell_type": "code",
   "execution_count": null,
   "metadata": {},
   "outputs": [],
   "source": []
  },
  {
   "cell_type": "markdown",
   "metadata": {},
   "source": [
    "## Using the matching residue information to make Jmol commands\n",
    "\n",
    "A similar process can be done to make Jmol / JSmol command for the `compare` function, Jmol/JSmol's equivalent of Pymol's fit function."
   ]
  },
  {
   "cell_type": "code",
   "execution_count": null,
   "metadata": {},
   "outputs": [],
   "source": [
    "#JMOL\n",
    "from categorize_residues_based_on_conservation_relative_consensus_line import categorize_residues_based_on_conservation_relative_consensus_line\n",
    "df = categorize_residues_based_on_conservation_relative_consensus_line(\"alignment.clw\",\"VPH1\", return_panel_data = True)\n",
    "structure = \"6c6l\"\n",
    "chain = \"A\"  #Vph1p chain in PDB id: 6c6l\n",
    "identical_color = \"[160,31,95]\"\n",
    "strong_siml_color = \"[239, 120, 160]\"\n",
    "weak_siml_color = \"[242, 200, 224]\"\n",
    "color_dict = {\n",
    "    \"identical\":identical_color,\n",
    "    \"strongly_similar\":strong_siml_color,\n",
    "    \"weakly_similar\":weak_siml_color\n",
    "            }\n",
    "df_dict = dict(zip(df.category,df.residue_positions))\n",
    "assert list(color_dict.keys()) == list(df_dict.keys())[:3] , \"keys not identical\"\n",
    "building_output = \"\"\n",
    "for category in df_dict:\n",
    "    if category != \"not_conserved\":\n",
    "        for res in df_dict[category]:\n",
    "            building_output += f\"select {res}:{chain};\"\n",
    "            building_output += f\"spacefill on;\"\n",
    "            building_output += f\"color {color_dict[category]}\\n\"\n",
    "        #save and reset output string\n",
    "        %store building_output > {category}_jmol_commands.txt\n",
    "        building_output = \"\"\n",
    "# Comment out the above line & uncomment the next line if you want to save as single file\n",
    "#%store building_output > all_jmol_commands.txt"
   ]
  },
  {
   "cell_type": "markdown",
   "metadata": {},
   "source": [
    "Jmol commands all in a single file:"
   ]
  },
  {
   "cell_type": "code",
   "execution_count": null,
   "metadata": {},
   "outputs": [],
   "source": [
    "from categorize_residues_based_on_conservation_relative_consensus_line import categorize_residues_based_on_conservation_relative_consensus_line\n",
    "df = categorize_residues_based_on_conservation_relative_consensus_line(\"alignment.clw\",\"VPH1\", return_panel_data = True)"
   ]
  },
  {
   "cell_type": "code",
   "execution_count": null,
   "metadata": {},
   "outputs": [],
   "source": [
    "#JMOL\n",
    "structure = \"6c6l\"\n",
    "chain = \"A\"  #Vph1p chain in PDB id: 6c6l\n",
    "identical_color = \"[160,31,95]\"\n",
    "strong_siml_color = \"[239, 120, 160]\"\n",
    "weak_siml_color = \"[242, 200, 224]\"\n",
    "color_dict = {\n",
    "    \"identical\":identical_color,\n",
    "    \"strongly_similar\":strong_siml_color,\n",
    "    \"weakly_similar\":weak_siml_color\n",
    "            }\n",
    "df_dict = dict(zip(df.category,df.residue_positions))\n",
    "assert list(color_dict.keys()) == list(df_dict.keys())[:3] , \"keys not identical\"\n",
    "building_output = \"\"\n",
    "for category in df_dict:\n",
    "    if category != \"not_conserved\":\n",
    "        for res in df_dict[category]:\n",
    "            building_output += f\"select {res}:{chain};\"\n",
    "            building_output += f\"spacefill on;\"\n",
    "            building_output += f\"color {color_dict[category]}\\n\"\n",
    "%store building_output > all_jmol_commands.txt"
   ]
  },
  {
   "cell_type": "markdown",
   "metadata": {},
   "source": [
    "Showing that worked:"
   ]
  },
  {
   "cell_type": "code",
   "execution_count": null,
   "metadata": {},
   "outputs": [],
   "source": [
    "!head all_jmol_commands.txt\n",
    "!echo \" \"\n",
    "!tail all_jmol_commands.txt"
   ]
  },
  {
   "cell_type": "markdown",
   "metadata": {},
   "source": [
    "------"
   ]
  }
 ],
 "metadata": {
  "kernelspec": {
   "display_name": "Python 3",
   "language": "python",
   "name": "python3"
  },
  "language_info": {
   "codemirror_mode": {
    "name": "ipython",
    "version": 3
   },
   "file_extension": ".py",
   "mimetype": "text/x-python",
   "name": "python",
   "nbconvert_exporter": "python",
   "pygments_lexer": "ipython3",
   "version": "3.6.6"
  }
 },
 "nbformat": 4,
 "nbformat_minor": 2
}
