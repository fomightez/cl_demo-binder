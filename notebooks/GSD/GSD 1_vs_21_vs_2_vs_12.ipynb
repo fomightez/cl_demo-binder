{
 "cells": [
  {
   "cell_type": "markdown",
   "metadata": {},
   "source": [
    "# GSD: 1_vs_21_vs_2_vs_12\n",
    "\n",
    "I tried to annotate what individual sections were based on from my general illustrations of various scripts or command line processes.\n",
    "\n",
    "-----"
   ]
  },
  {
   "cell_type": "markdown",
   "metadata": {},
   "source": [
    "## Prepare for using the residue matching script on MSA by obtaining FASTAs and validating\n",
    "\n",
    "This section is largeley based on early parts of a Jupyter notebook [here](http://nbviewer.jupyter.org/github/fomightez/cl_demo-binder/blob/master/notebooks/Determine%20residues%20that%20match%20to%20a%20reference%20from%20MSA%20and%20use%20to%20construct%20fit%20commands.ipynb). It can be launched in active form from [here](https://github.com/fomightez/cl_demo-binder/tree/master/)."
   ]
  },
  {
   "cell_type": "code",
   "execution_count": 1,
   "metadata": {},
   "outputs": [
    {
     "name": "stdout",
     "output_type": "stream",
     "text": [
      "  % Total    % Received % Xferd  Average Speed   Time    Time     Time  Current\n",
      "                                 Dload  Upload   Total   Spent    Left  Speed\n",
      "100 11334  100 11334    0     0  43760      0 --:--:-- --:--:-- --:--:-- 43930\n",
      "  % Total    % Received % Xferd  Average Speed   Time    Time     Time  Current\n",
      "                                 Dload  Upload   Total   Spent    Left  Speed\n",
      "100 15071  100 15071    0     0  68817      0 --:--:-- --:--:-- --:--:-- 68504\n"
     ]
    }
   ],
   "source": [
    "# Retrieve scripts needed for this section\n",
    "# Get the retrieving script to use for yeast protein sequences\n",
    "!curl -O https://raw.githubusercontent.com/fomightez/yeastmine/4eb96c1c4714df336076b53ea26b6139ef6cddbb/get_protein_seq_as_FASTA.py\n",
    "# Get the validating script\n",
    "!curl -O https://raw.githubusercontent.com/fomightez/sequencework/88d2076fcb6014bdad7f07b293cead16ae2e9fe0/alignment-utilities/check_seq_frag_in_MSAclustal_intact_viaFASTA.py"
   ]
  },
  {
   "cell_type": "code",
   "execution_count": 2,
   "metadata": {},
   "outputs": [],
   "source": [
    "%%script false   # TO TEST IF NEEDED FIRST\n",
    "!pip install BS4"
   ]
  },
  {
   "cell_type": "code",
   "execution_count": 3,
   "metadata": {},
   "outputs": [
    {
     "name": "stdout",
     "output_type": "stream",
     "text": [
      "  % Total    % Received % Xferd  Average Speed   Time    Time     Time  Current\n",
      "                                 Dload  Upload   Total   Spent    Left  Speed\n",
      "100   243    0   243    0     0    398      0 --:--:-- --:--:-- --:--:--   397\n",
      "Writing 'fasta[0]' (NavigableString) to file '1x0t_A.fa'.\n"
     ]
    },
    {
     "name": "stderr",
     "output_type": "stream",
     "text": [
      "looking up the gene associated with rpr2...getting protein sequence...\n",
      "\n",
      "File of protein sequence saved as 'S288C_YIR015W_RPR2_protein.fsa'.\n",
      "Finished.\n",
      "looking up the gene associated with snm1...getting protein sequence...\n",
      "\n",
      "File of protein sequence saved as 'S288C_YDR478W_SNM1_protein.fsa'.\n",
      "Finished.\n",
      "looking up the gene associated with rpa12...getting protein sequence...\n",
      "\n",
      "File of protein sequence saved as 'S288C_YJR063W_RPA12_protein.fsa'.\n",
      "Finished.\n"
     ]
    }
   ],
   "source": [
    "# Get FASTA file for the non yeast one\n",
    "!curl -o 1x0t_A.fa http://oca.weizmann.ac.il/oca-bin/send-seq?1x0t_A\n",
    "# remove HTML to leave actual FASTA\n",
    "# based on https://stackoverflow.com/a/21577649/8508004 and https://unix.stackexchange.com/a/64747\n",
    "import sys\n",
    "from bs4 import BeautifulSoup\n",
    "oca_file_to_fix = \"1x0t_A.fa\"\n",
    "soup = BeautifulSoup(open(oca_file_to_fix), \"html.parser\")\n",
    "for pre in soup.findAll(\"pre\"):\n",
    "    fasta =  pre.contents\n",
    "%store fasta[0] > {oca_file_to_fix}\n",
    "# Get FASTA file for yeast ones\n",
    "genes = [\"rpr2\", \"snm1\", \"rpa12\"]\n",
    "for gene in genes:\n",
    "    %run get_protein_seq_as_FASTA.py {gene}"
   ]
  },
  {
   "cell_type": "code",
   "execution_count": 4,
   "metadata": {},
   "outputs": [],
   "source": [
    "#associate produced files with the MSA ids\n",
    "fasta_files_byMSAid = {}\n",
    "fasta_files_byMSAid[\"Snm1\"] = \"S288C_YDR478W_SNM1_protein.fsa\"\n",
    "fasta_files_byMSAid[\"Rpr2\"] = \"S288C_YIR015W_RPR2_protein.fsa\"\n",
    "fasta_files_byMSAid[\"Rpa12\"] = \"S288C_YJR063W_RPA12_protein.fsa\"\n",
    "fasta_files_byMSAid[\"1x0t.1.A\"] = \"1x0t_A.fa\""
   ]
  },
  {
   "cell_type": "code",
   "execution_count": 5,
   "metadata": {},
   "outputs": [
    {
     "name": "stdout",
     "output_type": "stream",
     "text": [
      "  % Total    % Received % Xferd  Average Speed   Time    Time     Time  Current\n",
      "                                 Dload  Upload   Total   Spent    Left  Speed\n",
      "100  1031  100  1031    0     0   5155      0 --:--:-- --:--:-- --:--:--  5155\n"
     ]
    }
   ],
   "source": [
    "# Get the multiple sequence alignment\n",
    "!curl -o alignment.clw https://gist.githubusercontent.com/fomightez/f46b0624f1d8e3abb6ff908fc447e63b/raw/7ef7cfdaa2c9f9974f22fd60be3cfe7d1935cd86/uy_alignmt.clw"
   ]
  },
  {
   "cell_type": "markdown",
   "metadata": {},
   "source": [
    "Now we have everything to validate the sequences as suitable for use by the script that uses residue matching to generate equivalent positions from the multiple sequence alignment.\n",
    "While validating, we will also collect the position of first residue in each multiple sequence alignment because **this information will be needed later** for the reside matching script."
   ]
  },
  {
   "cell_type": "code",
   "execution_count": 6,
   "metadata": {},
   "outputs": [
    {
     "name": "stdout",
     "output_type": "stream",
     "text": [
      "Snm1 S288C_YDR478W_SNM1_protein.fsa\n"
     ]
    },
    {
     "name": "stderr",
     "output_type": "stream",
     "text": [
      "\n",
      "**NOTE: gap indicator in this script is currently set to '-'. If\n",
      "that does not match what provided alignment uses to indicate gaps,\n",
      "please change the setting within the script code under\n",
      "'USER ADJUSTABLE VALUES' around line 100 (give or take a few).**\n",
      "Alignment file read...Snm1 sequence collected from alignment...FASTA file read...Checking...\n",
      "Is sequence contiguous without regard to the ends?Will return start position value, too....  ...\n"
     ]
    },
    {
     "name": "stdout",
     "output_type": "stream",
     "text": [
      "The sequence for Snm1 is contiguous and valid.\n",
      "The sequence for Snm1 starts at position 1 in the MSA.\n",
      "Rpr2 S288C_YIR015W_RPR2_protein.fsa\n"
     ]
    },
    {
     "name": "stderr",
     "output_type": "stream",
     "text": [
      "\n",
      "**NOTE: gap indicator in this script is currently set to '-'. If\n",
      "that does not match what provided alignment uses to indicate gaps,\n",
      "please change the setting within the script code under\n",
      "'USER ADJUSTABLE VALUES' around line 100 (give or take a few).**\n",
      "Alignment file read...Rpr2 sequence collected from alignment...FASTA file read...Checking...\n",
      "Is sequence contiguous without regard to the ends?Will return start position value, too....  ...\n"
     ]
    },
    {
     "name": "stdout",
     "output_type": "stream",
     "text": [
      "The sequence for Rpr2 is contiguous and valid.\n",
      "The sequence for Rpr2 starts at position 37 in the MSA.\n",
      "Rpa12 S288C_YJR063W_RPA12_protein.fsa\n"
     ]
    },
    {
     "name": "stderr",
     "output_type": "stream",
     "text": [
      "\n",
      "**NOTE: gap indicator in this script is currently set to '-'. If\n",
      "that does not match what provided alignment uses to indicate gaps,\n",
      "please change the setting within the script code under\n",
      "'USER ADJUSTABLE VALUES' around line 100 (give or take a few).**\n",
      "Alignment file read...Rpa12 sequence collected from alignment...FASTA file read...Checking...\n",
      "Is sequence contiguous without regard to the ends?Will return start position value, too....  ...\n"
     ]
    },
    {
     "name": "stdout",
     "output_type": "stream",
     "text": [
      "The sequence for Rpa12 is contiguous and valid.\n",
      "The sequence for Rpa12 starts at position 83 in the MSA.\n",
      "1x0t.1.A 1x0t_A.fa\n"
     ]
    },
    {
     "name": "stderr",
     "output_type": "stream",
     "text": [
      "\n",
      "**NOTE: gap indicator in this script is currently set to '-'. If\n",
      "that does not match what provided alignment uses to indicate gaps,\n",
      "please change the setting within the script code under\n",
      "'USER ADJUSTABLE VALUES' around line 100 (give or take a few).**\n",
      "Alignment file read...1x0t.1.A sequence collected from alignment...FASTA file read...Checking...\n",
      "Is sequence contiguous without regard to the ends?Will return start position value, too....  ...\n"
     ]
    },
    {
     "name": "stdout",
     "output_type": "stream",
     "text": [
      "The sequence for 1x0t.1.A is contiguous and valid.\n",
      "The sequence for 1x0t.1.A starts at position 21 in the MSA.\n"
     ]
    }
   ],
   "source": [
    "#Validate for each sequence in the alignment if the fragment is contiguous once it starts\n",
    "# Plus collect what is the position of first residue in each multiple sequence alignment\n",
    "from check_seq_frag_in_MSAclustal_intact_viaFASTA import check_seq_frag_in_MSAclustal_intact_viaFASTA\n",
    "import time\n",
    "import sys\n",
    "start_positions_by_id = {}\n",
    "MSAids = fasta_files_byMSAid.keys()\n",
    "for MSAid in fasta_files_byMSAid:\n",
    "    print ( MSAid, fasta_files_byMSAid[MSAid])\n",
    "    consistent, start_pos = check_seq_frag_in_MSAclustal_intact_viaFASTA(\"alignment.clw\", MSAid, fasta_files_byMSAid[MSAid], return_TF = True, report_start_residue_pos = True)\n",
    "    if consistent:\n",
    "        time.sleep(0.301) # pause before printing stdour so it will show up after stderr\n",
    "        print (\"The sequence for {} is contiguous and valid.\".format(MSAid))\n",
    "        print (\"The sequence for {} starts at position {} in the MSA.\".format(MSAid,start_pos))\n",
    "    else:\n",
    "        print (\"The sequence for {} is NOT valid. This will be A PROBLEM.\")\n",
    "        sys.exit(1)\n",
    "    start_positions_by_id[MSAid] = start_pos\n",
    "#start_positions_by_id"
   ]
  },
  {
   "cell_type": "markdown",
   "metadata": {},
   "source": [
    "----\n",
    "\n",
    "## Merging multiple structures in PDB format into single file with multiple models"
   ]
  },
  {
   "cell_type": "markdown",
   "metadata": {},
   "source": [
    "This section is based largerly on the section entitled 'Python script method to merge' [here](http://nbviewer.jupyter.org/github/fomightez/cl_demo-binder/blob/master/notebooks/Split%20and%20combine%20multimodel%20PDB%20files.ipynb#Python-script-method-to-merge). It can be launched in active form from [here](https://github.com/fomightez/cl_demo-binder/tree/master/).\n"
   ]
  },
  {
   "cell_type": "code",
   "execution_count": null,
   "metadata": {},
   "outputs": [],
   "source": [
    "# Get the merging script\n",
    "!curl -O https://raw.githubusercontent.com/fomightez/structurework/82b3200c0a0b432ffc23eb2105d0e8c82b42aa81/python_scripts/merge_multi_PDBs_into_single_file.py"
   ]
  },
  {
   "cell_type": "markdown",
   "metadata": {},
   "source": [
    "I combined the placed files I wanted to merge into one directory, named `models`, within a session running this notebook from [here](https://github.com/fomightez/cl_demo-binder/tree/master/). \n",
    "\n",
    "These are the files:\n",
    "\n",
    "- 6AGB_K.pdb\n",
    "- Snm1p_I-TASSER_model1.pdb\n",
    "- 1x0t.pdb\n",
    "- 4c3h_chainI.pdb\n",
    "\n",
    "\n",
    "6AGB_K.pdb/6AH3_K.pdb were generated from [here](https://github.com/fomightez/bio3d-binder). 4c3h_chainI.pdb was generated from [here](http://nbviewer.jupyter.org/github/fomightez/cl_demo-binder/blob/master/notebooks/Split%20pdb%20files%20into%20chains.ipynb#Bash/sed-method); and renamed. (I just happened to try a different approach betweeen the two because I had a different session launched when making 4c3h chains files.)\n",
    "\n",
    "I will need the order to match the order I'll use when generating commands. To control the order, I'll take advantage of the ability of `merge_multi_PDBs_into_single_file.py` to recognize numbers at the end of the main part of the file names of the PDB files to use those as the order.\n",
    "So the files were renamed to:"
   ]
  },
  {
   "cell_type": "markdown",
   "metadata": {},
   "source": [
    "- 6AGB_K_1.pdb\n",
    "- Snm1p_I-TASSER_model1_2.pdb\n",
    "- 1x0t_3.pdb\n",
    "- 4c3h_chainI_4.pdb\n",
    "\n",
    "The following cell has the the command I ran after that. (Note I added `%%script false` to top of cell because I don't want to do the steps in this section each time I re-run the notebook.)"
   ]
  },
  {
   "cell_type": "code",
   "execution_count": null,
   "metadata": {},
   "outputs": [],
   "source": [
    "%%script false\n",
    "%run merge_multi_PDBs_into_single_file.py models"
   ]
  },
  {
   "cell_type": "code",
   "execution_count": null,
   "metadata": {},
   "outputs": [],
   "source": [
    "#rename the produced file to something more specific\n",
    "!mv models.pdb rpr2_snm1_1x0t_rpa12.pdb"
   ]
  },
  {
   "cell_type": "markdown",
   "metadata": {},
   "source": [
    "I collected the resulting file 'rpr2_snm1_1x0t_rpa12.pdb' and uploaded to Proteopedia, find it [here](http://proteopedia.org/wiki/index.php/Image:Rpr2_snm1_1x0t_rpa12.pdb).\n",
    "\n",
    "\n",
    "Opened the structure file in Proteopedia using the scene scripting tool and then saved a scene. Placed the text specifying that scene in the wikitext of the code defining a structure window on a page. \n",
    "\n",
    "----"
   ]
  },
  {
   "cell_type": "markdown",
   "metadata": {},
   "source": [
    "## Use residue matching script to collect information about residue positions in the alignment"
   ]
  },
  {
   "cell_type": "code",
   "execution_count": 9,
   "metadata": {},
   "outputs": [
    {
     "name": "stdout",
     "output_type": "stream",
     "text": [
      "  % Total    % Received % Xferd  Average Speed   Time    Time     Time  Current\n",
      "                                 Dload  Upload   Total   Spent    Left  Speed\n",
      "100 30126  100 30126    0     0   152k      0 --:--:-- --:--:-- --:--:--  152k\n"
     ]
    }
   ],
   "source": [
    "# Get the residue position matching script\n",
    "!curl -O https://raw.githubusercontent.com/fomightez/sequencework/88d2076fcb6014bdad7f07b293cead16ae2e9fe0/alignment-utilities/MSA_to_corresponding_residue_numbers.py"
   ]
  },
  {
   "cell_type": "code",
   "execution_count": 12,
   "metadata": {},
   "outputs": [
    {
     "name": "stderr",
     "output_type": "stream",
     "text": [
      "\n",
      "**NOTE: gap indicator in this script is currently set to '-'. If\n",
      "that does not match what provided alignment uses to indicate gaps,\n",
      "please change the setting within the script code under\n",
      "'USER ADJUSTABLE VALUES' around line 130 (give or take a few).**\n",
      "Alignment file read...Rpr2 reference sequence collected from alignment...query compared...query compared...query compared...\n",
      "made match pairings into intervals of start and end where possible...\n",
      "\n",
      "made dataframes of matched start and ends...DONE.\n"
     ]
    }
   ],
   "source": [
    "from MSA_to_corresponding_residue_numbers import MSA_to_corresponding_residue_numbers\n",
    "start_posns = [start_positions_by_id[\"Snm1\"],\n",
    "               start_positions_by_id[\"1x0t.1.A\"],\n",
    "               start_positions_by_id[\"Rpr2\"],\n",
    "               start_positions_by_id[\"Rpa12\"],\n",
    "              ]\n",
    "ref_id, dfs_by_id = MSA_to_corresponding_residue_numbers(\"alignment.clw\",\"Rpr2\", return_dfs = True , supplied_start_pos = start_posns)"
   ]
  },
  {
   "cell_type": "code",
   "execution_count": 15,
   "metadata": {},
   "outputs": [
    {
     "name": "stdout",
     "output_type": "stream",
     "text": [
      "Snm1\n"
     ]
    },
    {
     "data": {
      "text/html": [
       "<div>\n",
       "<style scoped>\n",
       "    .dataframe tbody tr th:only-of-type {\n",
       "        vertical-align: middle;\n",
       "    }\n",
       "\n",
       "    .dataframe tbody tr th {\n",
       "        vertical-align: top;\n",
       "    }\n",
       "\n",
       "    .dataframe thead th {\n",
       "        text-align: right;\n",
       "    }\n",
       "</style>\n",
       "<table border=\"1\" class=\"dataframe\">\n",
       "  <thead>\n",
       "    <tr style=\"text-align: right;\">\n",
       "      <th></th>\n",
       "      <th>Rpr2_start</th>\n",
       "      <th>Rpr2_end</th>\n",
       "      <th>Snm1_start</th>\n",
       "      <th>Snm1_end</th>\n",
       "    </tr>\n",
       "  </thead>\n",
       "  <tbody>\n",
       "    <tr>\n",
       "      <th>0</th>\n",
       "      <td>37</td>\n",
       "      <td>48</td>\n",
       "      <td>14</td>\n",
       "      <td>25</td>\n",
       "    </tr>\n",
       "    <tr>\n",
       "      <th>1</th>\n",
       "      <td>56</td>\n",
       "      <td>63</td>\n",
       "      <td>26</td>\n",
       "      <td>33</td>\n",
       "    </tr>\n",
       "    <tr>\n",
       "      <th>2</th>\n",
       "      <td>64</td>\n",
       "      <td>72</td>\n",
       "      <td>35</td>\n",
       "      <td>43</td>\n",
       "    </tr>\n",
       "    <tr>\n",
       "      <th>3</th>\n",
       "      <td>74</td>\n",
       "      <td>86</td>\n",
       "      <td>44</td>\n",
       "      <td>56</td>\n",
       "    </tr>\n",
       "    <tr>\n",
       "      <th>4</th>\n",
       "      <td>87</td>\n",
       "      <td>108</td>\n",
       "      <td>58</td>\n",
       "      <td>79</td>\n",
       "    </tr>\n",
       "    <tr>\n",
       "      <th>5</th>\n",
       "      <td>109</td>\n",
       "      <td>115</td>\n",
       "      <td>100</td>\n",
       "      <td>106</td>\n",
       "    </tr>\n",
       "    <tr>\n",
       "      <th>6</th>\n",
       "      <td>116</td>\n",
       "      <td>144</td>\n",
       "      <td>108</td>\n",
       "      <td>136</td>\n",
       "    </tr>\n",
       "  </tbody>\n",
       "</table>\n",
       "</div>"
      ],
      "text/plain": [
       "   Rpr2_start  Rpr2_end  Snm1_start  Snm1_end\n",
       "0          37        48          14        25\n",
       "1          56        63          26        33\n",
       "2          64        72          35        43\n",
       "3          74        86          44        56\n",
       "4          87       108          58        79\n",
       "5         109       115         100       106\n",
       "6         116       144         108       136"
      ]
     },
     "metadata": {},
     "output_type": "display_data"
    },
    {
     "name": "stdout",
     "output_type": "stream",
     "text": [
      "1x0t.1.A\n"
     ]
    },
    {
     "data": {
      "text/html": [
       "<div>\n",
       "<style scoped>\n",
       "    .dataframe tbody tr th:only-of-type {\n",
       "        vertical-align: middle;\n",
       "    }\n",
       "\n",
       "    .dataframe tbody tr th {\n",
       "        vertical-align: top;\n",
       "    }\n",
       "\n",
       "    .dataframe thead th {\n",
       "        text-align: right;\n",
       "    }\n",
       "</style>\n",
       "<table border=\"1\" class=\"dataframe\">\n",
       "  <thead>\n",
       "    <tr style=\"text-align: right;\">\n",
       "      <th></th>\n",
       "      <th>Rpr2_start</th>\n",
       "      <th>Rpr2_end</th>\n",
       "      <th>1x0t.1.A_start</th>\n",
       "      <th>1x0t.1.A_end</th>\n",
       "    </tr>\n",
       "  </thead>\n",
       "  <tbody>\n",
       "    <tr>\n",
       "      <th>0</th>\n",
       "      <td>37</td>\n",
       "      <td>47</td>\n",
       "      <td>23</td>\n",
       "      <td>33</td>\n",
       "    </tr>\n",
       "    <tr>\n",
       "      <th>1</th>\n",
       "      <td>56</td>\n",
       "      <td>63</td>\n",
       "      <td>34</td>\n",
       "      <td>41</td>\n",
       "    </tr>\n",
       "    <tr>\n",
       "      <th>2</th>\n",
       "      <td>64</td>\n",
       "      <td>72</td>\n",
       "      <td>43</td>\n",
       "      <td>51</td>\n",
       "    </tr>\n",
       "    <tr>\n",
       "      <th>3</th>\n",
       "      <td>74</td>\n",
       "      <td>108</td>\n",
       "      <td>52</td>\n",
       "      <td>86</td>\n",
       "    </tr>\n",
       "    <tr>\n",
       "      <th>4</th>\n",
       "      <td>109</td>\n",
       "      <td>115</td>\n",
       "      <td>91</td>\n",
       "      <td>97</td>\n",
       "    </tr>\n",
       "    <tr>\n",
       "      <th>5</th>\n",
       "      <td>116</td>\n",
       "      <td>130</td>\n",
       "      <td>99</td>\n",
       "      <td>113</td>\n",
       "    </tr>\n",
       "  </tbody>\n",
       "</table>\n",
       "</div>"
      ],
      "text/plain": [
       "   Rpr2_start  Rpr2_end  1x0t.1.A_start  1x0t.1.A_end\n",
       "0          37        47              23            33\n",
       "1          56        63              34            41\n",
       "2          64        72              43            51\n",
       "3          74       108              52            86\n",
       "4         109       115              91            97\n",
       "5         116       130              99           113"
      ]
     },
     "metadata": {},
     "output_type": "display_data"
    },
    {
     "name": "stdout",
     "output_type": "stream",
     "text": [
      "Rpa12\n"
     ]
    },
    {
     "data": {
      "text/html": [
       "<div>\n",
       "<style scoped>\n",
       "    .dataframe tbody tr th:only-of-type {\n",
       "        vertical-align: middle;\n",
       "    }\n",
       "\n",
       "    .dataframe tbody tr th {\n",
       "        vertical-align: top;\n",
       "    }\n",
       "\n",
       "    .dataframe thead th {\n",
       "        text-align: right;\n",
       "    }\n",
       "</style>\n",
       "<table border=\"1\" class=\"dataframe\">\n",
       "  <thead>\n",
       "    <tr style=\"text-align: right;\">\n",
       "      <th></th>\n",
       "      <th>Rpr2_start</th>\n",
       "      <th>Rpr2_end</th>\n",
       "      <th>Rpa12_start</th>\n",
       "      <th>Rpa12_end</th>\n",
       "    </tr>\n",
       "  </thead>\n",
       "  <tbody>\n",
       "    <tr>\n",
       "      <th>0</th>\n",
       "      <td>87</td>\n",
       "      <td>98</td>\n",
       "      <td>83</td>\n",
       "      <td>94</td>\n",
       "    </tr>\n",
       "    <tr>\n",
       "      <th>1</th>\n",
       "      <td>105</td>\n",
       "      <td>108</td>\n",
       "      <td>95</td>\n",
       "      <td>98</td>\n",
       "    </tr>\n",
       "    <tr>\n",
       "      <th>2</th>\n",
       "      <td>109</td>\n",
       "      <td>115</td>\n",
       "      <td>108</td>\n",
       "      <td>114</td>\n",
       "    </tr>\n",
       "    <tr>\n",
       "      <th>3</th>\n",
       "      <td>116</td>\n",
       "      <td>125</td>\n",
       "      <td>116</td>\n",
       "      <td>125</td>\n",
       "    </tr>\n",
       "  </tbody>\n",
       "</table>\n",
       "</div>"
      ],
      "text/plain": [
       "   Rpr2_start  Rpr2_end  Rpa12_start  Rpa12_end\n",
       "0          87        98           83         94\n",
       "1         105       108           95         98\n",
       "2         109       115          108        114\n",
       "3         116       125          116        125"
      ]
     },
     "metadata": {},
     "output_type": "display_data"
    }
   ],
   "source": [
    "from IPython.display import display, HTML\n",
    "for id_,df in dfs_by_id.items():\n",
    "    print(id_)\n",
    "    display(df)"
   ]
  },
  {
   "cell_type": "markdown",
   "metadata": {},
   "source": [
    "----\n",
    "\n",
    "## Using the matching residue information to make Jmol commands\n",
    "\n",
    "Information from earlier needs to be incorporated to do this. That is done in the first few lines next.\n",
    "\n",
    "This moves each query structure to dock onto the reference structure."
   ]
  },
  {
   "cell_type": "code",
   "execution_count": 34,
   "metadata": {},
   "outputs": [
    {
     "name": "stdout",
     "output_type": "stream",
     "text": [
      "\n",
      "\n",
      "\n",
      "FORMATTED JMOL/JSMOL COMMANDS:\n",
      " \n",
      "define sel_aa_modelSnm1p 14-25:A and model=1.2;\n",
      "define sel_aa_model6AH3_K 37-48:K and model=1.1;\n",
      "define sel_ab_modelSnm1p 26-33:A and model=1.2;\n",
      "define sel_ab_model6AH3_K 56-63:K and model=1.1;\n",
      "define sel_ac_modelSnm1p 35-43:A and model=1.2;\n",
      "define sel_ac_model6AH3_K 64-72:K and model=1.1;\n",
      "define sel_ad_modelSnm1p 44-56:A and model=1.2;\n",
      "define sel_ad_model6AH3_K 74-86:K and model=1.1;\n",
      "define sel_ae_modelSnm1p 58-79:A and model=1.2;\n",
      "define sel_ae_model6AH3_K 87-108:K and model=1.1;\n",
      "define sel_af_modelSnm1p 100-106:A and model=1.2;\n",
      "define sel_af_model6AH3_K 109-115:K and model=1.1;\n",
      "define sel_ag_modelSnm1p 108-136:A and model=1.2;\n",
      "define sel_ag_model6AH3_K 116-144:K and model=1.1;\n",
      "origcoord = {1.1}.xyz.all;\n",
      "compare {1.2} {1.1} ATOMS {sel_aa_modelSnm1p}{sel_aa_model6AH3_K}, {sel_ab_modelSnm1p}{sel_ab_model6AH3_K}, {sel_ac_modelSnm1p}{sel_ac_model6AH3_K}, {sel_ad_modelSnm1p}{sel_ad_model6AH3_K}, {sel_ae_modelSnm1p}{sel_ae_model6AH3_K}, {sel_af_modelSnm1p}{sel_af_model6AH3_K}, {sel_ag_modelSnm1p}{sel_ag_model6AH3_K} ROTATE TRANSLATE -2.5;\n",
      "\n",
      "\n",
      "define sel_ah_model1x0t 23-33:A and model=1.3;\n",
      "define sel_ah_model6AH3_K 37-47:K and model=1.1;\n",
      "define sel_ai_model1x0t 34-41:A and model=1.3;\n",
      "define sel_ai_model6AH3_K 56-63:K and model=1.1;\n",
      "define sel_aj_model1x0t 43-51:A and model=1.3;\n",
      "define sel_aj_model6AH3_K 64-72:K and model=1.1;\n",
      "define sel_ak_model1x0t 52-86:A and model=1.3;\n",
      "define sel_ak_model6AH3_K 74-108:K and model=1.1;\n",
      "define sel_al_model1x0t 91-97:A and model=1.3;\n",
      "define sel_al_model6AH3_K 109-115:K and model=1.1;\n",
      "define sel_am_model1x0t 99-113:A and model=1.3;\n",
      "define sel_am_model6AH3_K 116-130:K and model=1.1;\n",
      "origcoord = {1.1}.xyz.all;\n",
      "compare {1.3} {1.1} ATOMS {sel_ah_model1x0t}{sel_ah_model6AH3_K}, {sel_ai_model1x0t}{sel_ai_model6AH3_K}, {sel_aj_model1x0t}{sel_aj_model6AH3_K}, {sel_ak_model1x0t}{sel_ak_model6AH3_K}, {sel_al_model1x0t}{sel_al_model6AH3_K}, {sel_am_model1x0t}{sel_am_model6AH3_K} ROTATE TRANSLATE -2.5;\n",
      "\n",
      "\n",
      "define sel_an_modelRpa12p 83-94:I and model=1.4;\n",
      "define sel_an_model6AH3_K 87-98:K and model=1.1;\n",
      "define sel_ao_modelRpa12p 95-98:I and model=1.4;\n",
      "define sel_ao_model6AH3_K 105-108:K and model=1.1;\n",
      "define sel_ap_modelRpa12p 108-114:I and model=1.4;\n",
      "define sel_ap_model6AH3_K 109-115:K and model=1.1;\n",
      "define sel_aq_modelRpa12p 116-125:I and model=1.4;\n",
      "define sel_aq_model6AH3_K 116-125:K and model=1.1;\n",
      "origcoord = {1.1}.xyz.all;\n",
      "compare {1.4} {1.1} ATOMS {sel_an_modelRpa12p}{sel_an_model6AH3_K}, {sel_ao_modelRpa12p}{sel_ao_model6AH3_K}, {sel_ap_modelRpa12p}{sel_ap_model6AH3_K}, {sel_aq_modelRpa12p}{sel_aq_model6AH3_K} ROTATE TRANSLATE -2.5;\n",
      "\n",
      "\n",
      "\n"
     ]
    }
   ],
   "source": [
    "# further prep for Jmol generating commands\n",
    "ref_id_chain = 'K' # for Rpr2, from http://www.rcsb.org/structure/6AGB or http://www.rcsb.org/structure/6AH3\n",
    "# for `query_chains_by_id`, use ids from the MSA file as keys and the\n",
    "# chain designations from the PDB files as the values\n",
    "query_chains_by_id = {'Snm1':'A',\n",
    "                      '1x0t.1.A':'A',\n",
    "                      'Rpa12':'I'}\n",
    "ref_chain_structure = \"6AH3_K\"\n",
    "\n",
    "# for `structures_by_id`, use ids from the MSA file as keys and \n",
    "# the ids in the PDB files (or any text without dashes that makes sense) as values\n",
    "structures_by_id = {'Snm1':'Snm1p',\n",
    "                      '1x0t.1.A':'1x0t',\n",
    "                      'Rpa12':'Rpa12p'}\n",
    "\n",
    "# for `models_by_id`, use ids from the MSA file as keys and the\n",
    "# model number it corresponds to in the merged multi-model as the value\n",
    "ref_model_num = 1\n",
    "models_by_id = {'Snm1':2,\n",
    "                '1x0t.1.A':3,\n",
    "                'Rpa12':4}\n",
    "\n",
    "\n",
    "from itertools import product\n",
    "from string import ascii_lowercase\n",
    "arbitrary_ids = (''.join(i) for i in product(ascii_lowercase, repeat = 2)) # see comment at https://stackoverflow.com/a/7074066/8508004\n",
    "\n",
    "\n",
    "# Convert each dataframe to something similar to `ranges_o_residues_resolved_per_chain_pairs` from the notebook \n",
    "# `Using Biopython PDB module to list resolved residues and construct fit commands`\n",
    "# Example of `ranges_o_residues_resolved_per_chain_pairs` that notebook to base it on:\n",
    "# `{('A', 'F'): ['4:121', '129:158'], ('B', 'G'): ['14:104', '125:140']}`\n",
    "# However, those were in same chain and so more complex here in that regard!\n",
    "# Since need residue positions for both chains it will be more like below for\n",
    "# one reference-query chain pair and for ranges that jmol uses:\n",
    "# `{('A', 'F'): (('4-121', 'x-xxx' ),('129-158', 'xxx-xxx'))}`\n",
    "# And since also will want these to be one for each pairing, I can store each dictionary\n",
    "# in a dictionary with the key of the query as id for all, like so (only two shown for example:\n",
    "# `{'BAH13127.1': {('A', 'G'): [('4-121', 'x-xxx' ),('129-158', 'xxx-xxx')]}, 'STV1':{('A', 'A'): [('14-104', 'x-xxx'),('125-140', 'xxx-xxx')]}`  \n",
    "paired_residue_sets_by_id = {}\n",
    "for id_,df in dfs_by_id.items():\n",
    "    paired_residue_sets = {}\n",
    "    chain_pair = (ref_id_chain,query_chains_by_id[id_])\n",
    "    #iterate through the rows of the dataframe making list of the pairings\n",
    "    pairings = []\n",
    "    for row in df.itertuples(index=False):\n",
    "        pairings.append((f'{row[0]}-{row[1]}',f'{row[2]}-{row[3]}'))\n",
    "    paired_residue_sets[chain_pair] = pairings\n",
    "    paired_residue_sets_by_id[id_] = paired_residue_sets\n",
    "\n",
    "\n",
    "# form commands\n",
    "formatted_commands = \"\"\n",
    "for id_,paired_residue_sets in paired_residue_sets_by_id.items():\n",
    "    # Step through the paired ranges defining selections based on them.\n",
    "    # Collect the names of those selections in `selection_pair_names` because once defined they\n",
    "    # need to called later in the compare command in 2 item sets, one atom set for each chain.\n",
    "    selection_pair_names = [] #to collect two item tuple elements, each item being arbitrarily name of an atom pairing\n",
    "    for chain_pair, paired_list in paired_residue_sets.items():\n",
    "        ref_chain,query_chain = chain_pair\n",
    "        for pos_pair in paired_list:\n",
    "            selection_name_pair = []\n",
    "            sel_id = next(arbitrary_ids)\n",
    "            query_sel_nom = f\"sel_{sel_id}_model{structures_by_id[id_]}\"\n",
    "            formatted_commands += f\"define {query_sel_nom} {pos_pair[1]}:{query_chain} and model=1.{models_by_id[id_]};\\n\"\n",
    "            ref_sel_nom = f\"sel_{sel_id}_model{ref_chain_structure}\"\n",
    "            formatted_commands += f\"define {ref_sel_nom} {pos_pair[0]}:{ref_chain} and model=1.{ref_model_num};\\n\"\n",
    "            selection_pair_names.append((query_sel_nom,ref_sel_nom))\n",
    "    #print(selection_pair_names)\n",
    "    pairs_of_atom_sets = \", \".join(f\"{{{names[0]}}}{{{names[1]}}}\" for names in selection_pair_names)\n",
    "    #print(pairs_of_atom_sets)\n",
    "    formatted_commands += \"origcoord = {1.1}.xyz.all;\\n\"\n",
    "    formatted_commands += f\"compare {{1.{models_by_id[id_]}}} {{1.{ref_model_num}}} ATOMS {pairs_of_atom_sets} ROTATE TRANSLATE -2.5;\\n\"\n",
    "    formatted_commands += \"\\n\\n\"\n",
    "        \n",
    "# residues_resolved_per_chain_b\n",
    "#shared_positions_per_chain_pairs\n",
    "#ranges_o_residues_resolved_per_chain_pairs\n",
    "print(\"\\n\\n\")\n",
    "print (\"FORMATTED JMOL/JSMOL COMMANDS:\")\n",
    "print(\" \")\n",
    "print(formatted_commands)"
   ]
  },
  {
   "cell_type": "code",
   "execution_count": 35,
   "metadata": {},
   "outputs": [
    {
     "name": "stdout",
     "output_type": "stream",
     "text": [
      "Writing 'formatted_commands' (str) to file 'all_jmol_commands.txt'.\n"
     ]
    }
   ],
   "source": [
    "%store formatted_commands > all_jmol_commands.txt"
   ]
  },
  {
   "cell_type": "markdown",
   "metadata": {},
   "source": [
    "Downloaded `all_jmol_commands.txt` to my local drive.\n",
    "\n",
    "Loaded the Proteopedia page I made earlier and then brought up the `Console` for the structure window containing the unsuperimposed structures.\n",
    "\n",
    "Ran `model 0` to show all and then pasted in the Jmol commands to do the fits. When the superposing was complete, I used the following to trigger save structures docked upon one another.\n",
    "\n",
    "    write COORDS PDB \"rpr2_snm1_1x0t_rpa12FIT.pdb\"\n",
    "\n",
    "Saved that to my local drive. It keeps them as multi-model PDB files.\n",
    "\n",
    "----"
   ]
  }
 ],
 "metadata": {
  "kernelspec": {
   "display_name": "Python 3",
   "language": "python",
   "name": "python3"
  },
  "language_info": {
   "codemirror_mode": {
    "name": "ipython",
    "version": 3
   },
   "file_extension": ".py",
   "mimetype": "text/x-python",
   "name": "python",
   "nbconvert_exporter": "python",
   "pygments_lexer": "ipython3",
   "version": "3.6.6"
  }
 },
 "nbformat": 4,
 "nbformat_minor": 2
}
