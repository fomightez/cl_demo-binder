{
 "cells": [
  {
   "cell_type": "markdown",
   "id": "korean-original",
   "metadata": {},
   "source": [
    "# GSD: Conversion of FASTA alignment format to clustal and making of molvis commands\n",
    "\n",
    "The impetus for this notebook is that I used [I-TASSER](https://zhanglab.ccmb.med.umich.edu/I-TASSER/) to model a protein using the 'Specify template with alignment' option, which requires an multiple sequence alignment (MSA) in FASTA format for pasrt of the submission. Now that the model is back I want to use that MSA to produce the fit commands for PyMOL.  \n",
    "\n",
    "This basis for this process can be found split among the following notebooks that should be available in this session, with the order of this listing roughly corresponding to how the steps fit together: \n",
    "\n",
    "- [Convert MSA in FASTA format to clustal format using Bioython](../Conversion%20of%20FASTA%20alignment%20format%20to%20clustal%20using%20Biopython.ipynb)\n",
    "- [Determine residues that match to a reference from multiple sequence alignment and use to construct fit commands](../Determine%20residues%20that%20match%20to%20a%20reference%20from%20MSA%20and%20use%20to%20construct%20fit%20commands.ipynb)\n",
    "\n",
    "\n",
    "\n",
    "-----\n",
    "\n",
    "## Preparation: \n",
    "\n",
    "Preparation steps:\n",
    "- get the necesary scripts\n",
    "- making input for the biopython conversion step"
   ]
  },
  {
   "cell_type": "code",
   "execution_count": null,
   "id": "extraordinary-management",
   "metadata": {},
   "outputs": [],
   "source": [
    "#get scripts to use here\n",
    "import os\n",
    "if not os.path.isfile(\"MSA_to_corresponding_residue_numbers.py\"):\n",
    "    !curl -OL https://raw.githubusercontent.com/fomightez/sequencework/master/alignment-utilities/MSA_to_corresponding_residue_numbers.py"
   ]
  },
  {
   "cell_type": "code",
   "execution_count": null,
   "id": "prime-transaction",
   "metadata": {},
   "outputs": [],
   "source": [
    "s='''FOR MY EYES ONLY\n",
    "'''"
   ]
  },
  {
   "cell_type": "code",
   "execution_count": null,
   "id": "intimate-campbell",
   "metadata": {},
   "outputs": [],
   "source": [
    "%store s >aligned_seqs.fa"
   ]
  },
  {
   "cell_type": "markdown",
   "id": "adopted-bedroom",
   "metadata": {},
   "source": [
    "### Conversion step\n",
    "\n",
    "The convsersion step will take the input represented above and convert it."
   ]
  },
  {
   "cell_type": "code",
   "execution_count": null,
   "id": "legendary-external",
   "metadata": {},
   "outputs": [],
   "source": [
    "# Based on section 'File Format Conversion' at https://biopython.org/wiki/AlignIO\n",
    "from Bio import AlignIO\n",
    "\n",
    "input_handle = open(\"aligned_seqs.fa\", \"r\")\n",
    "output_handle = open(\"aligned_seqs.clw\", \"w\")\n",
    "\n",
    "alignments = AlignIO.parse(input_handle, \"fasta\")\n",
    "AlignIO.write(alignments, output_handle, \"clustal\")\n",
    "\n",
    "output_handle.close()\n",
    "input_handle.close()"
   ]
  },
  {
   "cell_type": "markdown",
   "id": "physical-flower",
   "metadata": {},
   "source": [
    "### Verify conversion result\n",
    "\n",
    "Verify it worked by examining the resulting file `example.clw`."
   ]
  },
  {
   "cell_type": "code",
   "execution_count": null,
   "id": "circular-photographer",
   "metadata": {},
   "outputs": [],
   "source": [
    "!cat aligned_seqs.clw"
   ]
  },
  {
   "cell_type": "markdown",
   "id": "great-chapel",
   "metadata": {},
   "source": [
    "## Using the aligned sequences to make the Fit commands for PyMOL\n",
    "\n",
    "First we'll use the main function of `MSA_to_corresponding_residue_numbers.py` process the multiple sequence\n",
    "alignment in Clustal format and determine the corresponding residue numbers\n",
    "for aligned residues for a specified reference sequence in the alignment and\n",
    "the pairing of it with every other aligned sequence in the multiple sequence\n",
    "alignment. We'll then use that dataframe of corresponding residue numbers to make to produce molecular visualization commands for use in doing the fit in Pymol. \n",
    "\n",
    "First we'll run the command to make the needed dataframe and bring it into the namespace of the notebook."
   ]
  },
  {
   "cell_type": "code",
   "execution_count": null,
   "id": "motivated-effort",
   "metadata": {},
   "outputs": [],
   "source": [
    "from MSA_to_corresponding_residue_numbers import MSA_to_corresponding_residue_numbers\n",
    "ref_id, dfs_by_id = MSA_to_corresponding_residue_numbers(\"aligned_seqs.clw\",\"7c7a:L\", return_dfs = True , supplied_start_pos = [1,3])"
   ]
  },
  {
   "cell_type": "markdown",
   "id": "norman-anatomy",
   "metadata": {},
   "source": [
    "Because there are only two sequences in the alignment, there really is only one dataframe made; however, the scripts and process is set up to handle multiple sequences in the alignment being compared to a reference sequence and so bear that in mind that there is a list of dataframes that happens to only be one and that the code was worked out to loop on multiples."
   ]
  },
  {
   "cell_type": "code",
   "execution_count": null,
   "id": "cooked-cardiff",
   "metadata": {},
   "outputs": [],
   "source": [
    "print(ref_id)"
   ]
  },
  {
   "cell_type": "code",
   "execution_count": null,
   "id": "thick-leader",
   "metadata": {},
   "outputs": [],
   "source": [
    "for ea_id in dfs_by_id:\n",
    "    display(dfs_by_id[ea_id])"
   ]
  },
  {
   "cell_type": "markdown",
   "id": "corresponding-niger",
   "metadata": {},
   "source": [
    "Now the dataframe can be used to make commands based on the identifiers and matching residue numbering.\n",
    "\n",
    "Some additional data needs to be provided because the equivalent chains of the model file and the structure weren't yet provided. \n",
    "\n",
    "Additionally, the PDB id code and/or identifiers used in corresponding Pymol session for those not in PDB must be specified prior to constructing the commands as well."
   ]
  },
  {
   "cell_type": "code",
   "execution_count": null,
   "id": "refined-variance",
   "metadata": {},
   "outputs": [],
   "source": [
    "# further prep for generating commands\n",
    "ref_id_chain = 'L' # for VPH1, from http://www.rcsb.org/structure/6C6L\n",
    "# for `query_chains_by_id`, use ids from the MSA file as keys and the\n",
    "# chain designations from the PDB files as the values\n",
    "query_chains_by_id = {'alignment_id_of_protein_being_modeled':'A',}\n",
    "ref_chain_structure = \"7c7aBIOL\"\n",
    "# for `structures_by_id`, use ids from the MSA file as keys and \n",
    "# the ids in the PDB files as values\n",
    "structures_by_id = {'alignment_id_of_protein_being_modeled':'model1',}\n",
    "\n",
    "# Convert each dataframe to something similar to `ranges_o_residues_resolved_per_chain_pairs` from the notebook \n",
    "# `Using Biopython PDB module to list resolved residues and construct fit commands`\n",
    "# Example of `ranges_o_residues_resolved_per_chain_pairs` that notebook to base it on:\n",
    "# `{('A', 'F'): ['4:121', '129:158'], ('B', 'G'): ['14:104', '125:140']}`\n",
    "# However, those were in same chain and so more complex here in that regard!\n",
    "# Since need residue positions for both chains it will be more like below for\n",
    "# one reference-query chain pair:\n",
    "# `{('A', 'F'): (['4:121', '129:158'],['x:xxx', 'xxx:xxx'])}`\n",
    "# And since also will want these to be one for each pairing, I can store each dictionary\n",
    "# in a dictionary with the key of the query as id for all, like so (only two shown for example:\n",
    "# `{'BAH13127.1': {('A', 'G'): (['4:121', '129:158'],['x:xxx', 'xxx:xxx'])}, 'STV1':{('A', 'A'): (['14:104', '125:140'],['x:xxx', 'xxx:xxx'])}}`  \n",
    "matched_ranges_o_residues_per_chain_pairs_by_id = {}\n",
    "for id_,df in dfs_by_id.items():\n",
    "    matched_ranges_o_residues_per_chain_pairs = {}\n",
    "    chain_pair = (ref_id_chain,query_chains_by_id[id_])\n",
    "    #iterate through the rows of the dataframe making the two lists\n",
    "    ref_list = []\n",
    "    query_list = []\n",
    "    for row in df.itertuples(index=False):\n",
    "        ref_list.append(f'{row[0]}:{row[1]}')\n",
    "        query_list.append(f'{row[2]}:{row[3]}')\n",
    "    matched_ranges_o_residues_per_chain_pairs[chain_pair] = (ref_list,query_list)\n",
    "    matched_ranges_o_residues_per_chain_pairs_by_id[id_] = matched_ranges_o_residues_per_chain_pairs\n",
    "\n",
    "# form commands\n",
    "formatted_commands = \"\"\n",
    "for id_,matched_ranges_per_ch_p in matched_ranges_o_residues_per_chain_pairs_by_id.items():\n",
    "    selection_pairs = [] #to collect two item tuple elements, each item being a name\n",
    "    for chain_pair in matched_ranges_per_ch_p:\n",
    "        structures = (ref_chain_structure, structures_by_id[id_])\n",
    "        selection_name_pair = []\n",
    "        for indx,chain in enumerate(chain_pair):\n",
    "            sel_nom = f\"{structures[indx]}ch{chain}CA\" #`CA` at end stands for `name CA` / alpha-carbon\n",
    "            formatted_commands += f\"select {sel_nom},\"\n",
    "            formatted_commands += \"|\".join( f\" {structures[indx]} and resid {pos_range} and chain {chain} and name CA \" \n",
    "                                           for pos_range in matched_ranges_per_ch_p[chain_pair][indx] ) \n",
    "            #for pos_range in ranges_o_residues_resolved_per_chain_pairs[chain_pair]:\n",
    "             #   formatted_commands += f\"{structures[indx].id} and resid {pos_range} and chain {chain} and name CA\"\n",
    "            formatted_commands += \"\\n\"\n",
    "            selection_name_pair.append(sel_nom)\n",
    "        selection_pairs.append(selection_name_pair)\n",
    "    first_structure_selections = \"|\".join(f\" {x[0]} \" for x in selection_pairs)\n",
    "    second_structure_selections = \"|\".join(f\" {x[1]} \" for x in selection_pairs)\n",
    "    formatted_commands += f\"pair_fit ( {first_structure_selections}), ( {second_structure_selections})\"\n",
    "    formatted_commands += \"\\n\\n\"\n",
    "        \n",
    "# residues_resolved_per_chain_b\n",
    "#shared_positions_per_chain_pairs\n",
    "#ranges_o_residues_resolved_per_chain_pairs\n",
    "print(\"\\n\\n\")\n",
    "print (\"FORMATTED PYMOL COMMANDS:\")\n",
    "print(\" \")\n",
    "print(formatted_commands)"
   ]
  },
  {
   "cell_type": "markdown",
   "id": "flexible-phone",
   "metadata": {},
   "source": [
    "-------\n",
    "\n",
    "Enjoy."
   ]
  }
 ],
 "metadata": {
  "kernelspec": {
   "display_name": "Python 3",
   "language": "python",
   "name": "python3"
  },
  "language_info": {
   "codemirror_mode": {
    "name": "ipython",
    "version": 3
   },
   "file_extension": ".py",
   "mimetype": "text/x-python",
   "name": "python",
   "nbconvert_exporter": "python",
   "pygments_lexer": "ipython3",
   "version": "3.7.10"
  }
 },
 "nbformat": 4,
 "nbformat_minor": 5
}
