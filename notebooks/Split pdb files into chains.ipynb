{
 "cells": [
  {
   "cell_type": "markdown",
   "metadata": {},
   "source": [
    "# Split PDB files into chains using command line\n",
    "\n",
    "Alternative to `pdbsplit` illustrated [here](https://nbviewer.jupyter.org/github/fomightez/bio3d-binder/blob/master/index.ipynb); the demostration notebook is launchable in active form by clicking on any `launch binder` badge [here](https://github.com/fomightez/bio3d-binder).\n",
    "\n",
    "If you'd prefer a graphical user environment, as described [here](https://sourceforge.net/p/pymol/mailman/message/30683050/), PyMol has a way to do this and a script is also available (see bottom of that email thread)."
   ]
  },
  {
   "cell_type": "markdown",
   "metadata": {},
   "source": [
    "-----\n",
    "\n",
    "Preparation\n",
    "\n",
    "Get files to use in demonstration. This first one is both protein and RNA, and so it will be a good test of generality."
   ]
  },
  {
   "cell_type": "code",
   "execution_count": 1,
   "metadata": {},
   "outputs": [
    {
     "name": "stdout",
     "output_type": "stream",
     "text": [
      "  % Total    % Received % Xferd  Average Speed   Time    Time     Time  Current\n",
      "                                 Dload  Upload   Total   Spent    Left  Speed\n",
      "100  519k  100  519k    0     0   399k      0  0:00:01  0:00:01 --:--:--  399k\n",
      "  % Total    % Received % Xferd  Average Speed   Time    Time     Time  Current\n",
      "                                 Dload  Upload   Total   Spent    Left  Speed\n",
      "100  351k  100  351k    0     0   947k      0 --:--:-- --:--:-- --:--:--  947k\n"
     ]
    }
   ],
   "source": [
    "!curl -OL https://files.rcsb.org/download/6AH3.pdb.gz\n",
    "!gunzip 6AH3.pdb.gz\n",
    "!curl -OL https://files.rcsb.org/download/1l0l.pdb.gz\n",
    "!gunzip 1l0l.pdb.gz"
   ]
  },
  {
   "cell_type": "markdown",
   "metadata": {},
   "source": [
    "------"
   ]
  },
  {
   "cell_type": "markdown",
   "metadata": {},
   "source": [
    "\n",
    "\n",
    "## Bash/sed method\n",
    "\n",
    "Basics from [here](https://sourceforge.net/p/pymol/mailman/message/30683050/) , see 'Sed method' section below for basics of that part:"
   ]
  },
  {
   "cell_type": "code",
   "execution_count": 2,
   "metadata": {},
   "outputs": [],
   "source": [
    "%%bash\n",
    "pdb=6AH3.pdb\n",
    "for chain in $(grep \"^ATOM\" $pdb | cut -b 22 | sort -u); do sed -n \"/^.\\{21\\}$chain/p\" $pdb > ${pdb%.pdb}_$chain.pdb; done"
   ]
  },
  {
   "cell_type": "markdown",
   "metadata": {},
   "source": [
    "To take [Tsjerk's advice](https://sourceforge.net/p/pymol/mailman/message/30683050/) and make it a script:"
   ]
  },
  {
   "cell_type": "code",
   "execution_count": 3,
   "metadata": {},
   "outputs": [
    {
     "name": "stdout",
     "output_type": "stream",
     "text": [
      "Writing 's' (str) to file 'split_into_chains.sh'.\n"
     ]
    }
   ],
   "source": [
    "s='''#!/bin/bash\n",
    "pdb=$1\n",
    "for chain in $(grep \"^ATOM\" $pdb | cut -b 22 | sort -u)\n",
    "do\n",
    "    sed -n \"/^.\\{21\\}$chain/p\" $pdb > ${pdb%.pdb}_$chain.pdb\n",
    "done'''\n",
    "\n",
    "%store s > split_into_chains.sh"
   ]
  },
  {
   "cell_type": "markdown",
   "metadata": {},
   "source": [
    "Now to use that script.  \n",
    "(You'd leave out the ! if you were actually running this in a shell terminal.)"
   ]
  },
  {
   "cell_type": "code",
   "execution_count": 4,
   "metadata": {},
   "outputs": [],
   "source": [
    "!bash split_into_chains.sh 1l0l.pdb"
   ]
  },
  {
   "cell_type": "markdown",
   "metadata": {},
   "source": [
    "## Sed method\n",
    "\n",
    "Basics from [here](https://sourceforge.net/p/pymol/mailman/message/30683050/):"
   ]
  },
  {
   "cell_type": "code",
   "execution_count": 5,
   "metadata": {},
   "outputs": [],
   "source": [
    "%%bash\n",
    "sed -n \"/^.\\{21\\}A/p\" 6AH3.pdb > 6AH3_A.pdb\n",
    "sed -n \"/^.\\{21\\}B/p\" 6AH3.pdb > 6AH3_B.pdb\n",
    "sed -n \"/^.\\{21\\}C/p\" 6AH3.pdb > 6AH3_C.pdb"
   ]
  },
  {
   "cell_type": "markdown",
   "metadata": {},
   "source": [
    "I thought taking advantage of the Jupyter/Python magic here, I'd be able to combinine the above process more simply into a loop than the Bash method and at least semi automate it. However, even though the next cell works to send a Python variable to a `sed` command, I couldn't get it to work here. I know the issue had something to do with the curly braces were already included in the command but I couldn't fix it despite trying many combinations and advice from [here](https://stackoverflow.com/questions/50649280/jupyter-shell-assignment-passing-variables-to-sed/50649532#50649532) and on pages linked therein. However, the Bash/sed method (see above) automates reading in the actual chain designations and using sed. That is fairly streamlined, and only slightly less clear to read than what I would have managed with Python anyway."
   ]
  },
  {
   "cell_type": "code",
   "execution_count": 6,
   "metadata": {},
   "outputs": [
    {
     "name": "stdout",
     "output_type": "stream",
     "text": [
      "STARTING FROM:\n",
      ">evoli\n",
      "atctgatctggggcgaaatgagactgatctgatctggtctgtggcg\n",
      "\n",
      "AFTER PASS VARIABLE FROM PYTHON TO A sed COMMAND, GET:\n",
      ">cerevisiae\n",
      "atctgatctggggcgaaatgagactgatctgatctggtctgtggcg\n",
      "\n"
     ]
    }
   ],
   "source": [
    "#write example FASTA to file  \n",
    "s = '''>evoli\n",
    "atctgatctggggcgaaatgagactgatctgatctggtctgtggcg\n",
    "'''\n",
    "\n",
    "!echo \"{s}\" > S288c.mt.genome.fa\n",
    "#view start\n",
    "print (\"STARTING FROM:\")\n",
    "!head S288c.mt.genome.fa\n",
    "\n",
    "# So passing this way to sed works\n",
    "var = \"cerevisiae\"\n",
    "!sed -i \"1s/.*/>{var}/\" S288c.mt.genome.fa\n",
    "\n",
    "#view result\n",
    "print (\"AFTER PASS VARIABLE FROM PYTHON TO A sed COMMAND, GET:\")\n",
    "!head S288c.mt.genome.fa"
   ]
  },
  {
   "cell_type": "code",
   "execution_count": 7,
   "metadata": {},
   "outputs": [],
   "source": [
    "# ALL THESE FAIL, leaving as a note to self of what I wanted to do and tried (also tried double curly braces [not shown] here which I had seen necessary to get regular expression search terms that featured them from command line into python)\n",
    "'''chains = [\"A\",\"B\",\"C\",\"D\",\"E\",\"F\",\"G\",\"H\",\"I\",\"J\",\"K\",\"T\"]\n",
    "-OR-\n",
    "import string\n",
    "chains = list(string.ascii_uppercase)[:11]#based on https://stackoverflow.com/questions/16060899/alphabet-range-python/31888217\n",
    "chains.append(\"T\")\n",
    "import re\n",
    "for chain in chains:\n",
    "    chain_esc = re.escape(chain)\n",
    "    #!echo $chain > tst.tst\n",
    "    fn = \"6AH3_{}.pdb\".format(chain)\n",
    "    #!echo $chain >$fn\n",
    "    #!sed -n \"/^.\\{21\\}{chain}/p\" 6AH3.pdb > \\{fn\\}\n",
    "    var = !sed -n \"/^.\\{21\\}{chain_esc}/p\" 6AH3.pdb\n",
    "    print (var.n[:100])\n",
    "    #print (var.n[1:100])\n",
    "    #!echo {var.n} > {fn}\n",
    "'''\n",
    "'''\n",
    "for chain in chains:\n",
    "    #!echo {chain} > 6AH3_{chain}.pdb # FAILS DUE TO METHOD TO PASS PYTHON VARIABLE AND SED REGEX OVERLAP, it seems.\n",
    "    #!sed -n \"/^.\\{21\\}\\{chain\\}/p\" 6AH3.pdb > 6AH3_\\{chain\\}.pdb # FAILS DUE TO METHOD TO PASS PYTHON VARIABLE AND SED REGEX OVERLAP, it seems.\n",
    "    chain_esc = re.escape(chain) #based on https://stackoverflow.com/a/50649532/8508004\n",
    "    #!echo {chain_esc} > 6AH3_{chain}.pdb # FAILS DUE TO METHOD TO PASS PYTHON VARIABLE AND SED REGEX OVERLAP, it seems.\n",
    "    \n",
    "    #!sed -n \"/^.\\{21\\}\\{chain\\}/p\" 6AH3.pdb > 6AH3_\\{chain\\}.pdb #seems to work (I think); combines \n",
    "    # https://stackoverflow.com/a/16790880/8508004 and https://stackoverflow.com/a/50649532/8508004\n",
    "    #!sed -n \"/^.\\{21\\}{chain_esc}/p\" 6AH3.pdb > 6AH3_{chain_esc}.pdb # FAILS\n",
    "    !sed -n \"/^.\\{21\\}{\\chain\\}/p\" 6AH3.pdb > 6AH3_{chain}.pdb\n",
    "''';"
   ]
  },
  {
   "cell_type": "markdown",
   "metadata": {},
   "source": [
    "ALong these lines of frustration/puzzlement, was that I could get bash to echo chain (or a python list) with \n",
    "\n",
    "    !echo $chain\n",
    "    !echo {chain}\n",
    "    !FOO=`python -c 'print (\" \".join([\"A\",\"B\",\"C\",\"D\",\"E\",\"F\",\"G\",\"H\",\"I\",\"J\",\"K\",\"T\"]))'`;echo $FOO #based on https://stackoverflow.com/a/11392201/8508004\n",
    "\n",
    "But I couldn't work out how to pass that to a BASH varible; all these failed?!?:\n",
    "\n",
    "    #!sed -n \"/^.\\{21\\}{chain}/p\" 6AH3.pdb > \\{fn\\}\n",
    "    !python -c 'print (chain_esc)'\n",
    "    #!bchain=$(echo $chain); echo $bchain\n",
    "    #!bchain=$(echo {chain}); echo $bchain\n",
    "    #!bchain=$(echo {chain}); echo $bchain\n",
    "    #!bchain=$(echo \\{chain\\}); echo $bchain\n",
    "    #!bchain=$(echo {{chain}}); echo $bchain\n",
    "    #!bchain=$(python -c 'print ($chain)'); echo $bchain\n",
    "    #!bchainecho $chain;echo $bchain\n",
    "    #!bchain=3;echo $bchain\n",
    "    #!bchain=\"{chain}\";echo -i $bchain;sed -n \"/^.\\{21\\}$bchain/p\" 6AH3.pdb"
   ]
  },
  {
   "cell_type": "markdown",
   "metadata": {},
   "source": [
    "My idea was that if I could pass it to Bash, I could use the sed command in the 'Bash/sed method'. But I couldn't?!?!\n",
    "(Note that I could have used `%%bash -s \"$myPythonVar\" \"$myOtherVar\"` to definitely pass a python variable into Bash, but that would have locked me into using Bash at that point to make the loop and so I'd be right back to what the 'Bash/sed method' already handles.)\n",
    "By the way, the [bottom of this page](https://www.tldp.org/LDP/abs/html/varassignment.html) , had good coverage of how var=`echo chain` (NOTE BACKTICKS USED!!!) became var=$(echo chain)"
   ]
  },
  {
   "cell_type": "markdown",
   "metadata": {},
   "source": [
    "------\n",
    "Tried this **AWK** one from [here](https://bougui505.github.io/2017/03/15/split_a_multi_chain_pdb_into_one_pdb_file_per_chain_using_awk.html), but I couldn't get it to work yet."
   ]
  },
  {
   "cell_type": "code",
   "execution_count": 8,
   "metadata": {},
   "outputs": [
    {
     "name": "stdout",
     "output_type": "stream",
     "text": [
      "  % Total    % Received % Xferd  Average Speed   Time    Time     Time  Current\n",
      "                                 Dload  Upload   Total   Spent    Left  Speed\n",
      "100   703  100   703    0     0   3480      0 --:--:-- --:--:-- --:--:--  3480\n"
     ]
    }
   ],
   "source": [
    "!curl -O https://gist.githubusercontent.com/bougui505/e9cae5e9a8b3c3c4a65e699ab0e0a20e/raw/3baf7ad9eb5b0660d1b4c13c5a3fee6750aecfcb/split_chains.awk"
   ]
  },
  {
   "cell_type": "code",
   "execution_count": 9,
   "metadata": {},
   "outputs": [
    {
     "name": "stdout",
     "output_type": "stream",
     "text": [
      "awk: 1: unexpected character '.'\r\n"
     ]
    }
   ],
   "source": [
    "!awk split_chains.awk 6AH3.pdb"
   ]
  },
  {
   "cell_type": "code",
   "execution_count": 10,
   "metadata": {},
   "outputs": [],
   "source": [
    "!awk -f split_chains.awk 6AH3.pdb #based on https://stackoverflow.com/questions/13045110/awk-1-unexpected-character-suddenly-appeared"
   ]
  },
  {
   "cell_type": "markdown",
   "metadata": {},
   "source": [
    "-----"
   ]
  },
  {
   "cell_type": "markdown",
   "metadata": {},
   "source": [
    "## Collect files for easy downloading"
   ]
  },
  {
   "cell_type": "code",
   "execution_count": 11,
   "metadata": {},
   "outputs": [],
   "source": [
    "!tar czf 6AH3_chains.tar.gz 6AH3_*.pdb"
   ]
  },
  {
   "cell_type": "code",
   "execution_count": 12,
   "metadata": {},
   "outputs": [],
   "source": [
    "!tar czf 1l0l_chains.tar.gz 1l0l_*.pdb"
   ]
  },
  {
   "cell_type": "markdown",
   "metadata": {},
   "source": [
    "Download the two gzipped tarballed archives to your local machine."
   ]
  }
 ],
 "metadata": {
  "kernelspec": {
   "display_name": "Python 3",
   "language": "python",
   "name": "python3"
  },
  "language_info": {
   "codemirror_mode": {
    "name": "ipython",
    "version": 3
   },
   "file_extension": ".py",
   "mimetype": "text/x-python",
   "name": "python",
   "nbconvert_exporter": "python",
   "pygments_lexer": "ipython3",
   "version": "3.6.6"
  }
 },
 "nbformat": 4,
 "nbformat_minor": 2
}
