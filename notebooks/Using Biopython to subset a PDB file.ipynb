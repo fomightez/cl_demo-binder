{
 "cells": [
  {
   "cell_type": "markdown",
   "metadata": {},
   "source": [
    "# Using Biopython to subset a PDB file\n",
    "\n",
    "For when you need a specific part or parts of a structure file that is multi-chain in nature. In other words, when you need specify more of a complex selection than just the specific individual chains that you could generate via routes demonstrated in the ['split PDB files into chains using command line' demo notebook](cl_demo-binder%20split%20pdb%20files%20into%20chains.ipynb).\n",
    "\n",
    "This will build up to more complex examples of that situation. The final example illustrated is when you want two chains and part of a third.  "
   ]
  },
  {
   "cell_type": "code",
   "execution_count": 1,
   "metadata": {},
   "outputs": [
    {
     "name": "stdout",
     "output_type": "stream",
     "text": [
      "  % Total    % Received % Xferd  Average Speed   Time    Time     Time  Current\n",
      "                                 Dload  Upload   Total   Spent    Left  Speed\n",
      "100  491k  100  491k    0     0   886k      0 --:--:-- --:--:-- --:--:--  886k\n",
      "  % Total    % Received % Xferd  Average Speed   Time    Time     Time  Current\n",
      "                                 Dload  Upload   Total   Spent    Left  Speed\n",
      "100  519k  100  519k    0     0  1175k      0 --:--:-- --:--:-- --:--:-- 1175k\n"
     ]
    }
   ],
   "source": [
    "#get stucture\n",
    "!curl -OL https://files.rcsb.org/download/6AGB.pdb.gz\n",
    "!gunzip 6AGB.pdb.gz"
   ]
  },
  {
   "cell_type": "code",
   "execution_count": 2,
   "metadata": {},
   "outputs": [],
   "source": [
    "# Basic example in Biopython Bio.PDB documentation under 'Can I write PDB files?' section:\n",
    "# Limit to glycine residues\n",
    "\n",
    "# Use of Biopython's Bio.PDB based on\n",
    "# https://biopython.org/wiki/The_Biopython_Structural_Bioinformatics_FAQ\n",
    "\n",
    "# The code as written at the time didn't work (see\n",
    "# https://github.com/biopython/biopython/blob/d7789a5041802405204666f7e033981dd03cf14c/Doc/Tutorial/chapter_pdb.tex )\n",
    "# , searching the error `'Residue' object has no attribute 'get_name' bio.pdb`\n",
    "# lead me to http://biopython.org/DIST/docs/api/Bio.PDB.Residue.Residue-class.html\n",
    "# which made me realize I needed to change `residue.get_name()` to\n",
    "# `residue.get_resname()`\n",
    "from Bio.PDB import *\n",
    "structure = PDBParser().get_structure('6AGB', '6AGB.pdb')\n",
    "\n",
    "\n",
    "class GlySelect(Select):\n",
    "    def accept_residue(self, residue):\n",
    "        if residue.get_resname()=='GLY':\n",
    "            return 1\n",
    "        else:\n",
    "            return 0\n",
    "        \n",
    "io = PDBIO()\n",
    "io.set_structure(structure)\n",
    "# save it\n",
    "io.save('gly_only.pdb', GlySelect())"
   ]
  },
  {
   "cell_type": "markdown",
   "metadata": {},
   "source": [
    "Verify that worked:"
   ]
  },
  {
   "cell_type": "code",
   "execution_count": 3,
   "metadata": {},
   "outputs": [
    {
     "name": "stdout",
     "output_type": "stream",
     "text": [
      "ATOM    417  N   GLY J 265     207.436 158.894 133.296  1.00 63.70           N  \n",
      "ATOM    418  CA  GLY J 265     206.800 158.694 132.009  1.00 63.70           C  \n",
      "ATOM    419  C   GLY J 265     205.980 159.889 131.568  1.00 63.70           C  \n",
      "ATOM    420  O   GLY J 265     205.452 159.911 130.452  1.00 63.70           O  \n",
      "ATOM    421  N   GLY J 285     186.291 146.647 121.054  1.00 65.09           N  \n",
      "ATOM    422  CA  GLY J 285     185.022 146.679 121.753  1.00 65.09           C  \n",
      "ATOM    423  C   GLY J 285     185.169 146.611 123.259  1.00 65.09           C  \n",
      "ATOM    424  O   GLY J 285     185.830 147.460 123.865  1.00 65.09           O  \n",
      "TER     425      GLY J 285                                                       \n",
      "ATOM    425  N   GLY K  18     182.279 210.510 116.554  1.00135.65           N  \n",
      "ATOM    426  CA  GLY K  18     182.997 209.879 117.651  1.00135.65           C  \n",
      "ATOM    427  C   GLY K  18     184.378 209.420 117.233  1.00135.65           C  \n",
      "ATOM    428  O   GLY K  18     184.976 209.963 116.297  1.00135.65           O  \n",
      "ATOM    429  N   GLY K 109     148.621 186.451 103.173  1.00108.73           N  \n",
      "ATOM    430  CA  GLY K 109     149.588 187.094 104.038  1.00108.73           C  \n",
      "ATOM    431  C   GLY K 109     150.881 187.385 103.307  1.00108.73           C  \n",
      "ATOM    432  O   GLY K 109     150.864 187.952 102.210  1.00108.73           O  \n",
      "ATOM    433  N   GLY K 116     157.217 170.382 112.114  1.00 94.70           N  \n",
      "ATOM    434  CA  GLY K 116     156.584 169.165 112.597  1.00 94.70           C  \n",
      "ATOM    435  C   GLY K 116     155.919 169.352 113.946  1.00 94.70           C  \n",
      "ATOM    436  O   GLY K 116     154.871 168.764 114.225  1.00 94.70           O  \n",
      "ATOM    437  N   GLY K 118     154.632 172.180 115.055  1.00 94.54           N  \n",
      "ATOM    438  CA  GLY K 118     153.564 173.150 114.964  1.00 94.54           C  \n",
      "ATOM    439  C   GLY K 118     154.003 174.594 115.089  1.00 94.54           C  \n",
      "ATOM    440  O   GLY K 118     153.204 175.493 114.798  1.00 94.54           O  \n",
      "ATOM    441  N   GLY K 126     155.941 190.053 101.668  1.00100.79           N  \n",
      "ATOM    442  CA  GLY K 126     155.047 190.646 100.694  1.00100.79           C  \n",
      "ATOM    443  C   GLY K 126     154.952 192.155 100.787  1.00100.79           C  \n",
      "ATOM    444  O   GLY K 126     154.194 192.779 100.039  1.00100.79           O  \n",
      "ATOM    445  N   GLY K 139     178.696 197.823 104.215  1.00 89.93           N  \n",
      "ATOM    446  CA  GLY K 139     179.694 197.973 105.255  1.00 89.93           C  \n",
      "ATOM    447  C   GLY K 139     179.117 198.028 106.654  1.00 89.93           C  \n",
      "ATOM    448  O   GLY K 139     178.764 199.104 107.145  1.00 89.93           O  \n",
      "TER     449      GLY K 139                                                       \n",
      "END\n"
     ]
    }
   ],
   "source": [
    "!tail -35 gly_only.pdb"
   ]
  },
  {
   "cell_type": "markdown",
   "metadata": {},
   "source": [
    "### More complex example #1"
   ]
  },
  {
   "cell_type": "code",
   "execution_count": 4,
   "metadata": {},
   "outputs": [],
   "source": [
    "# Want chains A, F, and G  \n",
    "\n",
    "# Use of Biopython's Bio.PDB based on\n",
    "# https://biopython.org/wiki/The_Biopython_Structural_Bioinformatics_FAQ\n",
    "\n",
    "from Bio.PDB import *\n",
    "structure = PDBParser().get_structure('6AGB', '6AGB.pdb')\n",
    "\n",
    "     \n",
    "class MyLimit(Select):\n",
    "    def accept_chain(self, chain):\n",
    "        allowed_chains = [\"A\",\"F\",\"G\"]\n",
    "        if str(chain.id) in allowed_chains:\n",
    "            return 1\n",
    "        else:\n",
    "            return 0\n",
    "        \n",
    "\n",
    "io = PDBIO()\n",
    "io.set_structure(structure)\n",
    "#print(structure)\n",
    "# save it\n",
    "io.save('POP6nPOP7nChainA.pdb', MyLimit())"
   ]
  },
  {
   "cell_type": "markdown",
   "metadata": {},
   "source": [
    "### More complex example #2"
   ]
  },
  {
   "cell_type": "code",
   "execution_count": 22,
   "metadata": {},
   "outputs": [],
   "source": [
    "# Limit to glycine residues in chains F and G  \n",
    "\n",
    "# Because want to limit at least one chain to specific residues,\n",
    "# target the selection limitation to `accept_residue()`.\n",
    "# If target to `accept_chain()`, didn't seem I could use selection to limit further.\n",
    "\n",
    "# Use of `residue.get_parent()` idea based on seeing it listed\n",
    "# at http://biopython.org/DIST/docs/api/Bio.PDB.Chain.Chain-class.html\n",
    "# and trying `print (residue.get_parent())` within `accept_residue()` in\n",
    "# the subclassing of select. Then I added in the `.id` use I used in\n",
    "# the above example.\n",
    "from Bio.PDB import *\n",
    "structure = PDBParser().get_structure('6AGB', '6AGB.pdb')\n",
    "\n",
    "     \n",
    "class MyLimit(Select):\n",
    "    def accept_residue(self, residue):\n",
    "        allowed_chains = [\"F\",\"G\"]\n",
    "        if str(residue.get_parent().id) in allowed_chains:\n",
    "            if residue.get_resname()=='GLY':\n",
    "                return 1\n",
    "            else:\n",
    "                return 0\n",
    "        else:\n",
    "            return 0\n",
    "\n",
    "\n",
    "io = PDBIO()\n",
    "io.set_structure(structure)\n",
    "#print(structure)\n",
    "# save it\n",
    "io.save('POP6nPOP7nChainAGlys.pdb', MyLimit())"
   ]
  },
  {
   "cell_type": "markdown",
   "metadata": {},
   "source": [
    "Verify that worked:"
   ]
  },
  {
   "cell_type": "code",
   "execution_count": 24,
   "metadata": {},
   "outputs": [
    {
     "name": "stdout",
     "output_type": "stream",
     "text": [
      "ATOM      1  N   GLY F   4     184.999 149.414 228.507  1.00 69.09           N  \n",
      "ATOM      2  CA  GLY F   4     185.232 150.460 229.482  1.00 69.09           C  \n",
      "ATOM      3  C   GLY F   4     184.376 151.692 229.279  1.00 69.09           C  \n",
      "ATOM      4  O   GLY F   4     183.962 151.995 228.155  1.00 69.09           O  \n",
      "ATOM      5  N   GLY F  38     177.548 175.546 247.273  1.00118.22           N  \n",
      "ATOM      6  CA  GLY F  38     178.156 176.109 248.468  1.00118.22           C  \n",
      "ATOM      7  C   GLY F  38     178.026 177.618 248.560  1.00118.22           C  \n",
      "ATOM      8  O   GLY F  38     177.754 178.160 249.635  1.00118.22           O  \n",
      "ATOM      9  N   GLY F  48     167.256 160.329 240.620  1.00 71.96           N  \n",
      "ATOM     10  CA  GLY F  48     167.485 159.634 239.368  1.00 71.96           C  \n",
      " \n",
      "ATOM     45  N   GLY G 107     130.418 146.992 219.222  1.00106.36           N  \n",
      "ATOM     46  CA  GLY G 107     129.051 147.403 219.484  1.00106.36           C  \n",
      "ATOM     47  C   GLY G 107     128.023 146.575 218.739  1.00106.36           C  \n",
      "ATOM     48  O   GLY G 107     128.113 145.348 218.694  1.00106.36           O  \n",
      "ATOM     49  N   GLY G 133     158.678 164.462 224.225  1.00 47.45           N  \n",
      "ATOM     50  CA  GLY G 133     159.697 164.480 223.194  1.00 47.45           C  \n",
      "ATOM     51  C   GLY G 133     160.723 165.579 223.367  1.00 47.45           C  \n",
      "ATOM     52  O   GLY G 133     160.557 166.471 224.205  1.00 47.45           O  \n",
      "TER      53      GLY G 133                                                       \n",
      "END\n"
     ]
    }
   ],
   "source": [
    "!head POP6nPOP7nChainAGlys.pdb\n",
    "print(\" \")\n",
    "!tail POP6nPOP7nChainAGlys.pdb"
   ]
  },
  {
   "cell_type": "markdown",
   "metadata": {},
   "source": [
    "### More complex example #2 (alternative version)"
   ]
  },
  {
   "cell_type": "code",
   "execution_count": 32,
   "metadata": {},
   "outputs": [],
   "source": [
    "# Limit to glycine residues in chains F and G  \n",
    "\n",
    "# Because want to limit at least one chain to specific residues,\n",
    "# target the selection limitation to `accept_residue()`.\n",
    "# If target to `accept_chain()`, didn't seem I could use selection to limit further.\n",
    "\n",
    "# Use of `residue.get_full_id()` idea based on \n",
    "# http://biopython.org/DIST/docs/api/Bio.PDB.Entity.Entity-class.html#get_full_id\n",
    "# that I was lead to from \n",
    "# http://biopython.org/DIST/docs/api/Bio.PDB.Chain.Chain-class.html .\n",
    "# Not as immediately transparent as above version because have to know item at index 2 is the\n",
    "# chain id, but since it is a consistent structure,models, chains, and residues hierarchy, it \n",
    "# makes sense once you are aware.\n",
    "\n",
    "from Bio.PDB import *\n",
    "structure = PDBParser().get_structure('6AGB', '6AGB.pdb')\n",
    "\n",
    "     \n",
    "class MyLimit(Select):\n",
    "    def accept_residue(self, residue):\n",
    "        allowed_chains = [\"F\",\"G\"]\n",
    "        if str(residue.get_full_id()[2]) in allowed_chains:\n",
    "            if residue.get_resname()=='GLY':\n",
    "                return 1\n",
    "            else:\n",
    "                return 0\n",
    "        else:\n",
    "            return 0\n",
    "\n",
    "\n",
    "io = PDBIO()\n",
    "io.set_structure(structure)\n",
    "#print(structure)\n",
    "# save it\n",
    "io.save('POP6nPOP7nChainAGlys_fid.pdb', MyLimit())"
   ]
  },
  {
   "cell_type": "markdown",
   "metadata": {},
   "source": [
    "Verify that worked:"
   ]
  },
  {
   "cell_type": "code",
   "execution_count": 33,
   "metadata": {},
   "outputs": [
    {
     "name": "stdout",
     "output_type": "stream",
     "text": [
      "ATOM      1  N   GLY F   4     184.999 149.414 228.507  1.00 69.09           N  \n",
      "ATOM      2  CA  GLY F   4     185.232 150.460 229.482  1.00 69.09           C  \n",
      "ATOM      3  C   GLY F   4     184.376 151.692 229.279  1.00 69.09           C  \n",
      "ATOM      4  O   GLY F   4     183.962 151.995 228.155  1.00 69.09           O  \n",
      "ATOM      5  N   GLY F  38     177.548 175.546 247.273  1.00118.22           N  \n",
      "ATOM      6  CA  GLY F  38     178.156 176.109 248.468  1.00118.22           C  \n",
      "ATOM      7  C   GLY F  38     178.026 177.618 248.560  1.00118.22           C  \n",
      "ATOM      8  O   GLY F  38     177.754 178.160 249.635  1.00118.22           O  \n",
      "ATOM      9  N   GLY F  48     167.256 160.329 240.620  1.00 71.96           N  \n",
      "ATOM     10  CA  GLY F  48     167.485 159.634 239.368  1.00 71.96           C  \n",
      " \n",
      "ATOM     45  N   GLY G 107     130.418 146.992 219.222  1.00106.36           N  \n",
      "ATOM     46  CA  GLY G 107     129.051 147.403 219.484  1.00106.36           C  \n",
      "ATOM     47  C   GLY G 107     128.023 146.575 218.739  1.00106.36           C  \n",
      "ATOM     48  O   GLY G 107     128.113 145.348 218.694  1.00106.36           O  \n",
      "ATOM     49  N   GLY G 133     158.678 164.462 224.225  1.00 47.45           N  \n",
      "ATOM     50  CA  GLY G 133     159.697 164.480 223.194  1.00 47.45           C  \n",
      "ATOM     51  C   GLY G 133     160.723 165.579 223.367  1.00 47.45           C  \n",
      "ATOM     52  O   GLY G 133     160.557 166.471 224.205  1.00 47.45           O  \n",
      "TER      53      GLY G 133                                                       \n",
      "END\n"
     ]
    }
   ],
   "source": [
    "!head POP6nPOP7nChainAGlys_fid.pdb\n",
    "print(\" \")\n",
    "!tail POP6nPOP7nChainAGlys_fid.pdb"
   ]
  },
  {
   "cell_type": "markdown",
   "metadata": {},
   "source": [
    "### More complex example #3"
   ]
  },
  {
   "cell_type": "code",
   "execution_count": 45,
   "metadata": {},
   "outputs": [],
   "source": [
    "# Want chain F and chain G and residues 32 - 85 of Chain A\n",
    "\n",
    "# Because want to limit at least one chain to specific residues,\n",
    "# target the selection limitation to `accept_chain()`.\n",
    "\n",
    "# Based on earlier examples with the addition of use of `residue.get_id()` to\n",
    "# get the residue id tuple that is explained under 'What is a residue id?' section\n",
    "# of https://biopython.org/wiki/The_Biopython_Structural_Bioinformatics_FAQ\n",
    "from Bio.PDB import *\n",
    "structure = PDBParser().get_structure('6AGB', '6AGB.pdb')\n",
    "\n",
    "class MyLimit(Select):\n",
    "    def accept_residue(self, residue):\n",
    "        allowed_full_chains = [\"F\",\"G\"]\n",
    "        allowed_partial_chain = \"A\"\n",
    "        res_in_chain_A_allowed = (32,85)\n",
    "        if str(residue.get_parent().id) in allowed_full_chains:\n",
    "            return 1\n",
    "        elif str(residue.get_parent().id) == allowed_partial_chain:\n",
    "            #determine if in allowed range of residues\n",
    "            if res_in_chain_A_allowed[0] <= residue.get_id()[1] <= res_in_chain_A_allowed[1]:\n",
    "                return 1\n",
    "        else:\n",
    "            return 0\n",
    "\n",
    "        \n",
    "io = PDBIO()\n",
    "io.set_structure(structure)\n",
    "#print(structure)\n",
    "# save it\n",
    "io.save('POP6nPOP7nP3domain.pdb', MyLimit())"
   ]
  },
  {
   "cell_type": "markdown",
   "metadata": {},
   "source": [
    "Verify that worked:"
   ]
  },
  {
   "cell_type": "code",
   "execution_count": 58,
   "metadata": {},
   "outputs": [
    {
     "name": "stdout",
     "output_type": "stream",
     "text": [
      "These chains and lengths are represented in the original '6AGB.pdb':\n",
      "<Chain id=A>\n",
      "369\n",
      "<Chain id=B>\n",
      "784\n",
      "<Chain id=C>\n",
      "175\n",
      "<Chain id=D>\n",
      "227\n",
      "<Chain id=E>\n",
      "146\n",
      "<Chain id=F>\n",
      "157\n",
      "<Chain id=G>\n",
      "121\n",
      "<Chain id=H>\n",
      "131\n",
      "<Chain id=I>\n",
      "242\n",
      "<Chain id=J>\n",
      "293\n",
      "<Chain id=K>\n",
      "129\n",
      " \n",
      "A selection of residues 32-85 spans 54 residues.\n",
      "These chains and lengths are represented in the saved file 'POP6nPOP7nP3domain.pdb':\n",
      "<Chain id=A>\n",
      "54\n",
      "<Chain id=F>\n",
      "157\n",
      "<Chain id=G>\n",
      "121\n"
     ]
    }
   ],
   "source": [
    "print (\"These chains and lengths are represented in the original '6AGB.pdb':\")\n",
    "structure = PDBParser().get_structure('6AGB', '6AGB.pdb')\n",
    "for model in structure:\n",
    "    for chain in model:\n",
    "        print (chain)\n",
    "        print (len(chain))\n",
    "print (\" \")\n",
    "print (\"A selection of residues 32-85 spans {} residues.\".format(85-32+1))\n",
    "print (\"These chains and lengths are represented in the saved file 'POP6nPOP7nP3domain.pdb':\")\n",
    "structure = PDBParser().get_structure('P3domain', 'POP6nPOP7nP3domain.pdb')\n",
    "for model in structure:\n",
    "    for chain in model:\n",
    "        print (chain)\n",
    "        print (len(chain))"
   ]
  },
  {
   "cell_type": "markdown",
   "metadata": {},
   "source": [
    "------"
   ]
  }
 ],
 "metadata": {
  "kernelspec": {
   "display_name": "Python 3",
   "language": "python",
   "name": "python3"
  },
  "language_info": {
   "codemirror_mode": {
    "name": "ipython",
    "version": 3
   },
   "file_extension": ".py",
   "mimetype": "text/x-python",
   "name": "python",
   "nbconvert_exporter": "python",
   "pygments_lexer": "ipython3",
   "version": "3.6.6"
  }
 },
 "nbformat": 4,
 "nbformat_minor": 2
}
